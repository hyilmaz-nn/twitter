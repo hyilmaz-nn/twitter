{
  "cells": [
    {
      "cell_type": "code",
      "execution_count": 1,
      "metadata": {
        "id": "E3ccISeMpJbN"
      },
      "outputs": [],
      "source": [
        "import numpy as np\n",
        "import pandas as pd\n"
      ]
    },
    {
      "cell_type": "code",
      "execution_count": 2,
      "metadata": {
        "id": "GBx9i76yuEGT"
      },
      "outputs": [],
      "source": [
        "df = pd.read_csv('/content/sample_data/tweet_data.csv',usecols=range(18))"
      ]
    },
    {
      "cell_type": "code",
      "execution_count": 3,
      "metadata": {
        "colab": {
          "base_uri": "https://localhost:8080/",
          "height": 450
        },
        "id": "qtNk1WQyxwPS",
        "outputId": "904c3421-0eea-4bb6-d205-ac8df012b6aa"
      },
      "outputs": [
        {
          "output_type": "execute_result",
          "data": {
            "text/plain": [
              "               tweetID               crDate  edInput  editor  engages  \\\n",
              "0  1070867471245164544  2018-12-07 02:27:55       -1      -1       98   \n",
              "1  1070868017888837633  2018-12-07 02:30:05       -1      -1       13   \n",
              "2  1070868012864028673  2018-12-07 02:30:04       -1      -1       12   \n",
              "\n",
              "   isApproved  isEdNeed   isRT  likes  \\\n",
              "0       False      True  False     64   \n",
              "1       False      True  False     10   \n",
              "2       False      True  False      8   \n",
              "\n",
              "                                          photoUrl  retweets  rtUsID  \\\n",
              "0  https://pbs.twimg.com/media/Dtx8SiIWkAImVsb.jpg        34      -1   \n",
              "1  https://pbs.twimg.com/media/Dtx8yTyW4AEciqP.jpg         3      -1   \n",
              "2                                              NaN         4      -1   \n",
              "\n",
              "                                                text topicName   usFlwrs  \\\n",
              "0  The immediate impulse for an alliance of the E...  Business  23464532   \n",
              "1  America's economy is flashing some warning sig...  Business   1732809   \n",
              "2  Lyft files for what is expected to be one of t...  Business   2253989   \n",
              "\n",
              "       usID         usName videoUrl  \n",
              "0   5988062  The Economist      NaN  \n",
              "1  16184358   CNN Business      NaN  \n",
              "2  25053299        FORTUNE      NaN  "
            ],
            "text/html": [
              "\n",
              "  <div id=\"df-6d1b24d4-1987-4198-a069-3fc855541795\">\n",
              "    <div class=\"colab-df-container\">\n",
              "      <div>\n",
              "<style scoped>\n",
              "    .dataframe tbody tr th:only-of-type {\n",
              "        vertical-align: middle;\n",
              "    }\n",
              "\n",
              "    .dataframe tbody tr th {\n",
              "        vertical-align: top;\n",
              "    }\n",
              "\n",
              "    .dataframe thead th {\n",
              "        text-align: right;\n",
              "    }\n",
              "</style>\n",
              "<table border=\"1\" class=\"dataframe\">\n",
              "  <thead>\n",
              "    <tr style=\"text-align: right;\">\n",
              "      <th></th>\n",
              "      <th>tweetID</th>\n",
              "      <th>crDate</th>\n",
              "      <th>edInput</th>\n",
              "      <th>editor</th>\n",
              "      <th>engages</th>\n",
              "      <th>isApproved</th>\n",
              "      <th>isEdNeed</th>\n",
              "      <th>isRT</th>\n",
              "      <th>likes</th>\n",
              "      <th>photoUrl</th>\n",
              "      <th>retweets</th>\n",
              "      <th>rtUsID</th>\n",
              "      <th>text</th>\n",
              "      <th>topicName</th>\n",
              "      <th>usFlwrs</th>\n",
              "      <th>usID</th>\n",
              "      <th>usName</th>\n",
              "      <th>videoUrl</th>\n",
              "    </tr>\n",
              "  </thead>\n",
              "  <tbody>\n",
              "    <tr>\n",
              "      <th>0</th>\n",
              "      <td>1070867471245164544</td>\n",
              "      <td>2018-12-07 02:27:55</td>\n",
              "      <td>-1</td>\n",
              "      <td>-1</td>\n",
              "      <td>98</td>\n",
              "      <td>False</td>\n",
              "      <td>True</td>\n",
              "      <td>False</td>\n",
              "      <td>64</td>\n",
              "      <td>https://pbs.twimg.com/media/Dtx8SiIWkAImVsb.jpg</td>\n",
              "      <td>34</td>\n",
              "      <td>-1</td>\n",
              "      <td>The immediate impulse for an alliance of the E...</td>\n",
              "      <td>Business</td>\n",
              "      <td>23464532</td>\n",
              "      <td>5988062</td>\n",
              "      <td>The Economist</td>\n",
              "      <td>NaN</td>\n",
              "    </tr>\n",
              "    <tr>\n",
              "      <th>1</th>\n",
              "      <td>1070868017888837633</td>\n",
              "      <td>2018-12-07 02:30:05</td>\n",
              "      <td>-1</td>\n",
              "      <td>-1</td>\n",
              "      <td>13</td>\n",
              "      <td>False</td>\n",
              "      <td>True</td>\n",
              "      <td>False</td>\n",
              "      <td>10</td>\n",
              "      <td>https://pbs.twimg.com/media/Dtx8yTyW4AEciqP.jpg</td>\n",
              "      <td>3</td>\n",
              "      <td>-1</td>\n",
              "      <td>America's economy is flashing some warning sig...</td>\n",
              "      <td>Business</td>\n",
              "      <td>1732809</td>\n",
              "      <td>16184358</td>\n",
              "      <td>CNN Business</td>\n",
              "      <td>NaN</td>\n",
              "    </tr>\n",
              "    <tr>\n",
              "      <th>2</th>\n",
              "      <td>1070868012864028673</td>\n",
              "      <td>2018-12-07 02:30:04</td>\n",
              "      <td>-1</td>\n",
              "      <td>-1</td>\n",
              "      <td>12</td>\n",
              "      <td>False</td>\n",
              "      <td>True</td>\n",
              "      <td>False</td>\n",
              "      <td>8</td>\n",
              "      <td>NaN</td>\n",
              "      <td>4</td>\n",
              "      <td>-1</td>\n",
              "      <td>Lyft files for what is expected to be one of t...</td>\n",
              "      <td>Business</td>\n",
              "      <td>2253989</td>\n",
              "      <td>25053299</td>\n",
              "      <td>FORTUNE</td>\n",
              "      <td>NaN</td>\n",
              "    </tr>\n",
              "  </tbody>\n",
              "</table>\n",
              "</div>\n",
              "      <button class=\"colab-df-convert\" onclick=\"convertToInteractive('df-6d1b24d4-1987-4198-a069-3fc855541795')\"\n",
              "              title=\"Convert this dataframe to an interactive table.\"\n",
              "              style=\"display:none;\">\n",
              "        \n",
              "  <svg xmlns=\"http://www.w3.org/2000/svg\" height=\"24px\"viewBox=\"0 0 24 24\"\n",
              "       width=\"24px\">\n",
              "    <path d=\"M0 0h24v24H0V0z\" fill=\"none\"/>\n",
              "    <path d=\"M18.56 5.44l.94 2.06.94-2.06 2.06-.94-2.06-.94-.94-2.06-.94 2.06-2.06.94zm-11 1L8.5 8.5l.94-2.06 2.06-.94-2.06-.94L8.5 2.5l-.94 2.06-2.06.94zm10 10l.94 2.06.94-2.06 2.06-.94-2.06-.94-.94-2.06-.94 2.06-2.06.94z\"/><path d=\"M17.41 7.96l-1.37-1.37c-.4-.4-.92-.59-1.43-.59-.52 0-1.04.2-1.43.59L10.3 9.45l-7.72 7.72c-.78.78-.78 2.05 0 2.83L4 21.41c.39.39.9.59 1.41.59.51 0 1.02-.2 1.41-.59l7.78-7.78 2.81-2.81c.8-.78.8-2.07 0-2.86zM5.41 20L4 18.59l7.72-7.72 1.47 1.35L5.41 20z\"/>\n",
              "  </svg>\n",
              "      </button>\n",
              "      \n",
              "  <style>\n",
              "    .colab-df-container {\n",
              "      display:flex;\n",
              "      flex-wrap:wrap;\n",
              "      gap: 12px;\n",
              "    }\n",
              "\n",
              "    .colab-df-convert {\n",
              "      background-color: #E8F0FE;\n",
              "      border: none;\n",
              "      border-radius: 50%;\n",
              "      cursor: pointer;\n",
              "      display: none;\n",
              "      fill: #1967D2;\n",
              "      height: 32px;\n",
              "      padding: 0 0 0 0;\n",
              "      width: 32px;\n",
              "    }\n",
              "\n",
              "    .colab-df-convert:hover {\n",
              "      background-color: #E2EBFA;\n",
              "      box-shadow: 0px 1px 2px rgba(60, 64, 67, 0.3), 0px 1px 3px 1px rgba(60, 64, 67, 0.15);\n",
              "      fill: #174EA6;\n",
              "    }\n",
              "\n",
              "    [theme=dark] .colab-df-convert {\n",
              "      background-color: #3B4455;\n",
              "      fill: #D2E3FC;\n",
              "    }\n",
              "\n",
              "    [theme=dark] .colab-df-convert:hover {\n",
              "      background-color: #434B5C;\n",
              "      box-shadow: 0px 1px 3px 1px rgba(0, 0, 0, 0.15);\n",
              "      filter: drop-shadow(0px 1px 2px rgba(0, 0, 0, 0.3));\n",
              "      fill: #FFFFFF;\n",
              "    }\n",
              "  </style>\n",
              "\n",
              "      <script>\n",
              "        const buttonEl =\n",
              "          document.querySelector('#df-6d1b24d4-1987-4198-a069-3fc855541795 button.colab-df-convert');\n",
              "        buttonEl.style.display =\n",
              "          google.colab.kernel.accessAllowed ? 'block' : 'none';\n",
              "\n",
              "        async function convertToInteractive(key) {\n",
              "          const element = document.querySelector('#df-6d1b24d4-1987-4198-a069-3fc855541795');\n",
              "          const dataTable =\n",
              "            await google.colab.kernel.invokeFunction('convertToInteractive',\n",
              "                                                     [key], {});\n",
              "          if (!dataTable) return;\n",
              "\n",
              "          const docLinkHtml = 'Like what you see? Visit the ' +\n",
              "            '<a target=\"_blank\" href=https://colab.research.google.com/notebooks/data_table.ipynb>data table notebook</a>'\n",
              "            + ' to learn more about interactive tables.';\n",
              "          element.innerHTML = '';\n",
              "          dataTable['output_type'] = 'display_data';\n",
              "          await google.colab.output.renderOutput(dataTable, element);\n",
              "          const docLink = document.createElement('div');\n",
              "          docLink.innerHTML = docLinkHtml;\n",
              "          element.appendChild(docLink);\n",
              "        }\n",
              "      </script>\n",
              "    </div>\n",
              "  </div>\n",
              "  "
            ]
          },
          "metadata": {},
          "execution_count": 3
        }
      ],
      "source": [
        "df.head(3)"
      ]
    },
    {
      "cell_type": "code",
      "execution_count": 4,
      "metadata": {
        "colab": {
          "base_uri": "https://localhost:8080/"
        },
        "id": "rSq3Fs-zzLv7",
        "outputId": "504a1f2c-98ae-4c76-829a-c5bfc747d4ef"
      },
      "outputs": [
        {
          "output_type": "execute_result",
          "data": {
            "text/plain": [
              "Index(['tweetID', 'crDate', 'edInput', 'editor', 'engages', 'isApproved',\n",
              "       'isEdNeed', 'isRT', 'likes', 'photoUrl', 'retweets', 'rtUsID', 'text',\n",
              "       'topicName', 'usFlwrs', 'usID', 'usName', 'videoUrl'],\n",
              "      dtype='object')"
            ]
          },
          "metadata": {},
          "execution_count": 4
        }
      ],
      "source": [
        "df.columns"
      ]
    },
    {
      "cell_type": "code",
      "execution_count": 5,
      "metadata": {
        "id": "TRPzjgZaytSU"
      },
      "outputs": [],
      "source": [
        "df1=df[['text','topicName','edInput','crDate']]"
      ]
    },
    {
      "cell_type": "code",
      "source": [
        "df1.info()"
      ],
      "metadata": {
        "colab": {
          "base_uri": "https://localhost:8080/"
        },
        "id": "MkrMwv-5_emv",
        "outputId": "e7aef800-3847-4b0b-90ef-d3c0f5470796"
      },
      "execution_count": 6,
      "outputs": [
        {
          "output_type": "stream",
          "name": "stdout",
          "text": [
            "<class 'pandas.core.frame.DataFrame'>\n",
            "RangeIndex: 785916 entries, 0 to 785915\n",
            "Data columns (total 4 columns):\n",
            " #   Column     Non-Null Count   Dtype \n",
            "---  ------     --------------   ----- \n",
            " 0   text       785916 non-null  object\n",
            " 1   topicName  785916 non-null  object\n",
            " 2   edInput    785916 non-null  int64 \n",
            " 3   crDate     785916 non-null  object\n",
            "dtypes: int64(1), object(3)\n",
            "memory usage: 24.0+ MB\n"
          ]
        }
      ]
    },
    {
      "cell_type": "code",
      "execution_count": 7,
      "metadata": {
        "colab": {
          "base_uri": "https://localhost:8080/",
          "height": 206
        },
        "id": "SJEiBUpRz_wm",
        "outputId": "4e3dbf2d-d8dd-4cd7-c9cf-b1f30aeb6a64"
      },
      "outputs": [
        {
          "output_type": "execute_result",
          "data": {
            "text/plain": [
              "                                                text topicName  edInput  \\\n",
              "0  The immediate impulse for an alliance of the E...  Business       -1   \n",
              "1  America's economy is flashing some warning sig...  Business       -1   \n",
              "2  Lyft files for what is expected to be one of t...  Business       -1   \n",
              "3  Exporters still waiting to get Rs 6,000 crore ...  Business       -1   \n",
              "4  Ride-hailing firm Lyft races to leave Uber beh...  Business       -1   \n",
              "\n",
              "                crDate  \n",
              "0  2018-12-07 02:27:55  \n",
              "1  2018-12-07 02:30:05  \n",
              "2  2018-12-07 02:30:04  \n",
              "3  2018-12-07 02:30:00  \n",
              "4  2018-12-07 02:30:00  "
            ],
            "text/html": [
              "\n",
              "  <div id=\"df-23ec5d6a-3692-4b61-98d7-2fd4515897f0\">\n",
              "    <div class=\"colab-df-container\">\n",
              "      <div>\n",
              "<style scoped>\n",
              "    .dataframe tbody tr th:only-of-type {\n",
              "        vertical-align: middle;\n",
              "    }\n",
              "\n",
              "    .dataframe tbody tr th {\n",
              "        vertical-align: top;\n",
              "    }\n",
              "\n",
              "    .dataframe thead th {\n",
              "        text-align: right;\n",
              "    }\n",
              "</style>\n",
              "<table border=\"1\" class=\"dataframe\">\n",
              "  <thead>\n",
              "    <tr style=\"text-align: right;\">\n",
              "      <th></th>\n",
              "      <th>text</th>\n",
              "      <th>topicName</th>\n",
              "      <th>edInput</th>\n",
              "      <th>crDate</th>\n",
              "    </tr>\n",
              "  </thead>\n",
              "  <tbody>\n",
              "    <tr>\n",
              "      <th>0</th>\n",
              "      <td>The immediate impulse for an alliance of the E...</td>\n",
              "      <td>Business</td>\n",
              "      <td>-1</td>\n",
              "      <td>2018-12-07 02:27:55</td>\n",
              "    </tr>\n",
              "    <tr>\n",
              "      <th>1</th>\n",
              "      <td>America's economy is flashing some warning sig...</td>\n",
              "      <td>Business</td>\n",
              "      <td>-1</td>\n",
              "      <td>2018-12-07 02:30:05</td>\n",
              "    </tr>\n",
              "    <tr>\n",
              "      <th>2</th>\n",
              "      <td>Lyft files for what is expected to be one of t...</td>\n",
              "      <td>Business</td>\n",
              "      <td>-1</td>\n",
              "      <td>2018-12-07 02:30:04</td>\n",
              "    </tr>\n",
              "    <tr>\n",
              "      <th>3</th>\n",
              "      <td>Exporters still waiting to get Rs 6,000 crore ...</td>\n",
              "      <td>Business</td>\n",
              "      <td>-1</td>\n",
              "      <td>2018-12-07 02:30:00</td>\n",
              "    </tr>\n",
              "    <tr>\n",
              "      <th>4</th>\n",
              "      <td>Ride-hailing firm Lyft races to leave Uber beh...</td>\n",
              "      <td>Business</td>\n",
              "      <td>-1</td>\n",
              "      <td>2018-12-07 02:30:00</td>\n",
              "    </tr>\n",
              "  </tbody>\n",
              "</table>\n",
              "</div>\n",
              "      <button class=\"colab-df-convert\" onclick=\"convertToInteractive('df-23ec5d6a-3692-4b61-98d7-2fd4515897f0')\"\n",
              "              title=\"Convert this dataframe to an interactive table.\"\n",
              "              style=\"display:none;\">\n",
              "        \n",
              "  <svg xmlns=\"http://www.w3.org/2000/svg\" height=\"24px\"viewBox=\"0 0 24 24\"\n",
              "       width=\"24px\">\n",
              "    <path d=\"M0 0h24v24H0V0z\" fill=\"none\"/>\n",
              "    <path d=\"M18.56 5.44l.94 2.06.94-2.06 2.06-.94-2.06-.94-.94-2.06-.94 2.06-2.06.94zm-11 1L8.5 8.5l.94-2.06 2.06-.94-2.06-.94L8.5 2.5l-.94 2.06-2.06.94zm10 10l.94 2.06.94-2.06 2.06-.94-2.06-.94-.94-2.06-.94 2.06-2.06.94z\"/><path d=\"M17.41 7.96l-1.37-1.37c-.4-.4-.92-.59-1.43-.59-.52 0-1.04.2-1.43.59L10.3 9.45l-7.72 7.72c-.78.78-.78 2.05 0 2.83L4 21.41c.39.39.9.59 1.41.59.51 0 1.02-.2 1.41-.59l7.78-7.78 2.81-2.81c.8-.78.8-2.07 0-2.86zM5.41 20L4 18.59l7.72-7.72 1.47 1.35L5.41 20z\"/>\n",
              "  </svg>\n",
              "      </button>\n",
              "      \n",
              "  <style>\n",
              "    .colab-df-container {\n",
              "      display:flex;\n",
              "      flex-wrap:wrap;\n",
              "      gap: 12px;\n",
              "    }\n",
              "\n",
              "    .colab-df-convert {\n",
              "      background-color: #E8F0FE;\n",
              "      border: none;\n",
              "      border-radius: 50%;\n",
              "      cursor: pointer;\n",
              "      display: none;\n",
              "      fill: #1967D2;\n",
              "      height: 32px;\n",
              "      padding: 0 0 0 0;\n",
              "      width: 32px;\n",
              "    }\n",
              "\n",
              "    .colab-df-convert:hover {\n",
              "      background-color: #E2EBFA;\n",
              "      box-shadow: 0px 1px 2px rgba(60, 64, 67, 0.3), 0px 1px 3px 1px rgba(60, 64, 67, 0.15);\n",
              "      fill: #174EA6;\n",
              "    }\n",
              "\n",
              "    [theme=dark] .colab-df-convert {\n",
              "      background-color: #3B4455;\n",
              "      fill: #D2E3FC;\n",
              "    }\n",
              "\n",
              "    [theme=dark] .colab-df-convert:hover {\n",
              "      background-color: #434B5C;\n",
              "      box-shadow: 0px 1px 3px 1px rgba(0, 0, 0, 0.15);\n",
              "      filter: drop-shadow(0px 1px 2px rgba(0, 0, 0, 0.3));\n",
              "      fill: #FFFFFF;\n",
              "    }\n",
              "  </style>\n",
              "\n",
              "      <script>\n",
              "        const buttonEl =\n",
              "          document.querySelector('#df-23ec5d6a-3692-4b61-98d7-2fd4515897f0 button.colab-df-convert');\n",
              "        buttonEl.style.display =\n",
              "          google.colab.kernel.accessAllowed ? 'block' : 'none';\n",
              "\n",
              "        async function convertToInteractive(key) {\n",
              "          const element = document.querySelector('#df-23ec5d6a-3692-4b61-98d7-2fd4515897f0');\n",
              "          const dataTable =\n",
              "            await google.colab.kernel.invokeFunction('convertToInteractive',\n",
              "                                                     [key], {});\n",
              "          if (!dataTable) return;\n",
              "\n",
              "          const docLinkHtml = 'Like what you see? Visit the ' +\n",
              "            '<a target=\"_blank\" href=https://colab.research.google.com/notebooks/data_table.ipynb>data table notebook</a>'\n",
              "            + ' to learn more about interactive tables.';\n",
              "          element.innerHTML = '';\n",
              "          dataTable['output_type'] = 'display_data';\n",
              "          await google.colab.output.renderOutput(dataTable, element);\n",
              "          const docLink = document.createElement('div');\n",
              "          docLink.innerHTML = docLinkHtml;\n",
              "          element.appendChild(docLink);\n",
              "        }\n",
              "      </script>\n",
              "    </div>\n",
              "  </div>\n",
              "  "
            ]
          },
          "metadata": {},
          "execution_count": 7
        }
      ],
      "source": [
        "df1.head()"
      ]
    },
    {
      "cell_type": "code",
      "execution_count": 8,
      "metadata": {
        "colab": {
          "base_uri": "https://localhost:8080/"
        },
        "id": "hjAziji-0e9h",
        "outputId": "a9eb3507-8868-456e-a6d7-d93742ea92a7"
      },
      "outputs": [
        {
          "output_type": "execute_result",
          "data": {
            "text/plain": [
              "array([-1,  1,  2,  3,  4])"
            ]
          },
          "metadata": {},
          "execution_count": 8
        }
      ],
      "source": [
        "df1['edInput'].unique()"
      ]
    },
    {
      "cell_type": "code",
      "source": [
        "df1.isna().sum()"
      ],
      "metadata": {
        "colab": {
          "base_uri": "https://localhost:8080/"
        },
        "id": "j8tKThIR_R-L",
        "outputId": "14d2cf6a-2008-41ad-dd5b-019bb3fcb0bb"
      },
      "execution_count": 9,
      "outputs": [
        {
          "output_type": "execute_result",
          "data": {
            "text/plain": [
              "text         0\n",
              "topicName    0\n",
              "edInput      0\n",
              "crDate       0\n",
              "dtype: int64"
            ]
          },
          "metadata": {},
          "execution_count": 9
        }
      ]
    },
    {
      "cell_type": "code",
      "execution_count": 10,
      "metadata": {
        "colab": {
          "base_uri": "https://localhost:8080/"
        },
        "id": "-X-Ullzp1Rp5",
        "outputId": "f4aa9745-9b52-4b03-ec68-7629de2637a5"
      },
      "outputs": [
        {
          "output_type": "execute_result",
          "data": {
            "text/plain": [
              "array(['Business', 'Animal', 'Memes', 'Nature', 'Travel', 'Interesting',\n",
              "       'News', 'Fashion', 'Art', 'Personal Development', 'Motivational',\n",
              "       'DIY & Craft', 'Editorial Pics', 'Funny', 'Poem', 'World Leaders',\n",
              "       'Entrepreneurship', 'US News', 'Journalists', 'Flowers',\n",
              "       'Cryptocurrency', 'Photography', 'Design & Architecture',\n",
              "       'Fitness', 'Spirituality', 'Startup', 'Space', 'Technology',\n",
              "       'Digital Media & Internet', 'Psychology', 'Science', 'Basketball',\n",
              "       'Humor', 'Mindfulness', 'Medical', 'Informative', 'Love', 'Stocks',\n",
              "       'Nanotech', 'Biotech', 'science', 'Random'], dtype=object)"
            ]
          },
          "metadata": {},
          "execution_count": 10
        }
      ],
      "source": [
        "df1.topicName.unique()"
      ]
    },
    {
      "cell_type": "code",
      "execution_count": 11,
      "metadata": {
        "colab": {
          "base_uri": "https://localhost:8080/",
          "height": 206
        },
        "id": "XFMk1y_h27jo",
        "outputId": "06ce0245-24df-4748-8001-3071c272e70a"
      },
      "outputs": [
        {
          "output_type": "execute_result",
          "data": {
            "text/plain": [
              "                                                text topicName  edInput  \\\n",
              "0  The immediate impulse for an alliance of the E...  Business       -1   \n",
              "1  America's economy is flashing some warning sig...  Business       -1   \n",
              "2  Lyft files for what is expected to be one of t...  Business       -1   \n",
              "3  Exporters still waiting to get Rs 6,000 crore ...  Business       -1   \n",
              "4  Ride-hailing firm Lyft races to leave Uber beh...  Business       -1   \n",
              "\n",
              "                crDate  \n",
              "0  2018-12-07 02:27:55  \n",
              "1  2018-12-07 02:30:05  \n",
              "2  2018-12-07 02:30:04  \n",
              "3  2018-12-07 02:30:00  \n",
              "4  2018-12-07 02:30:00  "
            ],
            "text/html": [
              "\n",
              "  <div id=\"df-6a2b3ad9-b743-42c2-8bc0-c0ae8168069b\">\n",
              "    <div class=\"colab-df-container\">\n",
              "      <div>\n",
              "<style scoped>\n",
              "    .dataframe tbody tr th:only-of-type {\n",
              "        vertical-align: middle;\n",
              "    }\n",
              "\n",
              "    .dataframe tbody tr th {\n",
              "        vertical-align: top;\n",
              "    }\n",
              "\n",
              "    .dataframe thead th {\n",
              "        text-align: right;\n",
              "    }\n",
              "</style>\n",
              "<table border=\"1\" class=\"dataframe\">\n",
              "  <thead>\n",
              "    <tr style=\"text-align: right;\">\n",
              "      <th></th>\n",
              "      <th>text</th>\n",
              "      <th>topicName</th>\n",
              "      <th>edInput</th>\n",
              "      <th>crDate</th>\n",
              "    </tr>\n",
              "  </thead>\n",
              "  <tbody>\n",
              "    <tr>\n",
              "      <th>0</th>\n",
              "      <td>The immediate impulse for an alliance of the E...</td>\n",
              "      <td>Business</td>\n",
              "      <td>-1</td>\n",
              "      <td>2018-12-07 02:27:55</td>\n",
              "    </tr>\n",
              "    <tr>\n",
              "      <th>1</th>\n",
              "      <td>America's economy is flashing some warning sig...</td>\n",
              "      <td>Business</td>\n",
              "      <td>-1</td>\n",
              "      <td>2018-12-07 02:30:05</td>\n",
              "    </tr>\n",
              "    <tr>\n",
              "      <th>2</th>\n",
              "      <td>Lyft files for what is expected to be one of t...</td>\n",
              "      <td>Business</td>\n",
              "      <td>-1</td>\n",
              "      <td>2018-12-07 02:30:04</td>\n",
              "    </tr>\n",
              "    <tr>\n",
              "      <th>3</th>\n",
              "      <td>Exporters still waiting to get Rs 6,000 crore ...</td>\n",
              "      <td>Business</td>\n",
              "      <td>-1</td>\n",
              "      <td>2018-12-07 02:30:00</td>\n",
              "    </tr>\n",
              "    <tr>\n",
              "      <th>4</th>\n",
              "      <td>Ride-hailing firm Lyft races to leave Uber beh...</td>\n",
              "      <td>Business</td>\n",
              "      <td>-1</td>\n",
              "      <td>2018-12-07 02:30:00</td>\n",
              "    </tr>\n",
              "  </tbody>\n",
              "</table>\n",
              "</div>\n",
              "      <button class=\"colab-df-convert\" onclick=\"convertToInteractive('df-6a2b3ad9-b743-42c2-8bc0-c0ae8168069b')\"\n",
              "              title=\"Convert this dataframe to an interactive table.\"\n",
              "              style=\"display:none;\">\n",
              "        \n",
              "  <svg xmlns=\"http://www.w3.org/2000/svg\" height=\"24px\"viewBox=\"0 0 24 24\"\n",
              "       width=\"24px\">\n",
              "    <path d=\"M0 0h24v24H0V0z\" fill=\"none\"/>\n",
              "    <path d=\"M18.56 5.44l.94 2.06.94-2.06 2.06-.94-2.06-.94-.94-2.06-.94 2.06-2.06.94zm-11 1L8.5 8.5l.94-2.06 2.06-.94-2.06-.94L8.5 2.5l-.94 2.06-2.06.94zm10 10l.94 2.06.94-2.06 2.06-.94-2.06-.94-.94-2.06-.94 2.06-2.06.94z\"/><path d=\"M17.41 7.96l-1.37-1.37c-.4-.4-.92-.59-1.43-.59-.52 0-1.04.2-1.43.59L10.3 9.45l-7.72 7.72c-.78.78-.78 2.05 0 2.83L4 21.41c.39.39.9.59 1.41.59.51 0 1.02-.2 1.41-.59l7.78-7.78 2.81-2.81c.8-.78.8-2.07 0-2.86zM5.41 20L4 18.59l7.72-7.72 1.47 1.35L5.41 20z\"/>\n",
              "  </svg>\n",
              "      </button>\n",
              "      \n",
              "  <style>\n",
              "    .colab-df-container {\n",
              "      display:flex;\n",
              "      flex-wrap:wrap;\n",
              "      gap: 12px;\n",
              "    }\n",
              "\n",
              "    .colab-df-convert {\n",
              "      background-color: #E8F0FE;\n",
              "      border: none;\n",
              "      border-radius: 50%;\n",
              "      cursor: pointer;\n",
              "      display: none;\n",
              "      fill: #1967D2;\n",
              "      height: 32px;\n",
              "      padding: 0 0 0 0;\n",
              "      width: 32px;\n",
              "    }\n",
              "\n",
              "    .colab-df-convert:hover {\n",
              "      background-color: #E2EBFA;\n",
              "      box-shadow: 0px 1px 2px rgba(60, 64, 67, 0.3), 0px 1px 3px 1px rgba(60, 64, 67, 0.15);\n",
              "      fill: #174EA6;\n",
              "    }\n",
              "\n",
              "    [theme=dark] .colab-df-convert {\n",
              "      background-color: #3B4455;\n",
              "      fill: #D2E3FC;\n",
              "    }\n",
              "\n",
              "    [theme=dark] .colab-df-convert:hover {\n",
              "      background-color: #434B5C;\n",
              "      box-shadow: 0px 1px 3px 1px rgba(0, 0, 0, 0.15);\n",
              "      filter: drop-shadow(0px 1px 2px rgba(0, 0, 0, 0.3));\n",
              "      fill: #FFFFFF;\n",
              "    }\n",
              "  </style>\n",
              "\n",
              "      <script>\n",
              "        const buttonEl =\n",
              "          document.querySelector('#df-6a2b3ad9-b743-42c2-8bc0-c0ae8168069b button.colab-df-convert');\n",
              "        buttonEl.style.display =\n",
              "          google.colab.kernel.accessAllowed ? 'block' : 'none';\n",
              "\n",
              "        async function convertToInteractive(key) {\n",
              "          const element = document.querySelector('#df-6a2b3ad9-b743-42c2-8bc0-c0ae8168069b');\n",
              "          const dataTable =\n",
              "            await google.colab.kernel.invokeFunction('convertToInteractive',\n",
              "                                                     [key], {});\n",
              "          if (!dataTable) return;\n",
              "\n",
              "          const docLinkHtml = 'Like what you see? Visit the ' +\n",
              "            '<a target=\"_blank\" href=https://colab.research.google.com/notebooks/data_table.ipynb>data table notebook</a>'\n",
              "            + ' to learn more about interactive tables.';\n",
              "          element.innerHTML = '';\n",
              "          dataTable['output_type'] = 'display_data';\n",
              "          await google.colab.output.renderOutput(dataTable, element);\n",
              "          const docLink = document.createElement('div');\n",
              "          docLink.innerHTML = docLinkHtml;\n",
              "          element.appendChild(docLink);\n",
              "        }\n",
              "      </script>\n",
              "    </div>\n",
              "  </div>\n",
              "  "
            ]
          },
          "metadata": {},
          "execution_count": 11
        }
      ],
      "source": [
        "df2=df1[df1['topicName']=='Business']\n",
        "df2.head()"
      ]
    },
    {
      "cell_type": "code",
      "execution_count": 12,
      "metadata": {
        "colab": {
          "base_uri": "https://localhost:8080/",
          "height": 206
        },
        "id": "9oOsSUWlF73h",
        "outputId": "0be9c651-31a5-48f1-f8e4-ab6453d6386a"
      },
      "outputs": [
        {
          "output_type": "execute_result",
          "data": {
            "text/plain": [
              "                                                    text topicName  edInput  \\\n",
              "12252  UK Prime Minister Theresa May will face a vote...  Business        2   \n",
              "14042  UK PM Theresa May wins confidence vote with 20...  Business        2   \n",
              "16954  The probe of the inaugural fund partly arises ...  Business        2   \n",
              "18004  The week Brexit hit the brick wall :  Commons ...  Business        1   \n",
              "18396  Have watched these kinds of pictures looking f...  Business        2   \n",
              "\n",
              "                    crDate  \n",
              "12252  2018-12-12 07:43:04  \n",
              "14042  2018-12-12 21:02:31  \n",
              "16954  2018-12-13 21:30:32  \n",
              "18004  2018-12-14 08:46:49  \n",
              "18396  2018-12-14 11:38:58  "
            ],
            "text/html": [
              "\n",
              "  <div id=\"df-9c3b227a-52f1-49af-8992-6d80f4e84d92\">\n",
              "    <div class=\"colab-df-container\">\n",
              "      <div>\n",
              "<style scoped>\n",
              "    .dataframe tbody tr th:only-of-type {\n",
              "        vertical-align: middle;\n",
              "    }\n",
              "\n",
              "    .dataframe tbody tr th {\n",
              "        vertical-align: top;\n",
              "    }\n",
              "\n",
              "    .dataframe thead th {\n",
              "        text-align: right;\n",
              "    }\n",
              "</style>\n",
              "<table border=\"1\" class=\"dataframe\">\n",
              "  <thead>\n",
              "    <tr style=\"text-align: right;\">\n",
              "      <th></th>\n",
              "      <th>text</th>\n",
              "      <th>topicName</th>\n",
              "      <th>edInput</th>\n",
              "      <th>crDate</th>\n",
              "    </tr>\n",
              "  </thead>\n",
              "  <tbody>\n",
              "    <tr>\n",
              "      <th>12252</th>\n",
              "      <td>UK Prime Minister Theresa May will face a vote...</td>\n",
              "      <td>Business</td>\n",
              "      <td>2</td>\n",
              "      <td>2018-12-12 07:43:04</td>\n",
              "    </tr>\n",
              "    <tr>\n",
              "      <th>14042</th>\n",
              "      <td>UK PM Theresa May wins confidence vote with 20...</td>\n",
              "      <td>Business</td>\n",
              "      <td>2</td>\n",
              "      <td>2018-12-12 21:02:31</td>\n",
              "    </tr>\n",
              "    <tr>\n",
              "      <th>16954</th>\n",
              "      <td>The probe of the inaugural fund partly arises ...</td>\n",
              "      <td>Business</td>\n",
              "      <td>2</td>\n",
              "      <td>2018-12-13 21:30:32</td>\n",
              "    </tr>\n",
              "    <tr>\n",
              "      <th>18004</th>\n",
              "      <td>The week Brexit hit the brick wall :  Commons ...</td>\n",
              "      <td>Business</td>\n",
              "      <td>1</td>\n",
              "      <td>2018-12-14 08:46:49</td>\n",
              "    </tr>\n",
              "    <tr>\n",
              "      <th>18396</th>\n",
              "      <td>Have watched these kinds of pictures looking f...</td>\n",
              "      <td>Business</td>\n",
              "      <td>2</td>\n",
              "      <td>2018-12-14 11:38:58</td>\n",
              "    </tr>\n",
              "  </tbody>\n",
              "</table>\n",
              "</div>\n",
              "      <button class=\"colab-df-convert\" onclick=\"convertToInteractive('df-9c3b227a-52f1-49af-8992-6d80f4e84d92')\"\n",
              "              title=\"Convert this dataframe to an interactive table.\"\n",
              "              style=\"display:none;\">\n",
              "        \n",
              "  <svg xmlns=\"http://www.w3.org/2000/svg\" height=\"24px\"viewBox=\"0 0 24 24\"\n",
              "       width=\"24px\">\n",
              "    <path d=\"M0 0h24v24H0V0z\" fill=\"none\"/>\n",
              "    <path d=\"M18.56 5.44l.94 2.06.94-2.06 2.06-.94-2.06-.94-.94-2.06-.94 2.06-2.06.94zm-11 1L8.5 8.5l.94-2.06 2.06-.94-2.06-.94L8.5 2.5l-.94 2.06-2.06.94zm10 10l.94 2.06.94-2.06 2.06-.94-2.06-.94-.94-2.06-.94 2.06-2.06.94z\"/><path d=\"M17.41 7.96l-1.37-1.37c-.4-.4-.92-.59-1.43-.59-.52 0-1.04.2-1.43.59L10.3 9.45l-7.72 7.72c-.78.78-.78 2.05 0 2.83L4 21.41c.39.39.9.59 1.41.59.51 0 1.02-.2 1.41-.59l7.78-7.78 2.81-2.81c.8-.78.8-2.07 0-2.86zM5.41 20L4 18.59l7.72-7.72 1.47 1.35L5.41 20z\"/>\n",
              "  </svg>\n",
              "      </button>\n",
              "      \n",
              "  <style>\n",
              "    .colab-df-container {\n",
              "      display:flex;\n",
              "      flex-wrap:wrap;\n",
              "      gap: 12px;\n",
              "    }\n",
              "\n",
              "    .colab-df-convert {\n",
              "      background-color: #E8F0FE;\n",
              "      border: none;\n",
              "      border-radius: 50%;\n",
              "      cursor: pointer;\n",
              "      display: none;\n",
              "      fill: #1967D2;\n",
              "      height: 32px;\n",
              "      padding: 0 0 0 0;\n",
              "      width: 32px;\n",
              "    }\n",
              "\n",
              "    .colab-df-convert:hover {\n",
              "      background-color: #E2EBFA;\n",
              "      box-shadow: 0px 1px 2px rgba(60, 64, 67, 0.3), 0px 1px 3px 1px rgba(60, 64, 67, 0.15);\n",
              "      fill: #174EA6;\n",
              "    }\n",
              "\n",
              "    [theme=dark] .colab-df-convert {\n",
              "      background-color: #3B4455;\n",
              "      fill: #D2E3FC;\n",
              "    }\n",
              "\n",
              "    [theme=dark] .colab-df-convert:hover {\n",
              "      background-color: #434B5C;\n",
              "      box-shadow: 0px 1px 3px 1px rgba(0, 0, 0, 0.15);\n",
              "      filter: drop-shadow(0px 1px 2px rgba(0, 0, 0, 0.3));\n",
              "      fill: #FFFFFF;\n",
              "    }\n",
              "  </style>\n",
              "\n",
              "      <script>\n",
              "        const buttonEl =\n",
              "          document.querySelector('#df-9c3b227a-52f1-49af-8992-6d80f4e84d92 button.colab-df-convert');\n",
              "        buttonEl.style.display =\n",
              "          google.colab.kernel.accessAllowed ? 'block' : 'none';\n",
              "\n",
              "        async function convertToInteractive(key) {\n",
              "          const element = document.querySelector('#df-9c3b227a-52f1-49af-8992-6d80f4e84d92');\n",
              "          const dataTable =\n",
              "            await google.colab.kernel.invokeFunction('convertToInteractive',\n",
              "                                                     [key], {});\n",
              "          if (!dataTable) return;\n",
              "\n",
              "          const docLinkHtml = 'Like what you see? Visit the ' +\n",
              "            '<a target=\"_blank\" href=https://colab.research.google.com/notebooks/data_table.ipynb>data table notebook</a>'\n",
              "            + ' to learn more about interactive tables.';\n",
              "          element.innerHTML = '';\n",
              "          dataTable['output_type'] = 'display_data';\n",
              "          await google.colab.output.renderOutput(dataTable, element);\n",
              "          const docLink = document.createElement('div');\n",
              "          docLink.innerHTML = docLinkHtml;\n",
              "          element.appendChild(docLink);\n",
              "        }\n",
              "      </script>\n",
              "    </div>\n",
              "  </div>\n",
              "  "
            ]
          },
          "metadata": {},
          "execution_count": 12
        }
      ],
      "source": [
        "df2=df2[(df2['edInput']== 1) | (df2['edInput']== 2)]\n",
        "df2.head()"
      ]
    },
    {
      "cell_type": "code",
      "source": [
        "df2.info()"
      ],
      "metadata": {
        "colab": {
          "base_uri": "https://localhost:8080/"
        },
        "id": "-BMFqi-GS_69",
        "outputId": "4a60b5f8-1e33-4eb8-9cbd-bd79b35d3fbd"
      },
      "execution_count": 13,
      "outputs": [
        {
          "output_type": "stream",
          "name": "stdout",
          "text": [
            "<class 'pandas.core.frame.DataFrame'>\n",
            "Int64Index: 30024 entries, 12252 to 785854\n",
            "Data columns (total 4 columns):\n",
            " #   Column     Non-Null Count  Dtype \n",
            "---  ------     --------------  ----- \n",
            " 0   text       30024 non-null  object\n",
            " 1   topicName  30024 non-null  object\n",
            " 2   edInput    30024 non-null  int64 \n",
            " 3   crDate     30024 non-null  object\n",
            "dtypes: int64(1), object(3)\n",
            "memory usage: 1.1+ MB\n"
          ]
        }
      ]
    },
    {
      "cell_type": "code",
      "execution_count": 14,
      "metadata": {
        "colab": {
          "base_uri": "https://localhost:8080/"
        },
        "id": "1sj0M4nseqFO",
        "outputId": "d99b89b0-0af1-4be1-d627-3ca8853ffe77"
      },
      "outputs": [
        {
          "output_type": "execute_result",
          "data": {
            "text/plain": [
              "1    17836\n",
              "2    12188\n",
              "Name: edInput, dtype: int64"
            ]
          },
          "metadata": {},
          "execution_count": 14
        }
      ],
      "source": [
        "df2.edInput.value_counts()"
      ]
    },
    {
      "cell_type": "code",
      "source": [
        "df2['edInput'].unique()"
      ],
      "metadata": {
        "colab": {
          "base_uri": "https://localhost:8080/"
        },
        "id": "1mR-cb34R0Iq",
        "outputId": "195145de-e2fe-49b6-dfe5-e4a50c68f705"
      },
      "execution_count": 15,
      "outputs": [
        {
          "output_type": "execute_result",
          "data": {
            "text/plain": [
              "array([2, 1])"
            ]
          },
          "metadata": {},
          "execution_count": 15
        }
      ]
    },
    {
      "cell_type": "code",
      "source": [
        "df2.edInput.value_counts()"
      ],
      "metadata": {
        "colab": {
          "base_uri": "https://localhost:8080/"
        },
        "id": "RWZD3DmOOhrl",
        "outputId": "61e41690-c7c0-4b3e-db86-49e8b6c9d7fa"
      },
      "execution_count": 16,
      "outputs": [
        {
          "output_type": "execute_result",
          "data": {
            "text/plain": [
              "1    17836\n",
              "2    12188\n",
              "Name: edInput, dtype: int64"
            ]
          },
          "metadata": {},
          "execution_count": 16
        }
      ]
    },
    {
      "cell_type": "code",
      "execution_count": 17,
      "metadata": {
        "colab": {
          "base_uri": "https://localhost:8080/",
          "height": 35
        },
        "id": "Lz7rWRz3h19e",
        "outputId": "ee5cf56e-53ae-4033-81d6-610923c584a2"
      },
      "outputs": [
        {
          "output_type": "execute_result",
          "data": {
            "text/plain": [
              "'JUST IN: U.S. adds 312,000 jobs in December and wages top estimates https://t.co/ET36p7E93Q https://t.co/Konm3Wmmgq'"
            ],
            "application/vnd.google.colaboratory.intrinsic+json": {
              "type": "string"
            }
          },
          "metadata": {},
          "execution_count": 17
        }
      ],
      "source": [
        "df2['text'].iloc[111]"
      ]
    },
    {
      "cell_type": "code",
      "source": [
        "df2['text'].iloc[1003]"
      ],
      "metadata": {
        "colab": {
          "base_uri": "https://localhost:8080/",
          "height": 35
        },
        "id": "WSmxVR_UmA6D",
        "outputId": "994bb847-4a0a-4741-d8f8-56d165489e83"
      },
      "execution_count": 18,
      "outputs": [
        {
          "output_type": "execute_result",
          "data": {
            "text/plain": [
              "\"Here's why soccer players overreact to the slightest foul during a match https://t.co/i5sii9XMjL\""
            ],
            "application/vnd.google.colaboratory.intrinsic+json": {
              "type": "string"
            }
          },
          "metadata": {},
          "execution_count": 18
        }
      ]
    },
    {
      "cell_type": "code",
      "execution_count": 19,
      "metadata": {
        "id": "NwkRUVJvjxrH"
      },
      "outputs": [],
      "source": [
        "#Removing urls\n",
        "\n",
        "import re\n",
        "\n",
        "def remove_urls(txt):\n",
        "    txt = re.sub(r'https?:\\/\\/\\S+', '', txt)\n",
        "    return txt\n",
        "\n",
        "df2['text'] = df2['text'].apply(lambda x: remove_urls(x))"
      ]
    },
    {
      "cell_type": "code",
      "source": [
        "df2['text'].iloc[111]"
      ],
      "metadata": {
        "colab": {
          "base_uri": "https://localhost:8080/",
          "height": 35
        },
        "id": "t9GflftLD5iK",
        "outputId": "d52e0a06-9ffa-4171-fb55-698106b19ec8"
      },
      "execution_count": 20,
      "outputs": [
        {
          "output_type": "execute_result",
          "data": {
            "text/plain": [
              "'JUST IN: U.S. adds 312,000 jobs in December and wages top estimates  '"
            ],
            "application/vnd.google.colaboratory.intrinsic+json": {
              "type": "string"
            }
          },
          "metadata": {},
          "execution_count": 20
        }
      ]
    },
    {
      "cell_type": "code",
      "source": [
        "df2['text'].iloc[1003]"
      ],
      "metadata": {
        "colab": {
          "base_uri": "https://localhost:8080/",
          "height": 35
        },
        "id": "7RnwK5crmMG5",
        "outputId": "e3157a49-86f1-4a35-bcc4-8e15e66f1d6b"
      },
      "execution_count": 21,
      "outputs": [
        {
          "output_type": "execute_result",
          "data": {
            "text/plain": [
              "\"Here's why soccer players overreact to the slightest foul during a match \""
            ],
            "application/vnd.google.colaboratory.intrinsic+json": {
              "type": "string"
            }
          },
          "metadata": {},
          "execution_count": 21
        }
      ]
    },
    {
      "cell_type": "markdown",
      "source": [
        "# Lemmatization"
      ],
      "metadata": {
        "id": "EPlubcrelael"
      }
    },
    {
      "cell_type": "code",
      "source": [
        "df3=df2.copy()"
      ],
      "metadata": {
        "id": "umuoEjzqnUM6"
      },
      "execution_count": 22,
      "outputs": []
    },
    {
      "cell_type": "code",
      "source": [
        "import nltk\n",
        "from nltk.stem import WordNetLemmatizer\n",
        "from nltk.tokenize import word_tokenize\n",
        "nltk.download('punkt')\n",
        "nltk.download('wordnet')\n",
        "\n",
        "# create a lemmatizer object\n",
        "lemmatizer = WordNetLemmatizer()\n",
        "\n",
        "# define a function to lemmatize a sentence\n",
        "def lemmatize_tweet(tweet):\n",
        "    tweet_words = word_tokenize(tweet)\n",
        "    # lemmatize each word using the WordNet lemmatizer\n",
        "    lemmatized_words = [lemmatizer.lemmatize(word) for word in tweet_words]\n",
        "    lemmatized_sentence = \" \".join(lemmatized_words)\n",
        "    return lemmatized_sentence\n",
        "\n",
        "# apply the lemmatize_sentence function to a pandas dataframe column\n",
        "df3['text'] = df3['text'].apply(lemmatize_tweet)\n",
        "df3.head()"
      ],
      "metadata": {
        "colab": {
          "base_uri": "https://localhost:8080/",
          "height": 258
        },
        "id": "JwhghM-Bky_m",
        "outputId": "1e75db91-f7e4-4724-8a88-10ad50a47041"
      },
      "execution_count": 23,
      "outputs": [
        {
          "output_type": "stream",
          "name": "stderr",
          "text": [
            "[nltk_data] Downloading package punkt to /root/nltk_data...\n",
            "[nltk_data]   Unzipping tokenizers/punkt.zip.\n",
            "[nltk_data] Downloading package wordnet to /root/nltk_data...\n"
          ]
        },
        {
          "output_type": "execute_result",
          "data": {
            "text/plain": [
              "                                                    text topicName  edInput  \\\n",
              "12252  UK Prime Minister Theresa May will face a vote...  Business        2   \n",
              "14042  UK PM Theresa May win confidence vote with 200...  Business        2   \n",
              "16954  The probe of the inaugural fund partly arises ...  Business        2   \n",
              "18004  The week Brexit hit the brick wall : Commons w...  Business        1   \n",
              "18396  Have watched these kind of picture looking for...  Business        2   \n",
              "\n",
              "                    crDate  \n",
              "12252  2018-12-12 07:43:04  \n",
              "14042  2018-12-12 21:02:31  \n",
              "16954  2018-12-13 21:30:32  \n",
              "18004  2018-12-14 08:46:49  \n",
              "18396  2018-12-14 11:38:58  "
            ],
            "text/html": [
              "\n",
              "  <div id=\"df-cc98bc73-3940-4011-a94e-c30b0e338e67\">\n",
              "    <div class=\"colab-df-container\">\n",
              "      <div>\n",
              "<style scoped>\n",
              "    .dataframe tbody tr th:only-of-type {\n",
              "        vertical-align: middle;\n",
              "    }\n",
              "\n",
              "    .dataframe tbody tr th {\n",
              "        vertical-align: top;\n",
              "    }\n",
              "\n",
              "    .dataframe thead th {\n",
              "        text-align: right;\n",
              "    }\n",
              "</style>\n",
              "<table border=\"1\" class=\"dataframe\">\n",
              "  <thead>\n",
              "    <tr style=\"text-align: right;\">\n",
              "      <th></th>\n",
              "      <th>text</th>\n",
              "      <th>topicName</th>\n",
              "      <th>edInput</th>\n",
              "      <th>crDate</th>\n",
              "    </tr>\n",
              "  </thead>\n",
              "  <tbody>\n",
              "    <tr>\n",
              "      <th>12252</th>\n",
              "      <td>UK Prime Minister Theresa May will face a vote...</td>\n",
              "      <td>Business</td>\n",
              "      <td>2</td>\n",
              "      <td>2018-12-12 07:43:04</td>\n",
              "    </tr>\n",
              "    <tr>\n",
              "      <th>14042</th>\n",
              "      <td>UK PM Theresa May win confidence vote with 200...</td>\n",
              "      <td>Business</td>\n",
              "      <td>2</td>\n",
              "      <td>2018-12-12 21:02:31</td>\n",
              "    </tr>\n",
              "    <tr>\n",
              "      <th>16954</th>\n",
              "      <td>The probe of the inaugural fund partly arises ...</td>\n",
              "      <td>Business</td>\n",
              "      <td>2</td>\n",
              "      <td>2018-12-13 21:30:32</td>\n",
              "    </tr>\n",
              "    <tr>\n",
              "      <th>18004</th>\n",
              "      <td>The week Brexit hit the brick wall : Commons w...</td>\n",
              "      <td>Business</td>\n",
              "      <td>1</td>\n",
              "      <td>2018-12-14 08:46:49</td>\n",
              "    </tr>\n",
              "    <tr>\n",
              "      <th>18396</th>\n",
              "      <td>Have watched these kind of picture looking for...</td>\n",
              "      <td>Business</td>\n",
              "      <td>2</td>\n",
              "      <td>2018-12-14 11:38:58</td>\n",
              "    </tr>\n",
              "  </tbody>\n",
              "</table>\n",
              "</div>\n",
              "      <button class=\"colab-df-convert\" onclick=\"convertToInteractive('df-cc98bc73-3940-4011-a94e-c30b0e338e67')\"\n",
              "              title=\"Convert this dataframe to an interactive table.\"\n",
              "              style=\"display:none;\">\n",
              "        \n",
              "  <svg xmlns=\"http://www.w3.org/2000/svg\" height=\"24px\"viewBox=\"0 0 24 24\"\n",
              "       width=\"24px\">\n",
              "    <path d=\"M0 0h24v24H0V0z\" fill=\"none\"/>\n",
              "    <path d=\"M18.56 5.44l.94 2.06.94-2.06 2.06-.94-2.06-.94-.94-2.06-.94 2.06-2.06.94zm-11 1L8.5 8.5l.94-2.06 2.06-.94-2.06-.94L8.5 2.5l-.94 2.06-2.06.94zm10 10l.94 2.06.94-2.06 2.06-.94-2.06-.94-.94-2.06-.94 2.06-2.06.94z\"/><path d=\"M17.41 7.96l-1.37-1.37c-.4-.4-.92-.59-1.43-.59-.52 0-1.04.2-1.43.59L10.3 9.45l-7.72 7.72c-.78.78-.78 2.05 0 2.83L4 21.41c.39.39.9.59 1.41.59.51 0 1.02-.2 1.41-.59l7.78-7.78 2.81-2.81c.8-.78.8-2.07 0-2.86zM5.41 20L4 18.59l7.72-7.72 1.47 1.35L5.41 20z\"/>\n",
              "  </svg>\n",
              "      </button>\n",
              "      \n",
              "  <style>\n",
              "    .colab-df-container {\n",
              "      display:flex;\n",
              "      flex-wrap:wrap;\n",
              "      gap: 12px;\n",
              "    }\n",
              "\n",
              "    .colab-df-convert {\n",
              "      background-color: #E8F0FE;\n",
              "      border: none;\n",
              "      border-radius: 50%;\n",
              "      cursor: pointer;\n",
              "      display: none;\n",
              "      fill: #1967D2;\n",
              "      height: 32px;\n",
              "      padding: 0 0 0 0;\n",
              "      width: 32px;\n",
              "    }\n",
              "\n",
              "    .colab-df-convert:hover {\n",
              "      background-color: #E2EBFA;\n",
              "      box-shadow: 0px 1px 2px rgba(60, 64, 67, 0.3), 0px 1px 3px 1px rgba(60, 64, 67, 0.15);\n",
              "      fill: #174EA6;\n",
              "    }\n",
              "\n",
              "    [theme=dark] .colab-df-convert {\n",
              "      background-color: #3B4455;\n",
              "      fill: #D2E3FC;\n",
              "    }\n",
              "\n",
              "    [theme=dark] .colab-df-convert:hover {\n",
              "      background-color: #434B5C;\n",
              "      box-shadow: 0px 1px 3px 1px rgba(0, 0, 0, 0.15);\n",
              "      filter: drop-shadow(0px 1px 2px rgba(0, 0, 0, 0.3));\n",
              "      fill: #FFFFFF;\n",
              "    }\n",
              "  </style>\n",
              "\n",
              "      <script>\n",
              "        const buttonEl =\n",
              "          document.querySelector('#df-cc98bc73-3940-4011-a94e-c30b0e338e67 button.colab-df-convert');\n",
              "        buttonEl.style.display =\n",
              "          google.colab.kernel.accessAllowed ? 'block' : 'none';\n",
              "\n",
              "        async function convertToInteractive(key) {\n",
              "          const element = document.querySelector('#df-cc98bc73-3940-4011-a94e-c30b0e338e67');\n",
              "          const dataTable =\n",
              "            await google.colab.kernel.invokeFunction('convertToInteractive',\n",
              "                                                     [key], {});\n",
              "          if (!dataTable) return;\n",
              "\n",
              "          const docLinkHtml = 'Like what you see? Visit the ' +\n",
              "            '<a target=\"_blank\" href=https://colab.research.google.com/notebooks/data_table.ipynb>data table notebook</a>'\n",
              "            + ' to learn more about interactive tables.';\n",
              "          element.innerHTML = '';\n",
              "          dataTable['output_type'] = 'display_data';\n",
              "          await google.colab.output.renderOutput(dataTable, element);\n",
              "          const docLink = document.createElement('div');\n",
              "          docLink.innerHTML = docLinkHtml;\n",
              "          element.appendChild(docLink);\n",
              "        }\n",
              "      </script>\n",
              "    </div>\n",
              "  </div>\n",
              "  "
            ]
          },
          "metadata": {},
          "execution_count": 23
        }
      ]
    },
    {
      "cell_type": "code",
      "source": [
        "df2['text'].iloc[111]"
      ],
      "metadata": {
        "colab": {
          "base_uri": "https://localhost:8080/",
          "height": 35
        },
        "id": "iMvrd5ADmru5",
        "outputId": "6a619ec7-692a-41f2-9b41-95739e61719b"
      },
      "execution_count": 24,
      "outputs": [
        {
          "output_type": "execute_result",
          "data": {
            "text/plain": [
              "'JUST IN: U.S. adds 312,000 jobs in December and wages top estimates  '"
            ],
            "application/vnd.google.colaboratory.intrinsic+json": {
              "type": "string"
            }
          },
          "metadata": {},
          "execution_count": 24
        }
      ]
    },
    {
      "cell_type": "code",
      "source": [
        "df2['text'].iloc[1003]"
      ],
      "metadata": {
        "colab": {
          "base_uri": "https://localhost:8080/",
          "height": 35
        },
        "id": "58r3ebk-mx5E",
        "outputId": "69a39ec0-4ad6-431d-f966-e107ba3bf920"
      },
      "execution_count": 25,
      "outputs": [
        {
          "output_type": "execute_result",
          "data": {
            "text/plain": [
              "\"Here's why soccer players overreact to the slightest foul during a match \""
            ],
            "application/vnd.google.colaboratory.intrinsic+json": {
              "type": "string"
            }
          },
          "metadata": {},
          "execution_count": 25
        }
      ]
    },
    {
      "cell_type": "markdown",
      "source": [
        "# Stemming"
      ],
      "metadata": {
        "id": "X5Y_aOTxlgx0"
      }
    },
    {
      "cell_type": "code",
      "source": [
        "from nltk.stem import PorterStemmer\n",
        "stemmer = PorterStemmer()\n",
        "\n",
        "def stem_text(tweet):\n",
        "    tweet_words=tweet.split()\n",
        "    stemmed_words = [stemmer.stem(word) for word in tweet_words]\n",
        "    return \" \".join(stemmed_words)\n",
        "\n",
        "#df3['text'] = df3['text'].apply(stem_text)\n",
        "#df3.head() "
      ],
      "metadata": {
        "id": "tWf8vJcxgHmT"
      },
      "execution_count": 26,
      "outputs": []
    },
    {
      "cell_type": "code",
      "source": [
        "def contraction_words(tweet):\n",
        "  new_tweet=[]\n",
        "  tweet_words=tweet.split(\" \")\n",
        "  for word in tweet_words:\n",
        "    new_tweet.append(word.split(\"'\")[0])\n",
        "  return(' '.join(new_tweet))\n",
        "\n",
        "df3['text'] = df3['text'].apply(contraction_words)\n",
        "df3.head() "
      ],
      "metadata": {
        "colab": {
          "base_uri": "https://localhost:8080/",
          "height": 206
        },
        "id": "YZuHE36Ya9J9",
        "outputId": "2c6f772d-0bbf-467b-f044-2045d8413567"
      },
      "execution_count": 27,
      "outputs": [
        {
          "output_type": "execute_result",
          "data": {
            "text/plain": [
              "                                                    text topicName  edInput  \\\n",
              "12252  UK Prime Minister Theresa May will face a vote...  Business        2   \n",
              "14042  UK PM Theresa May win confidence vote with 200...  Business        2   \n",
              "16954  The probe of the inaugural fund partly arises ...  Business        2   \n",
              "18004  The week Brexit hit the brick wall : Commons w...  Business        1   \n",
              "18396  Have watched these kind of picture looking for...  Business        2   \n",
              "\n",
              "                    crDate  \n",
              "12252  2018-12-12 07:43:04  \n",
              "14042  2018-12-12 21:02:31  \n",
              "16954  2018-12-13 21:30:32  \n",
              "18004  2018-12-14 08:46:49  \n",
              "18396  2018-12-14 11:38:58  "
            ],
            "text/html": [
              "\n",
              "  <div id=\"df-ae210b88-6cf1-449d-8ece-fbf962b36ec1\">\n",
              "    <div class=\"colab-df-container\">\n",
              "      <div>\n",
              "<style scoped>\n",
              "    .dataframe tbody tr th:only-of-type {\n",
              "        vertical-align: middle;\n",
              "    }\n",
              "\n",
              "    .dataframe tbody tr th {\n",
              "        vertical-align: top;\n",
              "    }\n",
              "\n",
              "    .dataframe thead th {\n",
              "        text-align: right;\n",
              "    }\n",
              "</style>\n",
              "<table border=\"1\" class=\"dataframe\">\n",
              "  <thead>\n",
              "    <tr style=\"text-align: right;\">\n",
              "      <th></th>\n",
              "      <th>text</th>\n",
              "      <th>topicName</th>\n",
              "      <th>edInput</th>\n",
              "      <th>crDate</th>\n",
              "    </tr>\n",
              "  </thead>\n",
              "  <tbody>\n",
              "    <tr>\n",
              "      <th>12252</th>\n",
              "      <td>UK Prime Minister Theresa May will face a vote...</td>\n",
              "      <td>Business</td>\n",
              "      <td>2</td>\n",
              "      <td>2018-12-12 07:43:04</td>\n",
              "    </tr>\n",
              "    <tr>\n",
              "      <th>14042</th>\n",
              "      <td>UK PM Theresa May win confidence vote with 200...</td>\n",
              "      <td>Business</td>\n",
              "      <td>2</td>\n",
              "      <td>2018-12-12 21:02:31</td>\n",
              "    </tr>\n",
              "    <tr>\n",
              "      <th>16954</th>\n",
              "      <td>The probe of the inaugural fund partly arises ...</td>\n",
              "      <td>Business</td>\n",
              "      <td>2</td>\n",
              "      <td>2018-12-13 21:30:32</td>\n",
              "    </tr>\n",
              "    <tr>\n",
              "      <th>18004</th>\n",
              "      <td>The week Brexit hit the brick wall : Commons w...</td>\n",
              "      <td>Business</td>\n",
              "      <td>1</td>\n",
              "      <td>2018-12-14 08:46:49</td>\n",
              "    </tr>\n",
              "    <tr>\n",
              "      <th>18396</th>\n",
              "      <td>Have watched these kind of picture looking for...</td>\n",
              "      <td>Business</td>\n",
              "      <td>2</td>\n",
              "      <td>2018-12-14 11:38:58</td>\n",
              "    </tr>\n",
              "  </tbody>\n",
              "</table>\n",
              "</div>\n",
              "      <button class=\"colab-df-convert\" onclick=\"convertToInteractive('df-ae210b88-6cf1-449d-8ece-fbf962b36ec1')\"\n",
              "              title=\"Convert this dataframe to an interactive table.\"\n",
              "              style=\"display:none;\">\n",
              "        \n",
              "  <svg xmlns=\"http://www.w3.org/2000/svg\" height=\"24px\"viewBox=\"0 0 24 24\"\n",
              "       width=\"24px\">\n",
              "    <path d=\"M0 0h24v24H0V0z\" fill=\"none\"/>\n",
              "    <path d=\"M18.56 5.44l.94 2.06.94-2.06 2.06-.94-2.06-.94-.94-2.06-.94 2.06-2.06.94zm-11 1L8.5 8.5l.94-2.06 2.06-.94-2.06-.94L8.5 2.5l-.94 2.06-2.06.94zm10 10l.94 2.06.94-2.06 2.06-.94-2.06-.94-.94-2.06-.94 2.06-2.06.94z\"/><path d=\"M17.41 7.96l-1.37-1.37c-.4-.4-.92-.59-1.43-.59-.52 0-1.04.2-1.43.59L10.3 9.45l-7.72 7.72c-.78.78-.78 2.05 0 2.83L4 21.41c.39.39.9.59 1.41.59.51 0 1.02-.2 1.41-.59l7.78-7.78 2.81-2.81c.8-.78.8-2.07 0-2.86zM5.41 20L4 18.59l7.72-7.72 1.47 1.35L5.41 20z\"/>\n",
              "  </svg>\n",
              "      </button>\n",
              "      \n",
              "  <style>\n",
              "    .colab-df-container {\n",
              "      display:flex;\n",
              "      flex-wrap:wrap;\n",
              "      gap: 12px;\n",
              "    }\n",
              "\n",
              "    .colab-df-convert {\n",
              "      background-color: #E8F0FE;\n",
              "      border: none;\n",
              "      border-radius: 50%;\n",
              "      cursor: pointer;\n",
              "      display: none;\n",
              "      fill: #1967D2;\n",
              "      height: 32px;\n",
              "      padding: 0 0 0 0;\n",
              "      width: 32px;\n",
              "    }\n",
              "\n",
              "    .colab-df-convert:hover {\n",
              "      background-color: #E2EBFA;\n",
              "      box-shadow: 0px 1px 2px rgba(60, 64, 67, 0.3), 0px 1px 3px 1px rgba(60, 64, 67, 0.15);\n",
              "      fill: #174EA6;\n",
              "    }\n",
              "\n",
              "    [theme=dark] .colab-df-convert {\n",
              "      background-color: #3B4455;\n",
              "      fill: #D2E3FC;\n",
              "    }\n",
              "\n",
              "    [theme=dark] .colab-df-convert:hover {\n",
              "      background-color: #434B5C;\n",
              "      box-shadow: 0px 1px 3px 1px rgba(0, 0, 0, 0.15);\n",
              "      filter: drop-shadow(0px 1px 2px rgba(0, 0, 0, 0.3));\n",
              "      fill: #FFFFFF;\n",
              "    }\n",
              "  </style>\n",
              "\n",
              "      <script>\n",
              "        const buttonEl =\n",
              "          document.querySelector('#df-ae210b88-6cf1-449d-8ece-fbf962b36ec1 button.colab-df-convert');\n",
              "        buttonEl.style.display =\n",
              "          google.colab.kernel.accessAllowed ? 'block' : 'none';\n",
              "\n",
              "        async function convertToInteractive(key) {\n",
              "          const element = document.querySelector('#df-ae210b88-6cf1-449d-8ece-fbf962b36ec1');\n",
              "          const dataTable =\n",
              "            await google.colab.kernel.invokeFunction('convertToInteractive',\n",
              "                                                     [key], {});\n",
              "          if (!dataTable) return;\n",
              "\n",
              "          const docLinkHtml = 'Like what you see? Visit the ' +\n",
              "            '<a target=\"_blank\" href=https://colab.research.google.com/notebooks/data_table.ipynb>data table notebook</a>'\n",
              "            + ' to learn more about interactive tables.';\n",
              "          element.innerHTML = '';\n",
              "          dataTable['output_type'] = 'display_data';\n",
              "          await google.colab.output.renderOutput(dataTable, element);\n",
              "          const docLink = document.createElement('div');\n",
              "          docLink.innerHTML = docLinkHtml;\n",
              "          element.appendChild(docLink);\n",
              "        }\n",
              "      </script>\n",
              "    </div>\n",
              "  </div>\n",
              "  "
            ]
          },
          "metadata": {},
          "execution_count": 27
        }
      ]
    },
    {
      "cell_type": "code",
      "source": [
        "def hyphen_split(tweet):\n",
        "  tweet_words=tweet.split(\" \")\n",
        "  tweet_words=[item.split(\"-\") for item in tweet_words]\n",
        "  return(' '.join([' '.join(item) for item in tweet_words]))\n",
        "\n",
        "df3['text'] = df3['text'].apply(hyphen_split)\n",
        "df3.head() "
      ],
      "metadata": {
        "colab": {
          "base_uri": "https://localhost:8080/",
          "height": 206
        },
        "id": "vgmOqpIob78C",
        "outputId": "60c01c92-3b5c-4ddf-85cd-54d450688aea"
      },
      "execution_count": 28,
      "outputs": [
        {
          "output_type": "execute_result",
          "data": {
            "text/plain": [
              "                                                    text topicName  edInput  \\\n",
              "12252  UK Prime Minister Theresa May will face a vote...  Business        2   \n",
              "14042  UK PM Theresa May win confidence vote with 200...  Business        2   \n",
              "16954  The probe of the inaugural fund partly arises ...  Business        2   \n",
              "18004  The week Brexit hit the brick wall : Commons w...  Business        1   \n",
              "18396  Have watched these kind of picture looking for...  Business        2   \n",
              "\n",
              "                    crDate  \n",
              "12252  2018-12-12 07:43:04  \n",
              "14042  2018-12-12 21:02:31  \n",
              "16954  2018-12-13 21:30:32  \n",
              "18004  2018-12-14 08:46:49  \n",
              "18396  2018-12-14 11:38:58  "
            ],
            "text/html": [
              "\n",
              "  <div id=\"df-aaf033d7-16cf-4e7c-9425-ba3b2d363ad8\">\n",
              "    <div class=\"colab-df-container\">\n",
              "      <div>\n",
              "<style scoped>\n",
              "    .dataframe tbody tr th:only-of-type {\n",
              "        vertical-align: middle;\n",
              "    }\n",
              "\n",
              "    .dataframe tbody tr th {\n",
              "        vertical-align: top;\n",
              "    }\n",
              "\n",
              "    .dataframe thead th {\n",
              "        text-align: right;\n",
              "    }\n",
              "</style>\n",
              "<table border=\"1\" class=\"dataframe\">\n",
              "  <thead>\n",
              "    <tr style=\"text-align: right;\">\n",
              "      <th></th>\n",
              "      <th>text</th>\n",
              "      <th>topicName</th>\n",
              "      <th>edInput</th>\n",
              "      <th>crDate</th>\n",
              "    </tr>\n",
              "  </thead>\n",
              "  <tbody>\n",
              "    <tr>\n",
              "      <th>12252</th>\n",
              "      <td>UK Prime Minister Theresa May will face a vote...</td>\n",
              "      <td>Business</td>\n",
              "      <td>2</td>\n",
              "      <td>2018-12-12 07:43:04</td>\n",
              "    </tr>\n",
              "    <tr>\n",
              "      <th>14042</th>\n",
              "      <td>UK PM Theresa May win confidence vote with 200...</td>\n",
              "      <td>Business</td>\n",
              "      <td>2</td>\n",
              "      <td>2018-12-12 21:02:31</td>\n",
              "    </tr>\n",
              "    <tr>\n",
              "      <th>16954</th>\n",
              "      <td>The probe of the inaugural fund partly arises ...</td>\n",
              "      <td>Business</td>\n",
              "      <td>2</td>\n",
              "      <td>2018-12-13 21:30:32</td>\n",
              "    </tr>\n",
              "    <tr>\n",
              "      <th>18004</th>\n",
              "      <td>The week Brexit hit the brick wall : Commons w...</td>\n",
              "      <td>Business</td>\n",
              "      <td>1</td>\n",
              "      <td>2018-12-14 08:46:49</td>\n",
              "    </tr>\n",
              "    <tr>\n",
              "      <th>18396</th>\n",
              "      <td>Have watched these kind of picture looking for...</td>\n",
              "      <td>Business</td>\n",
              "      <td>2</td>\n",
              "      <td>2018-12-14 11:38:58</td>\n",
              "    </tr>\n",
              "  </tbody>\n",
              "</table>\n",
              "</div>\n",
              "      <button class=\"colab-df-convert\" onclick=\"convertToInteractive('df-aaf033d7-16cf-4e7c-9425-ba3b2d363ad8')\"\n",
              "              title=\"Convert this dataframe to an interactive table.\"\n",
              "              style=\"display:none;\">\n",
              "        \n",
              "  <svg xmlns=\"http://www.w3.org/2000/svg\" height=\"24px\"viewBox=\"0 0 24 24\"\n",
              "       width=\"24px\">\n",
              "    <path d=\"M0 0h24v24H0V0z\" fill=\"none\"/>\n",
              "    <path d=\"M18.56 5.44l.94 2.06.94-2.06 2.06-.94-2.06-.94-.94-2.06-.94 2.06-2.06.94zm-11 1L8.5 8.5l.94-2.06 2.06-.94-2.06-.94L8.5 2.5l-.94 2.06-2.06.94zm10 10l.94 2.06.94-2.06 2.06-.94-2.06-.94-.94-2.06-.94 2.06-2.06.94z\"/><path d=\"M17.41 7.96l-1.37-1.37c-.4-.4-.92-.59-1.43-.59-.52 0-1.04.2-1.43.59L10.3 9.45l-7.72 7.72c-.78.78-.78 2.05 0 2.83L4 21.41c.39.39.9.59 1.41.59.51 0 1.02-.2 1.41-.59l7.78-7.78 2.81-2.81c.8-.78.8-2.07 0-2.86zM5.41 20L4 18.59l7.72-7.72 1.47 1.35L5.41 20z\"/>\n",
              "  </svg>\n",
              "      </button>\n",
              "      \n",
              "  <style>\n",
              "    .colab-df-container {\n",
              "      display:flex;\n",
              "      flex-wrap:wrap;\n",
              "      gap: 12px;\n",
              "    }\n",
              "\n",
              "    .colab-df-convert {\n",
              "      background-color: #E8F0FE;\n",
              "      border: none;\n",
              "      border-radius: 50%;\n",
              "      cursor: pointer;\n",
              "      display: none;\n",
              "      fill: #1967D2;\n",
              "      height: 32px;\n",
              "      padding: 0 0 0 0;\n",
              "      width: 32px;\n",
              "    }\n",
              "\n",
              "    .colab-df-convert:hover {\n",
              "      background-color: #E2EBFA;\n",
              "      box-shadow: 0px 1px 2px rgba(60, 64, 67, 0.3), 0px 1px 3px 1px rgba(60, 64, 67, 0.15);\n",
              "      fill: #174EA6;\n",
              "    }\n",
              "\n",
              "    [theme=dark] .colab-df-convert {\n",
              "      background-color: #3B4455;\n",
              "      fill: #D2E3FC;\n",
              "    }\n",
              "\n",
              "    [theme=dark] .colab-df-convert:hover {\n",
              "      background-color: #434B5C;\n",
              "      box-shadow: 0px 1px 3px 1px rgba(0, 0, 0, 0.15);\n",
              "      filter: drop-shadow(0px 1px 2px rgba(0, 0, 0, 0.3));\n",
              "      fill: #FFFFFF;\n",
              "    }\n",
              "  </style>\n",
              "\n",
              "      <script>\n",
              "        const buttonEl =\n",
              "          document.querySelector('#df-aaf033d7-16cf-4e7c-9425-ba3b2d363ad8 button.colab-df-convert');\n",
              "        buttonEl.style.display =\n",
              "          google.colab.kernel.accessAllowed ? 'block' : 'none';\n",
              "\n",
              "        async function convertToInteractive(key) {\n",
              "          const element = document.querySelector('#df-aaf033d7-16cf-4e7c-9425-ba3b2d363ad8');\n",
              "          const dataTable =\n",
              "            await google.colab.kernel.invokeFunction('convertToInteractive',\n",
              "                                                     [key], {});\n",
              "          if (!dataTable) return;\n",
              "\n",
              "          const docLinkHtml = 'Like what you see? Visit the ' +\n",
              "            '<a target=\"_blank\" href=https://colab.research.google.com/notebooks/data_table.ipynb>data table notebook</a>'\n",
              "            + ' to learn more about interactive tables.';\n",
              "          element.innerHTML = '';\n",
              "          dataTable['output_type'] = 'display_data';\n",
              "          await google.colab.output.renderOutput(dataTable, element);\n",
              "          const docLink = document.createElement('div');\n",
              "          docLink.innerHTML = docLinkHtml;\n",
              "          element.appendChild(docLink);\n",
              "        }\n",
              "      </script>\n",
              "    </div>\n",
              "  </div>\n",
              "  "
            ]
          },
          "metadata": {},
          "execution_count": 28
        }
      ]
    },
    {
      "cell_type": "code",
      "execution_count": 29,
      "metadata": {
        "id": "Jii35D88lKjN"
      },
      "outputs": [],
      "source": [
        "#Removing Punctuation \n",
        "\n",
        "def remove_punctuations_numericals(txt):\n",
        "    txt = re.sub(r'[^\\w\\s]', '', txt)\n",
        "    txt = re.sub(r'\\d+', '', txt)\n",
        "    txt = re.sub(r'\\n', '', txt)\n",
        "    return txt\n",
        "\n",
        "df3['text'] = df3['text'].apply(lambda x: remove_punctuations_numericals(x))"
      ]
    },
    {
      "cell_type": "code",
      "execution_count": 30,
      "metadata": {
        "colab": {
          "base_uri": "https://localhost:8080/",
          "height": 35
        },
        "id": "JcjtYS-elnDl",
        "outputId": "c96fbe43-a692-4520-eca3-e6b45a3f39fe"
      },
      "outputs": [
        {
          "output_type": "execute_result",
          "data": {
            "text/plain": [
              "'JUST IN  US add  job in December and wage top estimate'"
            ],
            "application/vnd.google.colaboratory.intrinsic+json": {
              "type": "string"
            }
          },
          "metadata": {},
          "execution_count": 30
        }
      ],
      "source": [
        "df3['text'].iloc[111]"
      ]
    },
    {
      "cell_type": "code",
      "source": [
        "df3['text'].iloc[1003]"
      ],
      "metadata": {
        "colab": {
          "base_uri": "https://localhost:8080/",
          "height": 35
        },
        "id": "GeZDNOZmon03",
        "outputId": "976ce38f-6c02-41b7-f892-98583e5b404e"
      },
      "execution_count": 31,
      "outputs": [
        {
          "output_type": "execute_result",
          "data": {
            "text/plain": [
              "'Here  why soccer player overreact to the slightest foul during a match'"
            ],
            "application/vnd.google.colaboratory.intrinsic+json": {
              "type": "string"
            }
          },
          "metadata": {},
          "execution_count": 31
        }
      ]
    },
    {
      "cell_type": "code",
      "execution_count": 32,
      "metadata": {
        "id": "ZPgyGTA9mQqJ"
      },
      "outputs": [],
      "source": [
        "df3['text']=df3['text'].str.lower()\n"
      ]
    },
    {
      "cell_type": "code",
      "execution_count": 33,
      "metadata": {
        "colab": {
          "base_uri": "https://localhost:8080/",
          "height": 206
        },
        "id": "QFLV8qt4rRJC",
        "outputId": "423588c1-924b-4cfc-cba5-ffde8047ca70"
      },
      "outputs": [
        {
          "output_type": "execute_result",
          "data": {
            "text/plain": [
              "                                                    text topicName  edInput  \\\n",
              "30019          this bouquet of rose is completely edible  Business        2   \n",
              "30020  this fancy mcdonald  ha a handwashing station ...  Business        2   \n",
              "30021   spoilers ahead  finished  strangerthings  gre...  Business        2   \n",
              "30022                 these cake are topped with yogurt   Business        2   \n",
              "30023         are you team shake shack or team in n out   Business        2   \n",
              "\n",
              "                    crDate  \n",
              "30019  2019-07-24 17:30:00  \n",
              "30020  2019-07-24 17:03:00  \n",
              "30021  2019-07-24 23:29:12  \n",
              "30022  2019-07-24 16:30:00  \n",
              "30023  2019-07-24 16:03:00  "
            ],
            "text/html": [
              "\n",
              "  <div id=\"df-719b91fc-f0bf-49f0-87a1-76abfad15507\">\n",
              "    <div class=\"colab-df-container\">\n",
              "      <div>\n",
              "<style scoped>\n",
              "    .dataframe tbody tr th:only-of-type {\n",
              "        vertical-align: middle;\n",
              "    }\n",
              "\n",
              "    .dataframe tbody tr th {\n",
              "        vertical-align: top;\n",
              "    }\n",
              "\n",
              "    .dataframe thead th {\n",
              "        text-align: right;\n",
              "    }\n",
              "</style>\n",
              "<table border=\"1\" class=\"dataframe\">\n",
              "  <thead>\n",
              "    <tr style=\"text-align: right;\">\n",
              "      <th></th>\n",
              "      <th>text</th>\n",
              "      <th>topicName</th>\n",
              "      <th>edInput</th>\n",
              "      <th>crDate</th>\n",
              "    </tr>\n",
              "  </thead>\n",
              "  <tbody>\n",
              "    <tr>\n",
              "      <th>30019</th>\n",
              "      <td>this bouquet of rose is completely edible</td>\n",
              "      <td>Business</td>\n",
              "      <td>2</td>\n",
              "      <td>2019-07-24 17:30:00</td>\n",
              "    </tr>\n",
              "    <tr>\n",
              "      <th>30020</th>\n",
              "      <td>this fancy mcdonald  ha a handwashing station ...</td>\n",
              "      <td>Business</td>\n",
              "      <td>2</td>\n",
              "      <td>2019-07-24 17:03:00</td>\n",
              "    </tr>\n",
              "    <tr>\n",
              "      <th>30021</th>\n",
              "      <td>spoilers ahead  finished  strangerthings  gre...</td>\n",
              "      <td>Business</td>\n",
              "      <td>2</td>\n",
              "      <td>2019-07-24 23:29:12</td>\n",
              "    </tr>\n",
              "    <tr>\n",
              "      <th>30022</th>\n",
              "      <td>these cake are topped with yogurt</td>\n",
              "      <td>Business</td>\n",
              "      <td>2</td>\n",
              "      <td>2019-07-24 16:30:00</td>\n",
              "    </tr>\n",
              "    <tr>\n",
              "      <th>30023</th>\n",
              "      <td>are you team shake shack or team in n out</td>\n",
              "      <td>Business</td>\n",
              "      <td>2</td>\n",
              "      <td>2019-07-24 16:03:00</td>\n",
              "    </tr>\n",
              "  </tbody>\n",
              "</table>\n",
              "</div>\n",
              "      <button class=\"colab-df-convert\" onclick=\"convertToInteractive('df-719b91fc-f0bf-49f0-87a1-76abfad15507')\"\n",
              "              title=\"Convert this dataframe to an interactive table.\"\n",
              "              style=\"display:none;\">\n",
              "        \n",
              "  <svg xmlns=\"http://www.w3.org/2000/svg\" height=\"24px\"viewBox=\"0 0 24 24\"\n",
              "       width=\"24px\">\n",
              "    <path d=\"M0 0h24v24H0V0z\" fill=\"none\"/>\n",
              "    <path d=\"M18.56 5.44l.94 2.06.94-2.06 2.06-.94-2.06-.94-.94-2.06-.94 2.06-2.06.94zm-11 1L8.5 8.5l.94-2.06 2.06-.94-2.06-.94L8.5 2.5l-.94 2.06-2.06.94zm10 10l.94 2.06.94-2.06 2.06-.94-2.06-.94-.94-2.06-.94 2.06-2.06.94z\"/><path d=\"M17.41 7.96l-1.37-1.37c-.4-.4-.92-.59-1.43-.59-.52 0-1.04.2-1.43.59L10.3 9.45l-7.72 7.72c-.78.78-.78 2.05 0 2.83L4 21.41c.39.39.9.59 1.41.59.51 0 1.02-.2 1.41-.59l7.78-7.78 2.81-2.81c.8-.78.8-2.07 0-2.86zM5.41 20L4 18.59l7.72-7.72 1.47 1.35L5.41 20z\"/>\n",
              "  </svg>\n",
              "      </button>\n",
              "      \n",
              "  <style>\n",
              "    .colab-df-container {\n",
              "      display:flex;\n",
              "      flex-wrap:wrap;\n",
              "      gap: 12px;\n",
              "    }\n",
              "\n",
              "    .colab-df-convert {\n",
              "      background-color: #E8F0FE;\n",
              "      border: none;\n",
              "      border-radius: 50%;\n",
              "      cursor: pointer;\n",
              "      display: none;\n",
              "      fill: #1967D2;\n",
              "      height: 32px;\n",
              "      padding: 0 0 0 0;\n",
              "      width: 32px;\n",
              "    }\n",
              "\n",
              "    .colab-df-convert:hover {\n",
              "      background-color: #E2EBFA;\n",
              "      box-shadow: 0px 1px 2px rgba(60, 64, 67, 0.3), 0px 1px 3px 1px rgba(60, 64, 67, 0.15);\n",
              "      fill: #174EA6;\n",
              "    }\n",
              "\n",
              "    [theme=dark] .colab-df-convert {\n",
              "      background-color: #3B4455;\n",
              "      fill: #D2E3FC;\n",
              "    }\n",
              "\n",
              "    [theme=dark] .colab-df-convert:hover {\n",
              "      background-color: #434B5C;\n",
              "      box-shadow: 0px 1px 3px 1px rgba(0, 0, 0, 0.15);\n",
              "      filter: drop-shadow(0px 1px 2px rgba(0, 0, 0, 0.3));\n",
              "      fill: #FFFFFF;\n",
              "    }\n",
              "  </style>\n",
              "\n",
              "      <script>\n",
              "        const buttonEl =\n",
              "          document.querySelector('#df-719b91fc-f0bf-49f0-87a1-76abfad15507 button.colab-df-convert');\n",
              "        buttonEl.style.display =\n",
              "          google.colab.kernel.accessAllowed ? 'block' : 'none';\n",
              "\n",
              "        async function convertToInteractive(key) {\n",
              "          const element = document.querySelector('#df-719b91fc-f0bf-49f0-87a1-76abfad15507');\n",
              "          const dataTable =\n",
              "            await google.colab.kernel.invokeFunction('convertToInteractive',\n",
              "                                                     [key], {});\n",
              "          if (!dataTable) return;\n",
              "\n",
              "          const docLinkHtml = 'Like what you see? Visit the ' +\n",
              "            '<a target=\"_blank\" href=https://colab.research.google.com/notebooks/data_table.ipynb>data table notebook</a>'\n",
              "            + ' to learn more about interactive tables.';\n",
              "          element.innerHTML = '';\n",
              "          dataTable['output_type'] = 'display_data';\n",
              "          await google.colab.output.renderOutput(dataTable, element);\n",
              "          const docLink = document.createElement('div');\n",
              "          docLink.innerHTML = docLinkHtml;\n",
              "          element.appendChild(docLink);\n",
              "        }\n",
              "      </script>\n",
              "    </div>\n",
              "  </div>\n",
              "  "
            ]
          },
          "metadata": {},
          "execution_count": 33
        }
      ],
      "source": [
        "df3.reset_index(drop=True, inplace =True)\n",
        "df3.tail()"
      ]
    },
    {
      "cell_type": "code",
      "execution_count": 34,
      "metadata": {
        "colab": {
          "base_uri": "https://localhost:8080/",
          "height": 206
        },
        "id": "f0osGkP_rsog",
        "outputId": "c291a113-a2e3-4395-82f8-904dfeca003a"
      },
      "outputs": [
        {
          "output_type": "execute_result",
          "data": {
            "text/plain": [
              "                                                text topicName  edInput\n",
              "0  uk prime minister theresa may will face a vote...  Business        2\n",
              "1  uk pm theresa may win confidence vote with  ou...  Business        2\n",
              "2  the probe of the inaugural fund partly arises ...  Business        2\n",
              "3  the week brexit hit the brick wall  commons wo...  Business        1\n",
              "4  have watched these kind of picture looking for...  Business        2"
            ],
            "text/html": [
              "\n",
              "  <div id=\"df-1c4142e6-7230-4418-9c30-d47ebadc6965\">\n",
              "    <div class=\"colab-df-container\">\n",
              "      <div>\n",
              "<style scoped>\n",
              "    .dataframe tbody tr th:only-of-type {\n",
              "        vertical-align: middle;\n",
              "    }\n",
              "\n",
              "    .dataframe tbody tr th {\n",
              "        vertical-align: top;\n",
              "    }\n",
              "\n",
              "    .dataframe thead th {\n",
              "        text-align: right;\n",
              "    }\n",
              "</style>\n",
              "<table border=\"1\" class=\"dataframe\">\n",
              "  <thead>\n",
              "    <tr style=\"text-align: right;\">\n",
              "      <th></th>\n",
              "      <th>text</th>\n",
              "      <th>topicName</th>\n",
              "      <th>edInput</th>\n",
              "    </tr>\n",
              "  </thead>\n",
              "  <tbody>\n",
              "    <tr>\n",
              "      <th>0</th>\n",
              "      <td>uk prime minister theresa may will face a vote...</td>\n",
              "      <td>Business</td>\n",
              "      <td>2</td>\n",
              "    </tr>\n",
              "    <tr>\n",
              "      <th>1</th>\n",
              "      <td>uk pm theresa may win confidence vote with  ou...</td>\n",
              "      <td>Business</td>\n",
              "      <td>2</td>\n",
              "    </tr>\n",
              "    <tr>\n",
              "      <th>2</th>\n",
              "      <td>the probe of the inaugural fund partly arises ...</td>\n",
              "      <td>Business</td>\n",
              "      <td>2</td>\n",
              "    </tr>\n",
              "    <tr>\n",
              "      <th>3</th>\n",
              "      <td>the week brexit hit the brick wall  commons wo...</td>\n",
              "      <td>Business</td>\n",
              "      <td>1</td>\n",
              "    </tr>\n",
              "    <tr>\n",
              "      <th>4</th>\n",
              "      <td>have watched these kind of picture looking for...</td>\n",
              "      <td>Business</td>\n",
              "      <td>2</td>\n",
              "    </tr>\n",
              "  </tbody>\n",
              "</table>\n",
              "</div>\n",
              "      <button class=\"colab-df-convert\" onclick=\"convertToInteractive('df-1c4142e6-7230-4418-9c30-d47ebadc6965')\"\n",
              "              title=\"Convert this dataframe to an interactive table.\"\n",
              "              style=\"display:none;\">\n",
              "        \n",
              "  <svg xmlns=\"http://www.w3.org/2000/svg\" height=\"24px\"viewBox=\"0 0 24 24\"\n",
              "       width=\"24px\">\n",
              "    <path d=\"M0 0h24v24H0V0z\" fill=\"none\"/>\n",
              "    <path d=\"M18.56 5.44l.94 2.06.94-2.06 2.06-.94-2.06-.94-.94-2.06-.94 2.06-2.06.94zm-11 1L8.5 8.5l.94-2.06 2.06-.94-2.06-.94L8.5 2.5l-.94 2.06-2.06.94zm10 10l.94 2.06.94-2.06 2.06-.94-2.06-.94-.94-2.06-.94 2.06-2.06.94z\"/><path d=\"M17.41 7.96l-1.37-1.37c-.4-.4-.92-.59-1.43-.59-.52 0-1.04.2-1.43.59L10.3 9.45l-7.72 7.72c-.78.78-.78 2.05 0 2.83L4 21.41c.39.39.9.59 1.41.59.51 0 1.02-.2 1.41-.59l7.78-7.78 2.81-2.81c.8-.78.8-2.07 0-2.86zM5.41 20L4 18.59l7.72-7.72 1.47 1.35L5.41 20z\"/>\n",
              "  </svg>\n",
              "      </button>\n",
              "      \n",
              "  <style>\n",
              "    .colab-df-container {\n",
              "      display:flex;\n",
              "      flex-wrap:wrap;\n",
              "      gap: 12px;\n",
              "    }\n",
              "\n",
              "    .colab-df-convert {\n",
              "      background-color: #E8F0FE;\n",
              "      border: none;\n",
              "      border-radius: 50%;\n",
              "      cursor: pointer;\n",
              "      display: none;\n",
              "      fill: #1967D2;\n",
              "      height: 32px;\n",
              "      padding: 0 0 0 0;\n",
              "      width: 32px;\n",
              "    }\n",
              "\n",
              "    .colab-df-convert:hover {\n",
              "      background-color: #E2EBFA;\n",
              "      box-shadow: 0px 1px 2px rgba(60, 64, 67, 0.3), 0px 1px 3px 1px rgba(60, 64, 67, 0.15);\n",
              "      fill: #174EA6;\n",
              "    }\n",
              "\n",
              "    [theme=dark] .colab-df-convert {\n",
              "      background-color: #3B4455;\n",
              "      fill: #D2E3FC;\n",
              "    }\n",
              "\n",
              "    [theme=dark] .colab-df-convert:hover {\n",
              "      background-color: #434B5C;\n",
              "      box-shadow: 0px 1px 3px 1px rgba(0, 0, 0, 0.15);\n",
              "      filter: drop-shadow(0px 1px 2px rgba(0, 0, 0, 0.3));\n",
              "      fill: #FFFFFF;\n",
              "    }\n",
              "  </style>\n",
              "\n",
              "      <script>\n",
              "        const buttonEl =\n",
              "          document.querySelector('#df-1c4142e6-7230-4418-9c30-d47ebadc6965 button.colab-df-convert');\n",
              "        buttonEl.style.display =\n",
              "          google.colab.kernel.accessAllowed ? 'block' : 'none';\n",
              "\n",
              "        async function convertToInteractive(key) {\n",
              "          const element = document.querySelector('#df-1c4142e6-7230-4418-9c30-d47ebadc6965');\n",
              "          const dataTable =\n",
              "            await google.colab.kernel.invokeFunction('convertToInteractive',\n",
              "                                                     [key], {});\n",
              "          if (!dataTable) return;\n",
              "\n",
              "          const docLinkHtml = 'Like what you see? Visit the ' +\n",
              "            '<a target=\"_blank\" href=https://colab.research.google.com/notebooks/data_table.ipynb>data table notebook</a>'\n",
              "            + ' to learn more about interactive tables.';\n",
              "          element.innerHTML = '';\n",
              "          dataTable['output_type'] = 'display_data';\n",
              "          await google.colab.output.renderOutput(dataTable, element);\n",
              "          const docLink = document.createElement('div');\n",
              "          docLink.innerHTML = docLinkHtml;\n",
              "          element.appendChild(docLink);\n",
              "        }\n",
              "      </script>\n",
              "    </div>\n",
              "  </div>\n",
              "  "
            ]
          },
          "metadata": {},
          "execution_count": 34
        }
      ],
      "source": [
        "df4=df3.drop(columns=['crDate'])\n",
        "df4.head()"
      ]
    },
    {
      "cell_type": "code",
      "source": [
        "df4['edInput'].value_counts()"
      ],
      "metadata": {
        "colab": {
          "base_uri": "https://localhost:8080/"
        },
        "id": "k1USxDn3lrvA",
        "outputId": "e7a7a6a2-a87f-471a-bf10-f0407eb79393"
      },
      "execution_count": 35,
      "outputs": [
        {
          "output_type": "execute_result",
          "data": {
            "text/plain": [
              "1    17836\n",
              "2    12188\n",
              "Name: edInput, dtype: int64"
            ]
          },
          "metadata": {},
          "execution_count": 35
        }
      ]
    },
    {
      "cell_type": "code",
      "source": [
        "df4['edInput']=df4['edInput'].replace({2:0})\n",
        "df4['edInput'].value_counts()"
      ],
      "metadata": {
        "colab": {
          "base_uri": "https://localhost:8080/"
        },
        "id": "6bnJ4FAJlpdC",
        "outputId": "88ef2fb8-c0a4-4e30-f4c0-84072650c000"
      },
      "execution_count": 36,
      "outputs": [
        {
          "output_type": "execute_result",
          "data": {
            "text/plain": [
              "1    17836\n",
              "0    12188\n",
              "Name: edInput, dtype: int64"
            ]
          },
          "metadata": {},
          "execution_count": 36
        }
      ]
    },
    {
      "cell_type": "code",
      "execution_count": 37,
      "metadata": {
        "id": "36wZd5QCtAH1"
      },
      "outputs": [],
      "source": [
        "X=df4['text']\n",
        "y=df4['edInput']\n"
      ]
    },
    {
      "cell_type": "code",
      "execution_count": 38,
      "metadata": {
        "id": "W8KzI3aas_zf"
      },
      "outputs": [],
      "source": [
        "from sklearn.model_selection import train_test_split\n",
        "\n",
        "# Assume 'X' is your text data and 'y' is your target variable\n",
        "X_train, X_test, y_train, y_test = train_test_split(X, y, test_size=0.2, stratify=y, random_state=42)"
      ]
    },
    {
      "cell_type": "code",
      "source": [
        "print(X_train.shape)\n",
        "print(y_train.shape)\n",
        "print(X_test.shape)\n",
        "print(y_test.shape)"
      ],
      "metadata": {
        "colab": {
          "base_uri": "https://localhost:8080/"
        },
        "id": "HX3CxRSmkA2l",
        "outputId": "83274429-ba47-47d0-f8a4-73eeb96b2fb8"
      },
      "execution_count": 39,
      "outputs": [
        {
          "output_type": "stream",
          "name": "stdout",
          "text": [
            "(24019,)\n",
            "(24019,)\n",
            "(6005,)\n",
            "(6005,)\n"
          ]
        }
      ]
    },
    {
      "cell_type": "code",
      "source": [
        "y_test.value_counts()"
      ],
      "metadata": {
        "colab": {
          "base_uri": "https://localhost:8080/"
        },
        "id": "U-kdsbAvqnjp",
        "outputId": "fa7d9225-4e2f-4099-dc20-0c0e209ce0c4"
      },
      "execution_count": 40,
      "outputs": [
        {
          "output_type": "execute_result",
          "data": {
            "text/plain": [
              "1    3567\n",
              "0    2438\n",
              "Name: edInput, dtype: int64"
            ]
          },
          "metadata": {},
          "execution_count": 40
        }
      ]
    },
    {
      "cell_type": "code",
      "source": [
        "np.bincount(y_test)"
      ],
      "metadata": {
        "colab": {
          "base_uri": "https://localhost:8080/"
        },
        "id": "nVPPF36eTGjL",
        "outputId": "9f83ac22-7f82-4339-e3b7-03e31bdae3a1"
      },
      "execution_count": 41,
      "outputs": [
        {
          "output_type": "execute_result",
          "data": {
            "text/plain": [
              "array([2438, 3567])"
            ]
          },
          "metadata": {},
          "execution_count": 41
        }
      ]
    },
    {
      "cell_type": "code",
      "execution_count": 42,
      "metadata": {
        "colab": {
          "base_uri": "https://localhost:8080/",
          "height": 74
        },
        "id": "VlSUur3Ds_hb",
        "outputId": "195b6876-388c-43d9-9e7f-63563d939cfe"
      },
      "outputs": [
        {
          "output_type": "execute_result",
          "data": {
            "text/plain": [
              "CountVectorizer(min_df=5, stop_words='english')"
            ],
            "text/html": [
              "<style>#sk-container-id-1 {color: black;background-color: white;}#sk-container-id-1 pre{padding: 0;}#sk-container-id-1 div.sk-toggleable {background-color: white;}#sk-container-id-1 label.sk-toggleable__label {cursor: pointer;display: block;width: 100%;margin-bottom: 0;padding: 0.3em;box-sizing: border-box;text-align: center;}#sk-container-id-1 label.sk-toggleable__label-arrow:before {content: \"▸\";float: left;margin-right: 0.25em;color: #696969;}#sk-container-id-1 label.sk-toggleable__label-arrow:hover:before {color: black;}#sk-container-id-1 div.sk-estimator:hover label.sk-toggleable__label-arrow:before {color: black;}#sk-container-id-1 div.sk-toggleable__content {max-height: 0;max-width: 0;overflow: hidden;text-align: left;background-color: #f0f8ff;}#sk-container-id-1 div.sk-toggleable__content pre {margin: 0.2em;color: black;border-radius: 0.25em;background-color: #f0f8ff;}#sk-container-id-1 input.sk-toggleable__control:checked~div.sk-toggleable__content {max-height: 200px;max-width: 100%;overflow: auto;}#sk-container-id-1 input.sk-toggleable__control:checked~label.sk-toggleable__label-arrow:before {content: \"▾\";}#sk-container-id-1 div.sk-estimator input.sk-toggleable__control:checked~label.sk-toggleable__label {background-color: #d4ebff;}#sk-container-id-1 div.sk-label input.sk-toggleable__control:checked~label.sk-toggleable__label {background-color: #d4ebff;}#sk-container-id-1 input.sk-hidden--visually {border: 0;clip: rect(1px 1px 1px 1px);clip: rect(1px, 1px, 1px, 1px);height: 1px;margin: -1px;overflow: hidden;padding: 0;position: absolute;width: 1px;}#sk-container-id-1 div.sk-estimator {font-family: monospace;background-color: #f0f8ff;border: 1px dotted black;border-radius: 0.25em;box-sizing: border-box;margin-bottom: 0.5em;}#sk-container-id-1 div.sk-estimator:hover {background-color: #d4ebff;}#sk-container-id-1 div.sk-parallel-item::after {content: \"\";width: 100%;border-bottom: 1px solid gray;flex-grow: 1;}#sk-container-id-1 div.sk-label:hover label.sk-toggleable__label {background-color: #d4ebff;}#sk-container-id-1 div.sk-serial::before {content: \"\";position: absolute;border-left: 1px solid gray;box-sizing: border-box;top: 0;bottom: 0;left: 50%;z-index: 0;}#sk-container-id-1 div.sk-serial {display: flex;flex-direction: column;align-items: center;background-color: white;padding-right: 0.2em;padding-left: 0.2em;position: relative;}#sk-container-id-1 div.sk-item {position: relative;z-index: 1;}#sk-container-id-1 div.sk-parallel {display: flex;align-items: stretch;justify-content: center;background-color: white;position: relative;}#sk-container-id-1 div.sk-item::before, #sk-container-id-1 div.sk-parallel-item::before {content: \"\";position: absolute;border-left: 1px solid gray;box-sizing: border-box;top: 0;bottom: 0;left: 50%;z-index: -1;}#sk-container-id-1 div.sk-parallel-item {display: flex;flex-direction: column;z-index: 1;position: relative;background-color: white;}#sk-container-id-1 div.sk-parallel-item:first-child::after {align-self: flex-end;width: 50%;}#sk-container-id-1 div.sk-parallel-item:last-child::after {align-self: flex-start;width: 50%;}#sk-container-id-1 div.sk-parallel-item:only-child::after {width: 0;}#sk-container-id-1 div.sk-dashed-wrapped {border: 1px dashed gray;margin: 0 0.4em 0.5em 0.4em;box-sizing: border-box;padding-bottom: 0.4em;background-color: white;}#sk-container-id-1 div.sk-label label {font-family: monospace;font-weight: bold;display: inline-block;line-height: 1.2em;}#sk-container-id-1 div.sk-label-container {text-align: center;}#sk-container-id-1 div.sk-container {/* jupyter's `normalize.less` sets `[hidden] { display: none; }` but bootstrap.min.css set `[hidden] { display: none !important; }` so we also need the `!important` here to be able to override the default hidden behavior on the sphinx rendered scikit-learn.org. See: https://github.com/scikit-learn/scikit-learn/issues/21755 */display: inline-block !important;position: relative;}#sk-container-id-1 div.sk-text-repr-fallback {display: none;}</style><div id=\"sk-container-id-1\" class=\"sk-top-container\"><div class=\"sk-text-repr-fallback\"><pre>CountVectorizer(min_df=5, stop_words=&#x27;english&#x27;)</pre><b>In a Jupyter environment, please rerun this cell to show the HTML representation or trust the notebook. <br />On GitHub, the HTML representation is unable to render, please try loading this page with nbviewer.org.</b></div><div class=\"sk-container\" hidden><div class=\"sk-item\"><div class=\"sk-estimator sk-toggleable\"><input class=\"sk-toggleable__control sk-hidden--visually\" id=\"sk-estimator-id-1\" type=\"checkbox\" checked><label for=\"sk-estimator-id-1\" class=\"sk-toggleable__label sk-toggleable__label-arrow\">CountVectorizer</label><div class=\"sk-toggleable__content\"><pre>CountVectorizer(min_df=5, stop_words=&#x27;english&#x27;)</pre></div></div></div></div></div>"
            ]
          },
          "metadata": {},
          "execution_count": 42
        }
      ],
      "source": [
        "from sklearn.feature_extraction.text import CountVectorizer\n",
        "vect = CountVectorizer(min_df=5,stop_words=\"english\")\n",
        "vect.fit(X_train)"
      ]
    },
    {
      "cell_type": "code",
      "execution_count": 43,
      "metadata": {
        "colab": {
          "base_uri": "https://localhost:8080/"
        },
        "id": "vxSUjAbWud0w",
        "outputId": "4235b541-b1de-43cd-a2f0-f92b2a8642e7"
      },
      "outputs": [
        {
          "output_type": "stream",
          "name": "stdout",
          "text": [
            "Vocabulary size: 6373\n",
            "Vocabulary content:\n",
            " {'brand': 673, 'gen': 2358, 'shop': 5108, 'according': 32, 'survey': 5554, 'young': 6356, 'americans': 206, 'biggest': 554, 'mistake': 3625, 'people': 4087, 'make': 3389, 'buying': 778, 'home': 2635, 'real': 4553, 'estate': 1935, 'agent': 119, 'self': 5013, 'driving': 1729, 'vehicle': 6064, 'won': 6287, 'cost': 1270, 'competitive': 1123, 'anytime': 257, 'soon': 5258, 'hire': 2617, 'talented': 5614, 'way': 6184, 'record': 4589, 'win': 6259, 'lucrative': 3354, 'endorsement': 1860, 'serena': 5040, 'williams': 6254, 'ambassador': 200, 'warren': 6168, 'buffett': 739, 'egg': 1802, 'teach': 5645, 'important': 2748, 'life': 3254, 'lesson': 3228, 'll': 3297, 'year': 6341, 'scott_mautz': 4970, 'glass': 2392, 'second': 4988, 'bridge': 702, 'brilliant': 707, 'method': 3555, 'snow': 5230, 'removal': 4673, 'leadership': 3187, 'come': 1082, 'sign': 5137, 'leading': 3188, 'indicator': 2794, 'company': 1113, 'health': 2566, 'genehammett': 2361, 'breaking': 685, 'tokyo': 5782, 'court': 1290, 'head': 2559, 'crypto': 1352, 'exchange': 1973, 'mt': 3692, 'guilty': 2485, 'mark': 3438, 'wa': 6136, 'given': 2390, 'suspended': 5565, 'prison': 4343, 'sentence': 5032, 'neuralink': 3778, 'small': 5211, 'secretive': 4992, 'brain': 670, 'computing': 1140, 'startup': 5370, 'founded': 2256, 'elon': 1826, 'musk': 3707, 'ha': 2497, 'raised': 4509, 'million': 3589, 'planned': 4184, 'funding': 2314, 'round': 4861, 'hunt': 2689, 'paul': 4063, 'mad': 3369, 'travel': 5861, 'government': 2421, 'warning': 6165, 'fly': 2211, 'venezuela': 6065, 'risk': 4815, 'arrest': 317, 'game': 2331, 'thrones': 5743, 'earned': 1760, 'nomination': 3810, 'program': 4375, 'history': 2622, 'ruth': 4892, 'road': 4821, 'jersey': 2988, 'sell': 5015, 'auction': 374, 'thousands': 5732, 'cat': 866, 'dog': 1662, 'permian': 4105, 'owner': 3987, 'ca': 783, 'housing': 2667, 'ship': 5095, 'panama': 4012, 'canal': 808, 'alibaba': 170, 'founder': 2257, 'jack': 2954, 'ma': 3362, 'think': 5723, 'high': 2604, 'tech': 5654, 'worker': 6300, 'dumb': 1744, 'brick': 701, 'probably': 4352, 'right': 4804, 'sales_source': 4909, 'critic': 1330, 'woman': 6285, 'stand': 5359, 'modi': 3642, 'majority': 3388, 'india': 2789, 'thing': 5721, 'flight': 2195, 'attendant': 369, 'wish': 6277, 'tell': 5668, 'singapore': 5159, 'apartment': 262, 'trump': 5904, 'administration': 80, 'said': 4901, 'continue': 1219, 'press': 4318, 'china': 965, 'unfair': 5987, 'trading': 5829, 'practice': 4284, 'attorney': 371, 'general': 2362, 'cox': 1299, 'confirms': 1160, 'legal': 3210, 'remains': 4664, 'britain': 712, 'permanently': 4104, 'stuck': 5464, 'irish': 2929, 'brexit': 698, 'angela': 227, 'merkel': 3545, 'opening': 3907, 'new': 3783, 'wind': 6260, 'farm': 2086, 'sea': 4978, 'little': 3291, 'reputation': 4704, 'germany': 2378, 'climate': 1020, 'chancellor': 919, 'help': 2593, 'transfer': 5845, 'cash': 860, 'abroad': 11, 'worth': 6315, 'billion': 557, 'reality': 4557, 'beer': 504, 'change': 920, 'russia': 4889, 'emotion': 1840, 'boost': 633, 'power': 4278, 'special': 5294, 'counsel': 1277, 'robert': 4827, 'mueller': 3695, 'delivered': 1487, 'final': 2150, 'report': 4692, 'probe': 4353, 'watch': 6176, 'coverage': 1293, 'live': 3293, 'supreme': 5537, 'consider': 1183, 'federal': 2112, 'law': 3175, 'bar': 461, 'employer': 1850, 'discriminating': 1608, 'gay': 2352, 'transgender': 5849, 'qatar': 4463, 'begun': 509, 'bond': 622, 'investment': 2906, 'debt': 1430, 'say': 4943, 'committed': 1102, 'pledge': 4204, 'know': 3106, 'city': 1001, 'asia': 328, 'ceo': 897, 'explains': 2013, 'going': 2406, 'customer': 1374, 'push': 4456, 'cybersecurity': 1379, 'deadliest': 1420, 'volcano': 6120, 'eruption': 1918, 'fortune': 2249, 'nigerian': 3797, 'oil': 3885, 'attention': 370, 'firmly': 2172, 'london': 3315, 'launching': 3169, 'campaign': 801, 'aimed': 137, 'donald': 1678, 'economic': 1783, 'message': 3547, 'seven': 5054, 'swing': 5584, 'state': 5374, 'wi': 6236, 'oh': 3882, 'include': 2771, 'event': 1954, 'auto': 389, 'factory': 2058, 'aren': 303, 'experiencing': 2005, 'boom': 630, 'michael': 3562, 'cohen': 1055, 'heading': 2562, 'jail': 2961, 'set': 5049, 'social': 5236, 'problem': 4355, 'conventional': 1235, 'wisdom': 6275, 'don': 1677, 'solution': 5250, 'just': 3052, 'haven': 2552, 'tried': 5884, 'stanfordhumanai': 5363, 'paint': 4003, 'expensive': 2002, 'known': 3109, 'black': 576, 'code': 1051, 'creating': 1316, 'girl': 2388, 'technology': 5658, 'apple': 277, 'share': 5074, 'turned': 5929, 'suddenly': 5496, 'lower': 3346, 'aoc': 258, 'twice': 5938, 'popular': 4243, 'article': 324, 'politician': 4232, 'shaq': 5072, 'reflects': 4615, 'learned': 3197, 'failure': 2063, 'working': 6303, 'le': 3183, 'greatly': 2445, 'increase': 2780, 'quality': 4466, 'saving': 4941, 'bank': 450, 'run': 4881, 'japan': 2970, 'postal': 4263, 'service': 5046, 'unlikely': 6005, 'global': 2395, 'powerhouse': 4281, 'choice': 970, 'projected': 4381, 'overtake': 3980, 'world': 6306, 'populous': 4248, 'country': 1284, 'industry': 2803, 'downturn': 1700, 'seen': 5006, 'great': 2442, 'recession': 4579, 'really': 4560, 'gone': 2412, 'teaser': 5653, 'star': 5365, 'wars': 6170, 'episode': 1904, 'half': 2509, 'chinese': 966, 'consumer': 1201, 'wait': 6139, 'car': 832, 'start': 5367, 'elizabeth': 1825, 'wells': 6216, 'fargo': 2085, 'tim': 5761, 'departure': 1513, 'time': 5762, 'isn': 2936, 'biden': 550, 'locked': 3310, 'party': 4038, 'came': 798, 'pro': 4351, 'remain': 4662, 'got': 2418, 'vote': 6126, 'labour': 3128, 'dems': 1505, 'surge': 5541, 'place': 4179, 'conservatives': 1182, 'astonishing': 351, 'alabama': 155, 'da': 1385, 'wo': 6282, 'prosecute': 4401, 'indicted': 2795, 'lost': 3335, 'pregnancy': 4297, 'shot': 5117, 'accused': 40, 'mastermind': 3462, 'hack': 2500, 'appears': 275, 'helping': 2596, 'authority': 387, 'russian': 4890, 'hacking': 2504, 'money': 3651, 'laundering': 3170, 'feel': 2118, 'control': 1229, 'happier': 2529, 'entrylevelrebel': 1898, 'amazon': 199, 'microsoft': 3569, 'jedi': 2978, 'contract': 1224, 'offer': 3873, 'purpose': 4452, 'cloud': 1037, 'defense': 1469, 'department': 1512, 'rally': 4513, 'america': 204, 'stock': 5406, 'lessons': 3229, 'gucci': 2479, 'corporate': 1263, 'board': 610, 'impact': 2737, 'carolsankar': 849, 'uefa': 5952, 'chief': 961, 'michel': 3563, 'arrested': 318, 'corruption': 1266, 'looking': 3323, 'cup': 1362, 'human': 2681, 'send': 5024, 'email': 1828, 'hour': 2663, 'pressure': 4320, 'respond': 4732, 'inflation': 2811, 'near': 3747, 'goal': 2403, 'strong': 5454, 'labor': 3127, 'market': 3439, 'likely': 3268, 'outcome': 3958, 'uncertainty': 5968, 'outlook': 3962, 'increased': 2781, 'understand': 5978, 'employee': 1848, 'perspective': 4114, 'organizational': 3939, 'reason': 4562, 'economy': 1788, 'slowing': 5205, 'need': 3756, 'goldman': 2410, 'economist': 1786, 'thriving': 5741, 'electric': 1812, 'starting': 5369, 'pinch': 4164, 'beijing': 513, 'putting': 4460, 'brake': 671, 'generous': 2370, 'subsidy': 5482, 'plan': 4181, 'performance': 4095, 'established': 1932, 'rival': 4818, 'like': 3265, 'tesla': 5693, 'reuterstv': 4768, 'playlist': 4196, 'old': 3888, 'swiss': 5586, 'patek': 4053, 'philippe': 4137, 'sale': 4907, 'chairman': 909, 'scientists': 4962, 'activity': 60, 'dead': 1419, 'pig': 4158, 'raising': 4510, 'question': 4473, 'definition': 1474, 'death': 1428, 'lead': 3184, 'scenario': 4951, 'political': 4230, 'schiff': 4957, 'body': 613, 'class': 1009, 'infamous': 2806, 'tower': 5817, 'meeting': 3513, 'did': 1566, 'tensions': 5680, 'nuclear': 3832, 'taken': 5609, 'sudden': 5495, 'nasty': 3727, 'turn': 5927, 'marking': 3444, 'increasingly': 2783, 'tricky': 5883, 'leader': 3185, 'imran': 2764, 'khan': 3080, 'narendra': 3722, 'want': 6153, 'person': 4109, 'fix': 2179, 'grown': 2468, 'knowing': 3107, 'bias': 546, 'criminal': 1327, 'justice': 3053, 'kamala': 3057, 'harris': 2541, 'rt': 4872, 'mwbuckingham': 3710, 'manage': 3403, 'interact': 2866, 'collaborate': 1061, 'far': 2082, 'perk': 4102, 'video': 6084, 'read': 4549, 'nineliesaboutwork': 3801, 'quitting': 4483, 'phrase': 4146, 'outside': 3966, 'box': 660, 'retired': 4760, 'armenia': 313, 'epic': 1902, 'photo': 4143, 'senator': 5022, 'bernie': 534, 'sanders': 4925, 'face': 2050, 'skeptical': 5174, 'audience': 375, 'minority': 3607, 'texas': 5701, 'publicly': 4431, 'traded': 5826, 'hedge': 2582, 'fund': 2310, 'happy': 2532, 'reading': 4551, 'bopinion': 638, 'kim': 3091, 'jong': 3021, 'vietnam': 6085, 'ahead': 132, 'talk': 5616, 'look': 3321, 'moment': 3647, 'train': 5839, 'arrived': 320, 'key': 3075, 'healthy': 2570, 'relationship': 4645, 'huawei': 2675, 'research': 4712, 'project': 4380, 'armed': 312, 'force': 2231, 'personnel': 4113, 'closer': 1031, 'tie': 5755, 'military': 3583, 'previously': 4327, 'acknowledged': 49, 'big': 552, 'idea': 2709, 'blueprint': 608, 'join': 3013, 'create': 1313, 'smaller': 5212, 'treat': 5869, 'gender': 2359, 'equality': 1907, 'good': 2413, 'reframe': 4617, 'wide': 6237, 'sold': 5246, 'foods': 2225, 'took': 5794, 'save': 4939, 'prime': 4333, 'gameofthrones': 2332, 'character': 928, 'lot': 3336, 'different': 1573, 'westeros': 6222, 'bitcoin': 571, 'expressed': 2030, 'deep': 1453, 'cryptocurrencies': 1353, 'effort': 1801, 'rebuild': 4569, 'notre': 3827, 'dame': 1396, 'cathedral': 874, 'source': 5269, 'reportedly': 4694, 'considered': 1185, 'intel': 2856, 'smartphone': 5216, 'business': 768, 'praised': 4287, 'security': 4998, 'lab': 3124, 'finding': 2160, 'flaw': 2188, 'driver': 1727, 'assistance': 344, 'autopilot': 398, 'longer': 3318, 'rising': 4814, 'wealthy': 6194, 'nation': 3729, 'age': 115, 'future': 2320, 'best': 536, 'younger': 6357, 'exercise': 1984, 'science': 4959, 'named': 3719, 'price': 4328, 'end': 1855, 'trade': 5825, 'war': 6156, 'president': 4316, 'hbo': 2556, 'disposable': 1621, 'coffee': 1052, 'fan': 2079, 'mcdonald': 3484, 'uber': 5950, 'eats': 1776, 'negotiate': 3760, 'delivery': 1490, 'fee': 2115, 'marijuana': 3433, 'compound': 1136, 'open': 3905, 'door': 1686, 'treatment': 5872, 'devastating': 1554, 'disease': 1614, 'chart': 935, 'facebook': 2051, 'google': 2415, 'dominate': 1671, 'digital': 1577, 'testifies': 5697, 'house': 2665, 'secretary': 4991, 'pompeo': 4238, 'entitled': 1889, 'exactly': 1966, 'arctic': 300, 'trying': 5911, 'authentic': 383, 'sure': 5538, 'doing': 1664, 'eating': 1775, 'soybean': 5278, 'bed': 500, 'actually': 64, 'production': 4366, 'embarrassing': 1829, 'season': 4984, 'huge': 2679, 'enforcement': 1863, 'dna': 1652, 'data': 1405, 'reach': 4544, 'build': 743, 'online': 3902, 'medium': 3511, 'block': 593, 'advertising': 96, 'settle': 5052, 'string': 5450, 'lawsuit': 3177, 'traders': 5828, 'lived': 3294, 'crisis': 1328, 'buy': 776, 'commodity': 1104, 'worst': 6314, 'weekly': 6206, 'slump': 5209, 'vacation': 6043, 'mindset': 3597, 'weekend': 6205, 'return': 4764, 'work': 6297, 'growing': 2467, 'evidence': 1959, 'spent': 5308, 'day': 1416, 'beautiful': 496, 'incredibly': 2785, 'dangerous': 1400, 'animal': 232, 'effect': 1797, 'tongue': 5791, 'tied': 5756, 'networking': 3777, 'room': 4853, 'higher': 2605, 'peek': 4074, 'inside': 2834, 'transforming': 5848, 'whereskr': 6230, 'formally': 2243, 'announces': 241, 'election': 1810, 'bid': 548, 'asks': 334, 'crowd': 1341, 'choose': 973, 'stainless': 5352, 'steel': 5388, 'able': 7, 'unveils': 6015, 'fine': 2161, 'corporation': 1264, 'fail': 2059, 'prove': 4418, 'paying': 4066, 'equally': 1908, 'men': 3528, 'similar': 5152, 'alexandria': 164, 'ocasio': 3864, 'cortez': 1267, 'slammed': 5187, 'blocking': 597, 'twitter': 5941, 'making': 3394, 'easier': 1766, 'use': 6032, 'retirement': 4761, 'older': 3889, 'lion': 3278, 'king': 3094, 'delivers': 1489, 'disney': 1618, 'tested': 5695, 'skip': 5180, 'week': 6204, 'went': 6218, 'effective': 1798, 'requires': 4709, 'master': 3460, 'skill': 5176, 'hospital': 2656, 'philadelphia': 4135, 'prince': 4335, 'harry': 2542, 'wife': 6244, 'meghan': 3515, 'proud': 4417, 'parent': 4022, 'baby': 425, 'boy': 662, 'offering': 3875, 'submarine': 5476, 'ride': 4800, 'barrier': 471, 'netherlands': 3775, 'clean': 1012, 'image': 2729, 'tax': 5636, 'promising': 4385, 'reform': 4616, 'emerged': 1833, 'shell': 5085, 'paid': 4000, 'despite': 1539, 'dutch': 1748, 'root': 4854, 'believe': 515, 'improve': 2759, 'promise': 4383, 'reuters': 4767, 'oecd': 3870, 'extra': 2039, 'freezing': 2279, 'temperature': 5670, 'didn': 1568, 'stop': 5416, 'lining': 3274, 'cannabis': 817, 'store': 5420, 'canada': 805, 'largest': 3157, 'robots': 4832, 'taking': 5612, 'faster': 2090, 'saw': 4942, 'coming': 1089, 'atomic': 358, 'clock': 1027, 'nasa': 3725, 'solar': 5245, 'sailing': 4903, 'spacecraft': 5280, 'metal': 3553, 'capsule': 828, 'packed': 3996, 'spacex': 5281, 'businessinsider': 770, 'map': 3419, 'elonmusk': 1827, 'launched': 3168, 'tiger': 5758, 'woods': 6294, 'masters': 3464, 'single': 5161, 'showed': 5120, 'rest': 4740, 'field': 2135, 'nervous': 3769, 'embassy': 1830, 'nationwide': 3734, 'protest': 4412, 'europeans': 1950, 'transition': 5851, 'anxiety': 254, 'researcher': 4713, 'hard': 2535, 'common': 1105, 'attempt': 365, 'pay': 4065, 'gap': 2337, 'add': 70, 'feature': 2107, 'artificial': 325, 'intelligence': 2858, 'better': 541, 'backed': 426, 'disgraced': 1615, 'movie': 3684, 'mogul': 3643, 'harvey': 2546, 'weinstein': 6212, 'speech': 5302, 'maintain': 3385, 'professional': 4370, 'integrity': 2855, 'bring': 708, 'internet': 2879, 'built': 745, 'sent': 5031, 'taught': 5635, 'remarkably': 4668, 'powerful': 4280, 'success': 5489, 'bizzwriter': 575, 'bunch': 755, 'college': 1072, 'engineer': 1869, 'hit': 2623, 'speed': 5303, 'mph': 3687, 'pod': 4218, 'competition': 1122, 'european': 1949, 'union': 5993, 'closely': 1030, 'influential': 2814, 'group': 2465, 'ceos': 898, 'dinosaur': 1583, 'theresa': 5718, 'proposes': 4399, 'deal': 1424, 'passed': 4042, 'wednesday': 6202, 'seek': 5002, 'delay': 1479, 'june': 3046, 'story': 5424, 'universe': 5999, 'doe': 1659, 'ending': 1859, 'fall': 2069, 'short': 5112, 'trillion': 5888, 'result': 4749, 'killing': 3090, 'strict': 5447, 'workplace': 6305, 'rule': 4876, 'follow': 2220, 'hangover': 2523, 'construction': 1196, 'retail': 4751, 'grab': 2423, 'headphone': 2564, 'founders': 2258, 'alexavontobel': 165, 'podcast': 4219, 'shake': 5062, 'shack': 5060, 'hiring': 2619, 'getting': 2380, 'food': 2224, 'date': 1407, 'spoiler': 5315, 'candidate': 815, 'marketing': 3441, 'job': 3000, 'lady': 3133, 'captured': 831, 'oscars': 3951, 'ceremony': 900, 'cancel': 809, 'student': 5465, 'loan': 3302, 'race': 4488, 'anthony': 250, 'australia': 380, 'opposition': 3922, 'remote': 4672, 'team': 5648, 'suffer': 5499, 'distraction': 1630, 'frustration': 2297, 'unique': 5994, 'challenge': 910, 'mile': 3580, 'range': 4524, 'chicago': 958, 'police': 4227, 'alleges': 179, 'prosecutor': 4402, 'investigation': 2902, 'empire': 1846, 'actor': 61, 'jussie': 3051, 'smollett': 5222, 'plant': 4186, 'protein': 4411, 'burger': 757, 'texture': 5704, 'chris': 978, 'kicked': 3083, 'stephen': 5394, 'curry': 1370, 'warriors': 6169, 'player': 4194, 'laugh': 3166, 'eliminating': 1823, 'following': 2223, 'helped': 2594, 'grow': 2466, 'shadow': 5061, 'web': 6199, 'saudi': 4936, 'sister': 5165, 'stole': 5410, 'dad': 1386, 'phone': 4142, 'flee': 2190, 'restriction': 4747, 'granted': 2435, 'asylum': 353, 'charge': 930, 'considers': 1187, 'pot': 4267, 'normal': 3816, 'notice': 3824, 'bad': 434, 'news': 3787, 'famous': 2077, 'left': 3206, 'restaurant': 4742, 'poll': 4234, 'respect': 4731, 'russians': 4891, 'josef': 3024, 'stalin': 5355, 'surged': 5542, 'percent': 4089, 'saying': 4944, 'judiciary': 3037, 'barr': 468, 'explain': 2011, 'decision': 1440, 'pursue': 4453, 'obstruction': 3862, 'investor': 2908, 'development': 1559, 'wondering': 6291, 'property': 4396, 'slowdown': 5202, 'emerging': 1835, 'malaysia': 3395, 'burned': 760, 'figure': 2141, 'blaming': 585, 'muslims': 3709, 'zimbabwe': 6365, 'dollar': 1666, 'mobile': 3636, 'possible': 4260, 'purchase': 4446, 'eat': 1773, 'talking': 5618, 'friend': 2290, 'phenomenon': 4134, 'called': 794, 'surveillance': 5553, 'capitalism': 825, 'spotify': 5328, 'reached': 4545, 'subscriber': 5479, 'music': 3705, 'stadium': 5348, 'sits': 5168, 'update': 6018, 'restart': 4741, 'arabia': 294, 'agree': 125, 'extend': 2032, 'cut': 1376, 'book': 625, 'smarter': 5214, 'brink': 711, 'cabinet': 786, 'minister': 3604, 'demand': 1495, 'drop': 1731, 'rolling': 4847, 'pound': 4272, 'ease': 1765, 'deadlock': 1422, 'continues': 1221, 'carrying': 854, 'device': 1560, 'computer': 1139, 'briefly': 705, 'gained': 2324, 'admission': 82, 'mar': 3422, 'lago': 3136, 'club': 1038, 'dow': 1695, 'jones': 3020, 'industrial': 2802, 'average': 405, 'break': 682, 'broke': 718, 'water': 6180, 'thread': 5733, 'produced': 4362, 'shock': 5100, 'pm': 4215, 'conservative': 1181, 'leaning': 3194, 'happen': 2525, 'mean': 3491, 'air': 139, 'outline': 3961, 'calling': 795, 'lockheed': 3312, 'fiscal': 2173, 'boeing': 614, 'highly': 2608, 'indian': 2790, 'youth': 6359, 'course': 1289, 'spoke': 5317, 'judy': 3038, 'consideration': 1184, 'spot': 5327, 'reserve': 4715, 'term': 5684, 'stay': 5380, 'tasted': 5634, 'peace': 4069, 'agreement': 128, 'north': 3817, 'south': 5270, 'korea': 3112, 'massive': 3459, 'international': 2877, 'relation': 4644, 'airport': 148, 'expansion': 1994, 'finally': 2153, 'tweeted': 5936, 'tariff': 5631, 'month': 3656, 'closed': 1029, 'happens': 2528, 'spanish': 5284, 'utility': 6041, 'europe': 1948, 'booming': 632, 'bloomberg': 601, 'weighs': 6210, 'offensive': 3872, 'fashion': 2088, 'trend': 5877, 'bos': 646, 'micro': 3568, 'manager': 3406, 'salubriousdish': 4914, 'danish': 1402, 'seizing': 5009, 'luxury': 3358, 'crack': 1302, 'evasion': 1952, 'started': 5368, 'producing': 4364, 'designed': 1535, 'away': 419, 'chip': 967, 'nvidia': 3843, 'succeed': 5488, 'network': 3776, 'kuwait': 3120, 'planning': 4185, 'invest': 2897, 'jr': 3032, 'scary': 4950, 'policy': 4228, 'rowling': 4869, 'quite': 4482, 'based': 476, 'estimated': 1938, 'net': 3772, 'lightning': 3263, 'storm': 5422, 'received': 4574, 'regulatory': 4637, 'recognition': 4582, 'arab': 293, 'venezuelan': 6066, 'juan': 3034, 'guaido': 2475, 'base': 474, 'capital': 824, 'uprising': 6023, 'ordered': 3932, 'award': 415, 'oregon': 3935, 'refused': 4622, 'cake': 791, 'sex': 5056, 'wedding': 6201, 'case': 859, 'debate': 1429, 'religious': 4658, 'equal': 1906, 'walmart': 6150, 'testing': 5700, 'comprehensive': 1137, 'framework': 2267, 'operate': 3910, 'fake': 2068, 'ok': 3886, 'times': 5764, 'absolutely': 15, 'pharma': 4130, 'martin': 3452, 'tapped': 5626, 'office': 3876, 'acting': 55, 'division': 1644, 'latest': 3164, 'added': 71, 'gop': 2416, 'ally': 189, 'origin': 3943, 'organization': 3938, 'provide': 4421, 'window': 6261, 'operation': 3913, 'satisfied': 4931, 'loyal': 3349, 'willing': 6256, 'gamestop': 2333, 'decline': 1447, 'july': 3041, 'plane': 4182, 'crash': 1308, 'uk': 5957, 'scott': 4969, 'interview': 2883, 'cook': 1245, 'saved': 4940, 'earthquake': 1764, 'ecb': 1779, 'postponed': 4266, 'snap': 5225, 'import': 2746, 'expense': 2001, 'tremendous': 5876, 'adjust': 79, 'monetary': 3650, 'central': 895, 'governor': 2422, 'japanese': 2971, 'diplomat': 1585, 'led': 3204, 'energy': 1862, 'agency': 117, 'decade': 1434, 'died': 1570, 'quiz': 4484, 'kind': 3092, 'negotiator': 3763, 'oscar': 3950, 'daughter': 1409, 'attempting': 367, 'highlight': 2607, 'peril': 4099, 'facing': 2055, 'migrant': 3575, 'cross': 1336, 'mexican': 3559, 'border': 639, 'israel': 2938, 'national': 3730, 'citizen': 999, 'jewish': 2994, 'benjamin': 528, 'netanyahu': 3773, 'winning': 6268, 'circle': 993, 'senior': 5027, 'banker': 451, 'unable': 5965, 'support': 5530, 'leaving': 3201, 'speaks': 5293, 'parliament': 4030, 'reject': 4641, 'civilian': 1003, 'boxing': 661, 'upset': 6025, 'valuable': 6047, 'principle': 4338, 'needed': 3757, 'thejulianhayes': 5712, 'series': 5042, 'believer': 517, 'seat': 4985, 'perfectly': 4093, 'putin': 4459, 'dilemma': 1579, 'closest': 1032, 'bear': 493, 'imported': 2749, 'promised': 4384, 'retaliation': 4755, 'duty': 1750, 'recognize': 4583, 'sovereignty': 5276, 'golan': 2407, 'heights': 2585, 'photos': 4145, 'korean': 3113, 'cleaned': 1013, 'material': 3466, 'used': 6033, 'surface': 5539, 'researchers': 4714, 'studied': 5466, 'american': 205, 'married': 3448, 'couple': 1287, 'slash': 5189, 'analysts': 218, 'sense': 5028, 'giant': 2383, 'falling': 2071, 'ai': 133, 'electronic': 1814, 'airlines': 145, 'ground': 2462, 'premature': 4300, 'blade': 582, 'engine': 1868, 'challenging': 912, 'ban': 447, 'judge': 3035, 'steady': 5382, 'yen': 6346, 'golden': 2409, 'holiday': 2632, 'currency': 1367, 'argentina': 305, 'peso': 4118, 'turkey': 5924, 'lira': 3283, 'crude': 1345, 'wine': 6264, 'heart': 2574, 'caused': 878, 'skyrocket': 5182, 'natural': 3737, 'grocery': 2459, 'weapon': 6195, 'jaguar': 2960, 'sedan': 4999, 'cheap': 939, 'furious': 2318, 'shopper': 5109, 'cutting': 1377, 'card': 835, 'improvement': 2761, 'retailer': 4752, 'donate': 1679, 'button': 775, 'suit': 5512, 'jacket': 2955, 'doctor': 1653, 'medical': 3505, 'pursuing': 4454, 'training': 5841, 'diversify': 1638, 'career': 837, 'option': 3927, 'growth': 2470, 'strategy': 5434, 'bullet': 748, 'point': 4221, 'startuppro': 5371, 'millionaire': 3590, 'expected': 1998, 'habit': 2498, 'intention': 2864, 'depression': 1520, 'modern': 3640, 'jpmorgan': 3031, 'jamie': 2967, 'dimon': 1580, 'odds': 3869, 'toy': 5821, 'playing': 4195, 'incredible': 2784, 'number': 3834, 'hours': 2664, 'maximize': 3475, 'says': 4945, 'study': 5469, 'chrismatyszczyk': 979, 'mention': 3532, 'tsla': 5912, 'finance': 2155, 'focus': 2214, 'transparency': 5853, 'fintech': 2167, 'terrifying': 5687, 'lyft': 3360, 'attacked': 363, 'passenger': 4043, 'major': 3387, 'fear': 2104, 'wrap': 6319, 'hanoi': 2524, 'tictoctrumpkim': 5753, 'aging': 123, 'democratic': 1501, 'presidential': 4317, 'released': 4650, 'switzerland': 5589, 'knocked': 3104, 'ranked': 4526, 'destination': 1541, 'mitch': 3629, 'mcconnell': 3483, 'tuesday': 5914, 'picture': 4156, 'african': 112, 'detective': 1548, 'credit': 1323, 'timing': 5765, 'brazil': 678, 'trip': 5889, 'york': 6354, 'rights': 4805, 'activist': 59, 'scooter': 4964, 'invited': 2912, 'transport': 5856, 'morning': 3661, 'public': 4430, 'pretty': 4322, 'billionaire': 558, 'steve': 5398, 'condo': 1151, 'west': 6220, 'village': 6089, 'spur': 5337, 'booking': 628, 'frenzy': 2281, 'summer': 5517, 'eu': 1946, 'penny': 4083, 'official': 3878, 'purge': 4451, 'hp': 2671, 'italian': 2944, 'supercar': 5523, 'list': 3284, 'quietly': 4480, 'closing': 1033, 'british': 713, 'airways': 152, 'pilot': 4162, 'voted': 6127, 'strike': 5448, 'action': 56, 'fox': 2261, 'ancient': 222, 'reveals': 4773, 'style': 5474, 'learn': 3196, 'expert': 2008, 'teaching': 5647, 'navigate': 3740, 'tracking': 5824, 'host': 2657, 'access': 25, 'information': 2816, 'toronto': 5801, 'piece': 4157, 'contain': 1206, 'dot': 1688, 'ethiopian': 1945, 'aid': 134, 'antitrust': 253, 'drinking': 1724, 'juice': 3039, 'beverage': 543, 'linked': 3276, 'cancer': 814, 'gun': 2488, 'crime': 1326, 'promoted': 4387, 'lobby': 3303, 'carry': 853, 'violent': 6097, 'population': 4245, 'hitting': 2625, 'especially': 1926, 'tony': 5793, 'robbins': 4826, 'tip': 5769, 'traffic': 5833, 'controller': 1231, 'handle': 2518, 'stress': 5442, 'hold': 2629, 'hearing': 2573, 'regulation': 4635, 'platform': 4190, 'flowing': 2208, 'asked': 332, 'th': 5705, 've': 6058, 'eaten': 1774, 'fed': 2111, 'beef': 503, 'past': 4048, 'chance': 918, 'cow': 1296, 'weren': 6219, 'shut': 5128, 'pete': 4121, 'buttigieg': 774, 'electoral': 1811, 'pack': 3994, 'youngest': 6358, 'tourist': 5814, 'pulling': 4439, 'spending': 5306, 'intended': 2861, 'productive': 4367, 'soccer': 5235, 'mercedes': 3537, 'helicopter': 2591, 'account': 33, 'nearly': 3750, 'alike': 173, 'routine': 4866, 'behavioral': 512, 'scientist': 4961, 'communication': 1109, 'iran': 2924, 'drone': 1730, 'tackle': 5601, 'leave': 3200, 'early': 1758, 'january': 2969, 'investors': 2909, 'pouring': 4274, 'vcs': 6057, 'blow': 604, 'pick': 4152, 'behave': 510, 'differently': 1574, 'attack': 362, 'foot': 2227, 'minute': 3608, 'ipo': 2921, 'pitch': 4172, 'carminegallo': 846, 'commerce': 1095, 'wilbur': 6247, 'ross': 4857, 'indicated': 2793, 'carmaker': 845, 'volkswagen': 6121, 'bmw': 609, 'kid': 3084, 'advanced': 92, 'importance': 2747, 'limit': 3269, 'republican': 4702, 'patience': 4057, 'executive': 1982, 'zero': 6364, 'yield': 6351, 'ingredient': 2819, 'bread': 681, 'rate': 4537, 'prop': 4394, 'st': 5343, 'louis': 3339, 'james': 2966, 'suggested': 5506, 'footage': 2228, 'cockpit': 1049, 'panic': 4016, 'crashed': 1309, 'silica': 5149, 'bag': 436, 'dry': 1741, 'yale': 6339, 'review': 4779, 'proposed': 4398, 'recruit': 4596, 'amid': 207, 'allegation': 176, 'coach': 1041, 'school': 4958, 'bribe': 699, 'admit': 83, 'application': 280, 'italy': 2945, 'avoid': 409, 'gray': 2440, 'wolf': 6284, 'endangered': 1856, 'specie': 5296, 'free': 2275, 'throw': 5744, 'technique': 5657, 'red': 4599, 'release': 4649, 'weakest': 6190, 'soft': 5242, 'role': 4842, 'financial': 2156, 'hub': 2676, 'feedback': 2117, 'guardian': 2478, 'explore': 2018, 'partner': 4035, 'created': 1314, 'turbine': 5922, 'stroke': 5453, 'pen': 4077, 'birth': 568, 'prevent': 4323, 'shrinking': 5126, 'agenda': 118, 'plenty': 4207, 'momentum': 3648, 'art': 323, 'discovered': 1606, 'painting': 4004, 'long': 3317, 'thought': 5730, 'fact': 2056, 'florence': 2205, 'innovative': 2830, 'holding': 2630, 'relatively': 4647, 'level': 3233, 'businesses': 769, 'markets': 3443, 'panasonic': 4013, 'experimental': 2007, 'moving': 3685, 'fridge': 2288, 'responds': 4736, 'voice': 6117, 'writing': 6325, 'inner': 2826, 'writer': 6323, 'amybgeorge': 211, 'salesforce': 4910, 'marc': 3424, 'close': 1028, 'losing': 3333, 'fight': 2138, 'shift': 5090, 'norm': 3815, 'clear': 1016, 'priority': 4342, 'exciting': 1975, 'try': 5910, 'overcome': 3970, 'ability': 6, 'simple': 5154, 'steinbrecherinc': 5390, 'gold': 2408, 'lack': 3130, 'practical': 4283, 'pile': 4159, 'negative': 3759, 'yielding': 6352, 'doesn': 1661, 'cooking': 1247, 'steak': 5383, 'replace': 4687, 'iranian': 2925, 'consultant': 1198, 'bathroom': 483, 'embattled': 1831, 'max': 3474, 'safely': 4898, 'returned': 4765, 'cause': 877, 'mindazetlin': 3594, 'primary': 4332, 'borrower': 644, 'advantage': 94, 'stable': 5345, 'tone': 5790, 'chain': 907, 'nyu': 3849, 'category': 873, 'extended': 2033, 'blackout': 579, 'recent': 4576, 'memory': 3527, 'persistent': 4108, 'electricity': 1813, 'expect': 1996, 'pour': 4273, 'outcry': 3959, 'murder': 3702, 'jamal': 2965, 'khashoggi': 3081, 'prepare': 4305, 'minimum': 3602, 'doubling': 1691, 'april': 292, 'fourth': 2259, 'liquid': 3281, 'cofounder': 1053, 'nato': 3736, 'instagram': 2842, 'pinterest': 4167, 'convincing': 1242, 'perfect': 4092, 'candy': 816, 'sugar': 5504, 'banking': 452, 'millennials': 3587, 'lure': 3357, 'deutsche': 1553, 'guy': 2492, 'correction': 1265, 'considering': 1186, 'airline': 143, 'drug': 1737, 'el': 1808, 'chapo': 926, 'cold': 1059, 'joint': 3016, 'muscle': 3703, 'thai': 5706, 'earth': 1763, 'ago': 124, 'pastel': 4050, 'nata': 3728, 'languishing': 3151, 'obscurity': 3858, 'exec': 1979, 'proven': 4420, 'formula': 2246, 'presentation': 4312, 'instantly': 2844, 'legacy': 3209, 'learning': 3199, 'journalist': 3028, 'describes': 1530, 'father': 2096, 'ready': 4552, 'wants': 6155, 'snapchat': 5226, 'camera': 799, 'let': 3230, 'user': 6036, 'post': 4262, 'swipe': 5585, 'instead': 2845, 'shipping': 5098, 'container': 1208, 'rise': 4812, 'tiktok': 5760, 'sharing': 5078, 'app': 268, 'owned': 3986, 'meat': 3497, 'surging': 5544, 'straight': 5425, 'colorado': 1077, 'cap': 820, 'insulin': 2849, 'telling': 5669, 'engaged': 1865, 'uncomfortable': 5971, 'necessary': 3753, 'sovereign': 5275, 'default': 1460, 'revolution': 4787, 'rolex': 4843, 'books': 629, 'genius': 2373, 'ideas': 2710, 'concept': 1142, 'absorb': 16, 'setback': 5050, 'brought': 725, 'airpower': 149, 'canceled': 810, 'apology': 267, 'issued': 2941, 'happened': 2526, 'teams': 5651, 'grace': 2424, 'truly': 5903, 'successful': 5490, 'airbus': 141, 'potential': 4269, 'replacement': 4689, 'fleet': 2192, 'jet': 2990, 'building': 744, 'ton': 5789, 'powered': 4279, 'route': 4865, 'french': 2280, 'telecom': 5665, 'titan': 5773, 'patrick': 4059, 'usa': 6031, 'sotheby': 5264, 'firm': 2171, 'xi': 6335, 'center': 894, 'stage': 5351, 'true': 5902, 'quit': 4481, 'courage': 1288, 'billmurphyjr': 560, 'changing': 922, 'questions': 4476, 'harvard': 2544, 'fellow': 2121, 'sachs': 4894, 'director': 1592, 'george': 2375, 'psychologist': 4428, 'raise': 4508, 'joe': 3003, 'accuses': 42, 'inappropriate': 2765, 'conduct': 1152, 'elilake': 1820, 'ilhan': 2721, 'omar': 3898, 'statement': 5375, 'mount': 3678, 'colombia': 1074, 'peru': 4117, 'intervention': 2882, 'pill': 4161, 'coated': 1046, 'cotton': 1274, 'ball': 442, 'norway': 3819, 'wealth': 6192, 'abuse': 18, 'supply': 5529, 'hacker': 2502, 'insurance': 2852, 'protection': 4410, 'starbucks': 5366, 'banquet': 460, 'hall': 2510, 'risen': 4813, 'highest': 2606, 'process': 4359, 'entire': 1887, 'launch': 3167, 'magazine': 3375, 'advice': 97, 'mental': 3530, 'exam': 1967, 'jump': 3042, 'creative': 1318, 'thinking': 5725, 'republicans': 4703, 'silent': 5148, 'check': 944, 'vladimir': 6115, 'armored': 314, 'answer': 247, 'revenue': 4775, 'larrykim': 3159, 'model': 3638, 'tree': 5874, 'meet': 3512, 'jeff': 2980, 'bezos': 545, 'hackers': 2503, 'traveler': 5863, 'license': 3249, 'plate': 4189, 'collected': 1068, 'gaming': 2334, 'station': 5377, 'bored': 640, 'lawmaker': 3176, 'justin': 3054, 'trudeau': 5901, 'canadian': 806, 'independent': 2787, 'democrats': 1502, 'weigh': 6208, 'impeaching': 2741, 'ferriss': 2126, 'strip': 5451, 'agreed': 126, 'mohammed': 3644, 'bin': 561, 'salman': 4912, 'current': 1368, 'opec': 3904, 'potentially': 4270, 'meaning': 3492, 'version': 6072, 'android': 225, 'lose': 3330, 'gmail': 2402, 'happening': 2527, 'nixon': 3804, 'aide': 135, 'accuser': 41, 'john': 3006, 'dean': 1427, 'committee': 1103, 'protesters': 4414, 'wearing': 6197, 'mask': 3454, 'umbrella': 5964, 'shield': 5089, 'spray': 5330, 'movement': 3683, 'extraditionbill': 2041, '香港': 6372, '反送中': 6371, 'sad': 4895, 'turning': 5930, 'symbol': 5591, 'racism': 4492, 'florida': 2206, 'andrew': 223, 'agrees': 129, 'ethic': 1942, 'complaint': 1126, 'avoiding': 411, 'burnout': 762, 'excited': 1974, 'explanation': 2014, 'speak': 5290, 'lawyer': 3178, 'issue': 2940, 'cover': 1292, 'salad': 4905, 'location': 3308, 'cult': 1358, 'november': 3830, 'tweet': 5935, 'bonus': 624, 'jeremy': 2985, 'corbyn': 1258, 'refuse': 4621, 'invite': 2911, 'queen': 4470, 'attend': 368, 'kenya': 3070, 'facility': 2054, 'quarter': 4468, 'finish': 2164, 'flew': 2193, 'hated': 2550, 'shocked': 5101, 'reparation': 4684, 'distance': 1628, 'novartis': 3829, 'pharmaceutical': 4131, 'blog': 598, 'constantly': 1193, 'tanker': 5622, 'politics': 4233, 'split': 5314, 'impeachment': 2742, 'voter': 6128, 'love': 3341, 'man': 3401, 'brazilian': 679, 'infrastructure': 2817, 'ounce': 3953, 'running': 4883, 'sleeping': 5192, 'rome': 4849, 'inequality': 2804, 'ketamine': 3073, 'fda': 2103, 'approved': 289, 'bike': 556, 'light': 3259, 'filled': 2146, 'terror': 5689, 'cell': 890, 'dropping': 1733, 'gulf': 2486, 'blockchain': 595, 'struggle': 5461, 'wandathibodeaux': 6151, 'acre': 53, 'victim': 6081, 'wild': 6248, 'weather': 6198, 'corn': 1261, 'planting': 4187, 'rocky': 4836, 'aoki': 259, 'accessible': 26, 'non': 3812, 'lindsey': 3272, 'graham': 2430, 'fbi': 2101, 'interaction': 2867, 'october': 3867, 'killer': 3089, 'millions': 3591, 'disagree': 1595, 'jeff_haden': 2981, 'stake': 5353, 'pas': 4039, 'mackenzie': 3366, 'divorce': 1646, 'richest': 4796, 'spends': 5307, 'reveal': 4770, 'hardest': 2537, 'patient': 4058, 'having': 2553, 'developed': 1556, 'risky': 4816, 'asset': 343, 'pool': 4239, 'classic': 1010, 'late': 3162, 'cycle': 1380, 'custom': 1373, 'rolls': 4848, 'royce': 4871, 'moved': 3682, 'bringing': 709, 'total': 5803, 'count': 1278, 'reduce': 4602, 'language': 3150, 'rejected': 4642, 'appeal': 271, 'district': 1632, 'shape': 5069, 'conversation': 1236, 'impose': 2751, 'immigrant': 2734, 'entering': 1881, 'illegally': 2724, 'invitation': 2910, 'elite': 1824, 'secret': 4990, 'trader': 5827, 'member': 3522, 'formed': 2244, 'counter': 1280, 'influence': 2812, 'wing': 6265, 'gdp': 2354, 'care': 836, 'logo': 3314, 'podcasts': 4220, 'expertise': 2009, 'faulty': 2097, 'generating': 2367, 'unit': 5995, 'sport': 5325, 'target': 5628, 'hong': 2641, 'kong': 3111, 'advance': 91, 'german': 2377, 'tumbled': 5917, 'iowa': 2917, 'spring': 5335, 'rain': 4505, 'flooding': 2202, 'grain': 2431, 'belt': 524, 'causing': 879, 'damage': 1393, 'investing': 2905, 'exposed': 2027, 'addictive': 73, 'middle': 3571, 'east': 1769, 'developing': 1558, 'struggling': 5463, 'pinpoint': 4166, 'lifted': 3258, 'cryptocurrency': 1354, 'greatest': 2444, 'enemy': 1861, 'buckingham': 736, 'palace': 4008, 'markle': 3445, 'archie': 298, 'profitable': 4374, 'obama': 3850, 'met': 3552, 'army': 315, 'cory': 1269, 'recovery': 4594, 'injured': 2824, 'brown': 726, 'jokowi': 3019, 'deliver': 1486, 'nfl': 3790, 'richard': 4794, 'sherman': 5087, 'demonstrate': 1503, 'develop': 1555, 'management': 3405, 'winklevoss': 6266, 'twin': 5939, 'double': 1689, 'thanks': 5709, 'ask': 331, 'mike': 3578, 'africa': 111, 'approach': 285, 'partnership': 4037, 'cuba': 1356, 'ordinary': 3934, 'airplane': 146, 'flying': 2212, 'fancy': 2080, 'positive': 4257, 'psychology': 4429, 'quiet': 4479, 'space': 5279, 'seriously': 5043, 'kill': 3087, 'collaboration': 1062, 'withdraw': 6278, 'ivory': 2950, 'stockpile': 5407, 'design': 1534, 'einstein': 1807, 'equation': 1909, 'pearl': 4072, 'difficult': 1575, 'danger': 1399, 'witness': 6281, 'favorite': 2099, 'disturbing': 1633, 'realistic': 4556, 'benefit': 527, 'surgery': 5543, 'experienced': 2004, 'title': 5774, 'golf': 2411, 'howard': 2670, 'tv': 5934, 'viewer': 6088, 'rating': 4539, 'plunged': 4212, 'commercial': 1096, 'escalating': 1922, 'awkward': 422, 'heat': 2575, 'norwegian': 3820, 'grounding': 2464, 'rory': 4855, 'schedule': 4954, 'tune': 5920, 'beach': 491, 'offered': 3874, 'pessimistic': 4119, 'view': 6087, 'awaited': 413, 'browndamon': 727, 'generate': 2364, 'awareness': 418, 'stocks': 5409, 'nasdaq': 3726, 'grossing': 2461, 'approval': 287, 'marvel': 3453, 'area': 302, 'franchise': 2269, 'universal': 5998, 'basic': 478, 'income': 2777, 'advocate': 100, 'yang': 6340, 'crashing': 1310, 'tictoc': 5751, 'blood': 599, 'test': 5694, 'holmes': 2634, 'hope': 2647, 'achieve': 44, 'remark': 4666, 'stepping': 5396, 'situation': 5170, 'joshua': 3026, 'wong': 6292, 'monday': 3649, 'mass': 3455, 'colony': 1075, 'meter': 3554, 'impression': 2756, 'stick': 5401, 'employees': 1849, 'knowledge': 3108, 'coworkers': 1298, 'anti': 251, 'establishment': 1934, 'whopping': 6235, 'exposure': 2028, 'menu': 3536, 'display': 1620, 'suggesting': 5507, 'hot': 2660, 'specifically': 5298, 'suggestion': 5508, 'item': 2946, 'carrie': 850, 'lam': 3140, 'low': 3345, 'admitted': 85, 'suffers': 5502, 'doubt': 1692, 'speaking': 5292, 'campus': 804, 'university': 6000, 'indiana': 2791, 'signature': 5141, 'petition': 4126, 'responded': 4733, 'accepts': 24, 'resignation': 4720, 'apply': 282, 'analytics': 219, 'iphone': 2919, 'drink': 1723, 'missouri': 3623, 'senate': 5021, 'pass': 4041, 'abortion': 10, 'georgia': 2376, 'hate': 2549, 'suing': 5511, 'selling': 5017, 'engagement': 1866, 'matter': 3471, 'sky': 5181, 'zealand': 6363, 'annual': 244, 'budget': 737, 'thrown': 5746, 'yacht': 6338, 'infinity': 2810, 'cabin': 785, 'giving': 2391, 'hang': 2521, 'opportunity': 3920, 'escape': 1924, 'visa': 6104, 'mind': 3593, 'largely': 3155, 'surrounded': 5551, 'declined': 1448, 'order': 3931, 'muellerreport': 3697, 'pull': 4437, 'iconic': 2706, 'using': 6037, 'shopping': 5110, 'waste': 6175, 'johannesburg': 3005, 'garbage': 2339, 'allow': 185, 'foreign': 2236, 'drilling': 1722, 'finished': 2165, 'patrol': 4061, 'officer': 3877, 'avocado': 408, 'seller': 5016, 'gain': 2323, 'wiped': 6271, 'threat': 5734, 'mexico': 3560, 'historic': 2621, 'discus': 1610, 'flag': 2182, 'reversed': 4778, 'uniform': 5991, 'bankrupt': 454, 'pg': 4129, 'overhaul': 3972, 'regulator': 4636, 'dark': 1403, 'software': 5244, 'responsible': 4739, 'fatal': 2094, 'william': 6253, 'resume': 4750, 'letter': 3231, 'expects': 2000, 'basis': 480, 'september': 5039, 'navy': 3741, 'admiral': 81, 'experience': 2003, 'fired': 2168, 'recently': 4577, 'treaty': 5873, 'eye': 2047, 'today': 5778, 'entrepreneurorg': 1894, 'sleep': 5191, 'surprising': 5549, 'scandal': 4948, 'headache': 2560, 'family': 2076, 'commitment': 1101, 'hobby': 2627, 'managing': 3408, 'physical': 4147, 'easy': 1772, 'overwhelmed': 3983, 'hbr': 2557, 'guide': 2482, 'balance': 441, 'evaluate': 1951, 'expectation': 1997, 'discover': 1605, 'beto': 538, 'rourke': 4863, 'steal': 5385, 'involved': 2913, 'nxivm': 3844, 'seal': 4980, 'iraq': 2926, 'runner': 4882, 'ireland': 2928, 'position': 4256, 'determined': 1551, 'church': 988, 'measles': 3495, 'outbreak': 3957, 'word': 6295, 'conflict': 1161, 'shark': 5079, 'conference': 1154, 'las': 3160, 'vegas': 6060, 'envoy': 1901, 'executed': 1980, 'alive': 175, 'custody': 1372, 'cnn': 1040, 'score': 4965, 'fixing': 2181, 'puerto': 4436, 'rico': 4798, 'ruin': 4875, 'davidfinkel': 1414, 'flavor': 2187, 'inspired': 2839, 'melinda': 3518, 'gates': 2346, 'mission': 3621, 'value': 6049, 'alternative': 194, 'washington': 6173, 'awarding': 416, 'rocket': 4835, 'thailand': 5707, 'alcohol': 160, 'ufc': 5953, 'trained': 5840, 'watching': 6179, 'hand': 2515, 'youtube': 6360, 'jerome': 2986, 'powell': 4277, 'oklahoma': 3887, 'ag': 114, 'johnson': 3012, 'opioids': 3918, 'trial': 5880, 'drugmaker': 1738, 'begin': 506, 'lactose': 3131, 'intolerance': 2885, 'dairy': 1389, 'allergy': 182, 'heiress': 2588, 'donated': 1680, 'private': 4346, 'cleaner': 1014, 'type': 5943, 'product': 4365, 'affected': 106, 'pardon': 4021, 'tycoon': 5942, 'wrote': 6328, 'logistics': 3313, 'staff': 5349, 'terminal': 5685, 'port': 4252, 'testimony': 5699, 'adult': 90, 'film': 2148, 'affair': 104, 'lie': 3251, 'lying': 3361, 'regret': 4631, 'southern': 5272, 'stolen': 5411, 'prototype': 4416, 'sponsored': 5323, 'espionage': 1927, 'concern': 1143, 'gang': 2335, 'violence': 6096, 'bomb': 620, 'protect': 4407, 'globe': 2398, 'personal': 4110, 'guess': 2480, 'fitness': 2178, 'studying': 5470, 'shared': 5075, 'trait': 5842, 'corvette': 1268, 'driven': 1726, 'wall': 6148, 'street': 5439, 'crown': 1343, 'summit': 5518, 'friday': 2287, 'heard': 2572, 'lowest': 3348, 'tension': 5679, 'escalated': 1920, 'editor': 1794, 'warned': 6163, 'reduced': 4603, 'changed': 921, 'volcanic': 6119, 'baseball': 475, 'mississippi': 3622, 'refusal': 4620, 'setting': 5051, 'illegal': 2723, 'employment': 1852, 'write': 6322, 'roll': 4844, 'pancake': 4014, 'spend': 5305, 'wisely': 6276, 'dcancel': 1418, 'hydrogen': 2699, 'carbon': 834, 'costly': 1273, 'inspiring': 2841, 'ted': 5659, 'female': 2124, 'entrepreneur': 1892, 'netflix': 3774, 'unveiling': 6014, 'adviser': 98, 'checking': 946, 'sri': 5342, 'lanka': 3152, 'explosion': 2021, 'including': 2774, 'foreigner': 2237, 'killed': 3088, 'suicide': 5510, 'bombing': 621, 'suspect': 5562, 'claimed': 1005, 'responsibility': 4738, 'daily': 1387, 'practiced': 4285, 'revamped': 4769, 'tool': 5795, 'handling': 2519, 'flow': 2207, 'deposit': 1519, 'rules': 4878, 'asking': 333, 'entity': 1890, 'commission': 1098, 'draft': 1704, 'gas': 2344, 'euro': 1947, 'lending': 3225, 'hike': 2610, 'boring': 641, 'safety': 4900, 'watchdog': 6177, 'pushing': 4458, 'payment': 4067, 'decrease': 1450, 'medicine': 3508, 'recall': 4572, 'document': 1655, 'appeared': 274, 'cone': 1153, 'dessert': 1540, 'nyc': 3846, 'sustainability': 5569, 'apart': 261, 'poor': 4240, 'rail': 4503, 'line': 3273, 'accountability': 34, 'prompting': 4391, 'subscribe': 5478, 'insider': 2835, 'cultivated': 1359, 'newsletter': 3788, 'personality': 4111, 'multibillion': 3699, 'enter': 1879, 'bird': 567, 'tank': 5621, 'attract': 372, 'mosquito': 3667, 'blew': 589, 'legalization': 3211, 'rapidly': 4532, 'treasury': 5868, 'peer': 4075, 'modest': 3641, 'climb': 1021, 'equipment': 1910, 'treasuries': 5867, 'fell': 2120, 'march': 3426, 'smart': 5213, 'crucial': 1344, 'queens': 4471, 'liked': 3266, 'timobrien': 5766, 'writes': 6324, 'islamic': 2934, 'terrorist': 5691, 'blast': 587, 'sunday': 5520, 'coordinated': 1253, 'trick': 5882, 'maker': 3391, 'brands': 675, 'claiming': 1006, 'burn': 759, 'injury': 2825, 'incident': 2770, 'caught': 876, 'derivative': 1525, 'topped': 5797, 'spicy': 5309, 'atlanta': 355, 'optimism': 3925, 'progress': 4378, 'thirds': 5726, 'employers': 1851, 'declares': 1446, 'territory': 5688, 'completely': 1129, 'night': 3798, 'declare': 1444, 'emergency': 1834, 'virus': 6103, 'spread': 5331, 'quora': 4486, 'learner': 3198, 'immediately': 2733, 'asleep': 335, 'atlantic': 356, 'earlier': 1757, 'secured': 4997, 'community': 1111, 'related': 4643, 'white': 6234, 'spokeswoman': 5320, 'famed': 2074, 'makeup': 3393, 'entrepreneurial': 1893, 'venture': 6068, 'presented': 4313, 'requiring': 4710, 'tinder': 5767, 'obsessed': 3860, 'barack': 462, 'connect': 1171, 'ikea': 2720, 'land': 3142, 'rover': 4867, 'finalizing': 2152, 'pre': 4288, 'valuation': 6048, 'warship': 6171, 'grew': 2452, 'pace': 3992, 'nd': 3746, 'predicted': 4292, 'hurting': 2694, 'wipe': 6270, 'tiny': 5768, 'rafael': 4498, 'fought': 2254, 'tear': 5652, 'beating': 495, 'sue': 5497, 'cfo': 905, 'meng': 3529, 'dec': 1433, 'seized': 5008, 'plus': 4214, 'macbook': 3364, 'ipad': 2918, 'fully': 2306, 'zuckerberg': 6370, 'deciding': 1439, 'edge': 1791, 'immediate': 2732, 'united': 5997, 'workers': 6301, 'relief': 4655, 'sight': 5136, 'taiwan': 5607, 'airliner': 144, 'ongoing': 3901, 'serve': 5044, 'homeless': 2636, 'described': 1529, 'laura': 3171, 'harvardbiz': 2545, 'rural': 4887, 'hillary': 2612, 'clinton': 1026, 'vow': 6130, 'nba': 3744, 'gave': 2351, 'maybe': 3478, 'championship': 917, 'emirates': 1837, 'profit': 4373, 'transform': 5846, 'resilient': 4724, 'hsbc': 2674, 'janet': 2968, 'super': 5522, 'rich': 4793, 'celebrity': 888, 'loss': 3334, 'nevada': 3782, 'ambitious': 202, 'fuel': 2301, 'soap': 5231, 'leaked': 3192, 'comment': 1093, 'criticized': 1333, 'jewelry': 2993, 'rare': 4535, 'bartender': 473, 'passive': 4046, 'aggressive': 121, 'boss': 647, 'faa': 2049, 'simulator': 5158, 'loaded': 3301, 'served': 5045, 'stopped': 5417, 'curve': 1371, 'mayor': 3479, 'blasio': 586, 'pension': 4084, 'obligation': 3856, 'drove': 1735, 'meant': 3494, 'compete': 1119, 'husband': 2695, 'urge': 6027, 'resign': 4719, 'miserable': 3615, 'announced': 239, 'mac': 3363, 'monitor': 3652, 'published': 4432, 'told': 5783, 'tag': 5605, 'maple': 3420, 'vermont': 6071, 'syrup': 5596, 'racist': 4493, 'explosive': 2022, 'claim': 1004, 'blockbuster': 594, 'salesperson': 4911, 'present': 4311, 'fiat': 2132, 'merger': 3544, 'renault': 4677, 'signed': 5142, 'urging': 6030, 'narrative': 3723, 'creates': 1315, 'davemckeown': 1411, 'farmer': 2087, 'boosting': 635, 'traditional': 5831, 'timeline': 5763, 'surrounding': 5552, 'extends': 2035, 'fled': 2189, 'tweeting': 5937, 'plea': 4200, 'brother': 724, 'chase': 936, 'chef': 950, 'boat': 611, 'attachment': 361, 'consumers': 1202, 'showing': 5122, 'interim': 2872, 'shareholder': 5076, 'fraud': 2273, 'crackdown': 1303, 'senators': 5023, 'tom': 5785, 'kushner': 3118, 'internationalwomensday': 2878, 'visionary': 6107, 'prescription': 4309, 'medication': 3507, 'noise': 3808, 'strange': 5429, 'specific': 5297, 'visit': 6108, 'financier': 2158, 'jeffrey': 2982, 'epstein': 1905, 'saturday': 4933, 'trafficking': 5835, 'conspiracy': 1191, 'pleaded': 4202, 'canceling': 811, 'dominican': 1675, 'republic': 4701, 'visitor': 6111, 'democracy': 1499, 'sudan': 5493, 'hanging': 2522, 'pumped': 4441, 'greenhouse': 2449, 'emission': 1838, 'sector': 4995, 'color': 1076, 'words': 6296, 'explained': 2012, 'feat': 2106, 'thursday': 5747, 'autonomous': 396, 'excellent': 1971, 'meal': 3490, 'necessarily': 3752, 'alongside': 191, 'coast': 1044, 'guard': 2477, 'academy': 19, 'lamborghini': 3141, 'rainforest': 4507, 'entrepreneurs': 1895, 'marlatabaka': 3446, 'oracle': 3928, 'pentagon': 4085, 'tomato': 5786, 'taste': 5633, 'legalize': 3212, 'veteran': 6077, 'ordering': 3933, 'yemen': 6345, 'houthi': 2669, 'rebel': 4564, 'longest': 3319, 'kidney': 3085, 'estimate': 1937, 'transplant': 5855, 'bagel': 437, 'la': 3123, 'act': 54, 'easter': 1770, 'soldier': 5247, 'complex': 1130, 'held': 2590, 'cheese': 948, 'hole': 2631, 'complying': 1134, 'congressional': 1168, 'subpoena': 5477, 'contempt': 1212, 'congress': 1167, 'resolution': 4727, 'mcgahn': 3485, 'nike': 3800, 'adidas': 78, 'sneaker': 5229, 'author': 384, 'columnist': 1078, 'jean': 2977, 'sexually': 5059, 'recommended': 4587, 'achiever': 46, 'artist': 326, 'express': 2029, 'primevideo': 4334, 'funded': 2313, 'tusk': 5933, 'delete': 1482, 'julian': 3040, 'assange': 340, 'manufacturer': 3417, 'charged': 931, 'stealing': 5386, 'warns': 6166, 'customers': 1375, 'tired': 5772, 'son': 5255, 'revealed': 4771, 'lift': 3257, 'aluminum': 196, 'iron': 2930, 'dome': 1667, 'missile': 3619, 'song': 5256, 'contest': 1216, 'dominance': 1669, 'philippine': 4138, 'duterte': 1749, 'fat': 2093, 'usually': 6040, 'beautifully': 497, 'pi': 4151, 'runway': 4885, 'wildly': 6252, 'airpods': 147, 'decide': 1436, 'connecting': 1174, 'concluded': 1145, 'deserves': 1533, 'foster': 2253, 'aim': 136, 'clarity': 1007, 'apps': 291, 'seeing': 5001, 'mindfulness': 3596, 'everyday': 1958, 'indonesian': 2799, 'joko': 3018, 'widodo': 6243, 'renewed': 4680, 'play': 4191, 'paris': 4027, 'included': 2772, 'brussels': 729, 'financing': 2159, 'blacklist': 578, 'brady': 669, 'taxi': 5637, 'lgbtq': 3239, 'pride': 4331, 'green': 2448, 'buck': 734, 'environment': 1899, 'habits': 2499, 'marcelschwantes': 3425, 'melania': 3516, 'ultimate': 5960, 'forget': 2240, 'compare': 1114, 'millennial': 3586, 'looked': 3322, 'address': 76, 'breakingviews': 686, 'fossil': 2252, 'beat': 494, 'shorting': 5115, 'brace': 666, 'blown': 606, 'sadiq': 4896, 'muslim': 3708, 'allowed': 186, 'gross': 2460, 'diamond': 1564, 'popularity': 4244, 'scene': 4952, 'hosted': 2658, 'duke': 1743, 'bit': 570, 'buried': 758, 'spike': 5311, 'bribery': 700, 'seeking': 5004, 'manafort': 3402, 'representing': 4699, 'pop': 4241, 'culture': 1361, 'contender': 1213, 'boris': 642, 'neighbor': 3764, 'reported': 4693, 'entered': 1880, 'session': 5048, 'underwater': 5981, 'marine': 3435, 'kelly': 3064, 'pursuit': 4455, 'mschneidertwts': 3691, 'garnettl': 2342, 'impossible': 2755, 'parents': 4026, 'kids': 3086, 'loser': 3331, 'longtime': 3320, 'allen': 181, 'path': 4056, 'repeatedly': 4686, 'trail': 5837, 'mastercard': 3461, 'eliminate': 1821, 'teen': 5660, 'sized': 5173, 'component': 1135, 'knew': 3102, 'forecast': 2235, 'collapse': 1063, 'homophobic': 2638, 'incompetent': 2779, 'ft': 2299, 'drtcp': 1736, 'standard': 5360, 'organizations': 3940, 'fast': 2089, 'boot': 636, 'step': 5392, 'fewer': 2130, 'output': 3963, 'intend': 2860, 'match': 3465, 'nickname': 3793, 'donor': 1683, 'unless': 6003, 'lucky': 3353, 'unexpected': 5985, 'experts': 2010, 'civil': 1002, 'eric': 1916, 'stressful': 5444, 'search': 4982, 'doj': 1665, 'worked': 6299, 'winner': 6267, 'shuli_ren': 5127, 'sexual': 5058, 'harassment': 2534, 'manhattan': 3411, 'frank': 2272, 'lloyd': 3298, 'celebrating': 885, 'birthday': 569, 'diverse': 1637, 'collection': 1070, 'dying': 1752, 'painful': 4002, 'fish': 2174, 'resident': 4718, 'wheel': 6228, 'worse': 6312, 'spreadsheet': 5333, 'toyota': 5822, 'indonesia': 2798, 'chicken': 960, 'upcoming': 6017, 'aeroflot': 102, 'landing': 3145, 'moscow': 3665, 'liar': 3243, 'accident': 27, 'removed': 4675, 'simpler': 5155, 'mentally': 3531, 'stronger': 5455, 'amymorinlcsw': 212, 'export': 2024, 'sensitive': 5029, 'booker': 627, 'local': 3307, 'charity': 933, 'minutes': 3609, 'outstanding': 3967, 'sanction': 4922, 'silicon': 5150, 'valley': 6046, 'unveiled': 6013, 'newest': 3785, 'produce': 4361, 'joy': 3030, 'aramco': 296, 'nearing': 3749, 'chemical': 952, 'core': 1260, 'sample': 4918, 'contains': 1209, 'layer': 3180, 'mccain': 3482, 'dictator': 1565, 'amy': 210, 'klobuchar': 3100, 'questioning': 4475, 'pakistan': 4006, 'critical': 1331, 'prosperity': 4405, 'ex': 1964, 'teacher': 5646, 'wasn': 6174, 'wealthiest': 6193, 'brooklyn': 722, 'born': 643, 'childhood': 963, 'populist': 4247, 'picked': 4153, 'forward': 2251, 'yec': 6343, 'pink': 4165, 'salt': 4913, 'volatility': 6118, 'fallen': 2070, 'bailout': 439, 'mario': 3437, 'studies': 5467, 'aware': 417, 'companies': 1112, 'cinematic': 992, 'loved': 3342, 'fails': 2062, 'function': 2308, 'dragon': 1707, 'child': 962, 'obese': 3853, 'nutritional': 3842, 'ignore': 2716, 'alarming': 158, 'unveil': 6012, 'immigration': 2735, 'jared': 2973, 'passing': 4044, 'junior': 3047, 'governing': 2420, 'coalition': 1043, 'chad': 906, 'follower': 2222, 'improving': 2763, 'require': 4707, 'nature': 3739, 'san': 4920, 'francisco': 2271, 'breed': 693, 'politically': 4231, 'channel': 923, 'nicolas': 3794, 'maduro': 3373, 'pledged': 4205, 'states': 5376, 'confident': 1156, 'lauren': 3172, 'mba': 3481, 'los': 3329, 'angeles': 228, 'bean': 492, 'tea': 5644, 'leaf': 3189, 'acquisition': 52, 'missing': 3620, 'wireless': 6273, 'mode': 3637, 'mainstream': 3384, 'tough': 5809, 'virtual': 6101, 'cent': 893, 'connecticut': 1173, 'owning': 3989, 'mansion': 3415, 'bloom': 600, 'poker': 4224, 'sushi': 5561, 'robot': 4829, 'unleashed': 6002, 'spirit': 5313, 'crushed': 1349, 'woe': 6283, 'suffering': 5501, 'organ': 3936, 'carolina': 848, 'attracting': 373, 'princeton': 4336, 'male': 3397, 'monopoly': 3654, 'maximum': 3476, 'diversity': 1639, 'blind': 591, 'incfoundershouse': 2768, 'spain': 5282, 'boosted': 634, 'socialist': 5238, 'sanchez': 4921, 'slip': 5199, 'rebound': 4566, 'patch': 4052, 'economics': 1785, 'uae': 5949, 'region': 4627, 'abruptly': 13, 'airstrikes': 151, 'focused': 2215, 'semitism': 5019, 'crossover': 1339, 'suv': 5571, 'returning': 4766, 'kingdom': 3095, 'rudy': 4874, 'giuliani': 2389, 'bitter': 573, 'machine': 3365, 'widens': 6240, 'understanding': 5979, 'forthcoming': 2248, 'chaos': 924, 'wheeled': 6229, 'cars': 855, 'fasting': 2092, 'coworker': 1297, 'ramadan': 4516, 'sauce': 4935, 'resolve': 4728, 'hip': 2616, 'analyst': 217, 'mirror': 3612, 'mix': 3632, 'atmosphere': 357, 'france': 2268, 'waiver': 6141, 'parenting': 4025, 'extreme': 2043, 'feeling': 2119, 'inevitable': 2805, 'promote': 4386, 'opt': 3924, 'vaccine': 6045, 'argentine': 306, 'threw': 5739, 'opened': 3906, 'theory': 5715, 'penalty': 4078, 'kick': 3082, 'discussing': 1612, 'answering': 249, 'ad': 65, 'paper': 4017, 'johngeades': 3008, 'involves': 2915, 'importing': 2750, 'wage': 6138, 'nancy': 3721, 'pelosi': 4076, 'speaker': 5291, 'draw': 1713, 'town': 5818, 'size': 5172, 'noticed': 3825, 'bedroom': 501, 'ocean': 3866, 'bugatti': 741, 'regular': 4632, 'marcus': 3429, 'accept': 22, 'salary': 4906, 'libra': 3246, 'smooth': 5223, 'resistance': 4726, 'certain': 901, 'recovering': 4593, 'cracking': 1304, 'vest': 6076, 'prioritize': 4340, 'planet': 4183, 'minimize': 3601, 'tequila': 5683, 'latin': 3165, 'vc': 6056, 'later': 3163, 'negotiation': 3762, 'panel': 4015, 'scoop': 4963, 'confirmed': 1159, 'large': 3154, 'van': 6051, 'benz': 529, 'myth': 3713, 'bermuda': 532, 'triangle': 5881, 'false': 2073, 'fidelity': 2134, 'obamas': 3852, 'announce': 238, 'lewis': 3237, 'fifth': 2137, 'protester': 4413, 'joined': 3014, 'rallied': 4512, 'referendum': 4610, 'exit': 1990, 'condition': 1150, 'hotel': 2661, 'shower': 5121, 'anniversary': 237, 'principal': 4337, 'sentiment': 5034, 'temporarily': 5671, 'suspend': 5564, 'park': 4028, 'extinction': 2038, 'table': 5598, 'diy': 1647, 'secure': 4996, 'charging': 932, 'dramatic': 1711, 'satellite': 4929, 'hurricane': 2692, 'barry': 472, 'landfall': 3144, 'louisiana': 3340, 'rap': 4528, 'sheet': 5083, 'lag': 3134, 'astronaut': 352, 'treated': 5870, 'pair': 4005, 'memoir': 3525, 'imf': 2731, 'wrong': 6327, 'fry': 2298, 'verynichey': 6074, 'jordan': 3023, 'hop': 2646, 'travis': 5865, 'anticipated': 252, 'shoe': 5104, 'liquefied': 3280, 'indoor': 2800, 'wave': 6183, 'tall': 5619, 'urban': 6026, 'discrimination': 1609, 'targeted': 5629, 'insult': 2850, 'scheme': 4956, 'dodge': 1657, 'bull': 747, 'cancelling': 813, 'david': 1412, 'deputy': 1522, 'legally': 3215, 'dedicated': 1452, 'presence': 4310, 'continent': 1218, 'lasting': 3161, 'automation': 394, 'globalization': 2396, 'worsening': 6313, 'measure': 3496, 'detailed': 1546, 'education': 1796, 'useless': 6035, 'demonstrator': 1504, 'cope': 1255, 'emmanuel': 1839, 'macron': 3368, 'persuade': 4115, 'reconsider': 4588, 'element': 1816, 'preparing': 4308, 'spy': 5338, 'rand': 4523, 'island': 2935, 'survived': 5557, 'listing': 3288, 'debut': 1431, 'betsy': 539, 'complained': 1125, 'wsj': 6329, 'recycle': 4597, 'placed': 4180, 'skin': 5179, 'wozniak': 6318, 'trouble': 5895, 'looming': 3325, 'nobu': 3807, 'fruit': 2295, 'rice': 4792, 'healthier': 2568, 'divided': 1641, 'kroger': 3116, 'turns': 5932, 'olympic': 3895, 'nazis': 3743, 'denmark': 1508, 'necessity': 3754, 'sharp': 5080, 'fun': 2307, 'bolsonaro': 617, 'council': 1276, 'alleged': 177, 'fighter': 2139, 'spook': 5324, 'possibly': 4261, 'interested': 2869, 'adding': 74, 'burrito': 763, 'comfortable': 1087, 'opponent': 3919, 'et': 1939, 'collapsed': 1064, 'oman': 3897, 'literally': 3289, 'warn': 6162, 'shockingly': 5103, 'commons': 1106, 'pmqs': 4216, 'nutrition': 3841, 'pollution': 4237, 'choking': 972, 'stanford': 5362, 'dozen': 1702, 'written': 6326, 'response': 4737, 'remember': 4670, 'diplomatic': 1586, 'memo': 3524, 'mail': 3380, 'vietnamese': 6086, 'buyer': 777, 'dominant': 1670, 'controlled': 1230, 'tactical': 5604, 'competitor': 1124, 'connection': 1175, 'affecting': 107, 'abmarkman': 8, 'medicare': 3506, 'turbulence': 5923, 'legislative': 3219, 'osama': 3949, 'laden': 3132, 'taylor': 5640, 'swift': 5580, 'label': 3125, 'client': 1019, 'discussion': 1613, 'rob': 4822, 'ticket': 5750, 'ranking': 4527, 'visible': 6105, 'costco': 1271, 'greater': 2443, 'foldable': 2218, 'vital': 6113, 'contribute': 1227, 'ownership': 3988, 'dream': 1716, 'affordable': 109, 'rent': 4681, 'permanent': 4103, 'residency': 4717, 'christchurch': 981, 'massacre': 3457, 'feared': 2105, 'deportation': 1518, 'cherry': 955, 'constant': 1192, 'noahpinion': 3805, 'acceptance': 23, 'esteem': 1936, 'creation': 1317, 'seattle': 4986, 'exploration': 2017, 'basically': 479, 'gaining': 2325, 'confidence': 1155, 'enjoy': 1874, 'parenthood': 4024, 'traveled': 5862, 'moon': 3658, 'freedom': 2276, 'terrorism': 5690, 'accord': 31, 'things': 5722, 'jinping': 2997, 'generation': 2368, 'misleading': 3616, 'shown': 5123, 'happiness': 2531, 'determine': 1550, 'directly': 1591, 'scale': 4946, 'fixed': 2180, 'multiple': 3700, 'danasitar': 1397, 'scenes': 4953, 'nissan': 3803, 'carlos': 843, 'ghosn': 2382, 'shutdown': 5129, 'arianna': 309, 'gathering': 2349, 'stability': 5344, 'improved': 2760, 'floor': 2203, 'miami': 3561, 'worrying': 6311, 'fastest': 2091, 'competent': 1120, 'likable': 3264, 'intern': 2875, 'trans': 5843, 'math': 3467, 'grade': 2426, 'blame': 583, 'recorded': 4590, 'reaction': 4547, 'sir': 5164, 'analysis': 216, 'blackberry': 577, 'doubled': 1690, 'suvs': 5572, 'pretend': 4321, 'sway': 5574, 'surprise': 5547, 'chocolate': 969, 'square': 5340, 'magnitude': 3378, 'tsunami': 5913, 'performer': 4096, 'motivate': 3672, 'women': 6286, 'barred': 469, 'obstacle': 3861, 'studio': 5468, 'officially': 3879, 'scotch': 4967, 'whiskey': 6231, 'scotland': 4968, 'coal': 1042, 'cheaper': 940, 'realize': 4558, 'aspiring': 337, 'interactive': 2868, 'deeply': 1459, 'trap': 5858, 'takeaway': 5608, 'summary': 5516, 'direction': 1590, 'depends': 1517, 'hilzfuld': 2614, 'banned': 457, 'comply': 1133, 'roller': 4846, 'coaster': 1045, 'drake': 1709, 'rapper': 4533, 'wanted': 6154, 'ben': 525, 'context': 1217, 'entirely': 1888, 'weak': 6187, 'asian': 329, 'pioneer': 4168, 'fishing': 2175, 'zone': 6369, 'polar': 4226, 'ice': 2702, 'toxic': 5820, 'accumulating': 37, 'defeat': 1461, 'threaten': 5735, 'eastern': 1771, 'mediterranean': 3510, 'hundreds': 2686, 'consistently': 1189, 'library': 3247, 'versus': 6073, 'page': 3999, 'afraid': 110, 'prioritizing': 4341, 'pet': 4120, 'designer': 1536, 'clothes': 1035, 'needs': 3758, 'berkshire': 530, 'hathaway': 2551, 'vice': 6080, 'compensation': 1118, 'promotion': 4389, 'burning': 761, 'living': 3296, 'metric': 3557, 'sweet': 5579, 'peninsula': 4081, 'sound': 5267, 'moore': 3659, 'smoking': 5221, 'affect': 105, 'streaming': 5438, 'mtplummer': 3693, 'truth': 5909, 'reflect': 4614, 'lied': 3252, 'credibility': 1322, 'humility': 2685, 'bipartisan': 565, 'combined': 1081, 'interviewed': 2884, 'barbecue': 464, 'hog': 2628, 'defend': 1465, 'flagship': 2183, 'lay': 3179, 'controversial': 1232, 'initiative': 2822, 'forum': 2250, 'bound': 655, 'mouth': 3681, 'announcing': 242, 'restricting': 4746, 'capture': 830, 'dust': 1747, 'shaped': 5070, 'cocaine': 1048, 'pressing': 4319, 'ukrainian': 5959, 'deadly': 1423, 'nerve': 3768, 'steven': 5399, 'mnuchin': 3634, 'congresswoman': 1170, 'royal': 4870, 'marines': 3436, 'syria': 5594, 'defends': 1468, 'floating': 2199, 'wonder': 6288, 'violation': 6095, 'intends': 2862, 'slow': 5201, 'runoff': 4884, 'beginning': 508, 'provided': 4422, 'hidden': 2601, 'refinery': 4612, 'apollo': 265, 'touched': 5807, 'mikebloomberg': 3579, 'belief': 514, 'reminder': 4671, 'kfc': 3077, 'desperate': 1538, 'excluding': 1976, 'detrimental': 1552, 'miller': 3588, 'trust': 5906, 'society': 5240, 'matsuhisa': 3469, 'divide': 1640, 'hopeful': 2649, 'binance': 562, 'california': 793, 'neutral': 3781, 'widely': 6238, 'circulated': 994, 'banknote': 453, 'typo': 5946, 'sail': 4902, 'poverty': 4275, 'imagine': 2730, 'photographer': 4144, 'hook': 2645, 'shooting': 5107, 'foundation': 2255, 'hey': 2599, 'liberal': 3244, 'cuban': 1357, 'c_albertdeitch': 782, 'impasse': 2738, 'sudanese': 5494, 'plunge': 4211, 'robotics': 4831, 'blackstone': 581, 'supplier': 5528, 'league': 3190, 'kept': 3072, 'australian': 381, 'hero': 2598, 'victory': 6083, 'textbook': 5703, 'publisher': 4433, 'edition': 1793, 'embrace': 1832, 'execution': 1981, 'row': 4868, 'chamber': 913, 'degree': 1477, 'casino': 861, 'engage': 1864, 'convicted': 1239, 'iraqi': 2927, 'prisoner': 4344, 'publishers': 4434, 'plead': 4201, 'bible': 547, 'grows': 2469, 'scientific': 4960, 'benchmark': 526, 'ego': 1804, 'radical': 4495, 'pushed': 4457, 'trek': 5875, 'sales': 4908, 'lagorio': 3137, 'explode': 2015, 'congressman': 1169, 'wear': 6196, 'draghi': 1706, 'gauge': 2350, 'stimulus': 5403, 'jasonaten': 2974, 'chevron': 956, 'exxon': 2046, 'mobil': 3635, 'barrel': 470, 'barbara': 463, 'bush': 766, 'bite': 572, 'unchanged': 5969, 'sixth': 5171, 'willingness': 6257, 'easing': 1768, 'domestic': 1668, 'offset': 3880, 'mounting': 3680, 'citing': 998, 'merchandise': 3538, 'topping': 5798, 'musician': 3706, 'beyoncé': 544, 'jay': 2975, 'significant': 5143, 'unilever': 5992, 'combat': 1079, 'alphabet': 192, 'prominent': 4382, 'retiring': 4762, 'ditch': 1634, 'buzzword': 779, 'dip': 1584, 'lgbt': 3238, 'waiting': 6140, 'missed': 3618, 'frustrated': 2296, 'vw': 6134, 'appropriate': 286, 'involving': 2916, 'ukraine': 5958, 'athlete': 354, 'century': 896, 'visited': 6109, 'heavily': 2579, 'relies': 4656, 'manufacturing': 3418, 'ibm': 2701, 'laying': 3181, 'amendment': 203, 'motion': 3671, 'racial': 4490, 'inclusion': 2775, 'tier': 5757, 'marriott': 3449, 'breach': 680, 'disclose': 1601, 'defending': 1467, 'spell': 5304, 'ralph': 4515, 'shirt': 5099, 'yes': 6347, 'citigroup': 997, 'applicant': 279, 'discount': 1603, 'mysterious': 3711, 'biotech': 564, 'venezuelans': 6067, 'regime': 4626, 'testify': 5698, 'irs': 2931, 'reporting': 4696, 'difference': 1572, 'gathered': 2348, 'relaxing': 4648, 'boycott': 663, 'brunei': 728, 'genetic': 2371, 'hair': 2508, 'precious': 4289, 'competing': 1121, 'definitely': 1473, 'freshly': 2285, 'wrapped': 6320, 'does': 1660, 'currently': 1369, 'factor': 2057, 'innovation': 2829, 'rape': 4529, 'cristiano': 1329, 'ronaldo': 4851, 'filed': 2144, 'dropped': 1732, 'abrupt': 12, 'rescue': 4711, 'nigeria': 3796, 'era': 1913, 'itunes': 2947, 'neuroscientist': 3780, 'lobbying': 3304, 'gravity': 2439, 'disruption': 1626, 'consequence': 1180, 'bloc': 592, 'province': 4426, 'imposes': 2753, 'levy': 3236, 'objection': 3855, 'premier': 4301, 'catalysthp': 867, 'broadcast': 716, 'pennsylvania': 4082, 'posting': 4265, 'mahathir': 3379, 'folding': 2219, 'rein': 4639, 'vast': 6054, 'workforce': 6302, 'earning': 1761, 'genuine': 2374, 'sand': 4923, 'cream': 1312, 'populism': 4246, 'happiest': 2530, 'hulu': 2680, 'notable': 3822, 'original': 3944, 'doughnut': 1693, 'sandwich': 4926, 'ditching': 1635, 'pork': 4249, 'argument': 308, 'quote': 4487, 'inspire': 2838, 'craft': 1305, 'subject': 5475, 'probing': 4354, 'parental': 4023, 'jae': 2958, 'emperor': 1845, 'akihito': 153, 'thank': 5708, 'effectively': 1799, 'complete': 1127, 'task': 5632, 'safe': 4897, 'ceiling': 882, 'simply': 5156, 'assault': 341, 'fierce': 2136, 'evolution': 1960, 'sensor': 5030, 'throne': 5742, 'teenager': 5662, 'feed': 2116, 'actively': 58, 'healthcare': 2567, 'calm': 796, 'defy': 1475, 'exclusive': 1977, 'backing': 430, 'mere': 3541, 'curiosity': 1365, 'lender': 3224, 'tentative': 5682, 'text': 5702, 'commit': 1100, 'michelle': 3565, 'rodrigo': 4838, 'shipped': 5097, 'everest': 1956, 'tougher': 5810, 'die': 1569, 'background': 429, 'workout': 6304, 'hasn': 2547, 'elected': 1809, 'jobs': 3002, 'functioned': 2309, 'turkish': 5925, 'recep': 4578, 'tayyip': 5641, 'erdogan': 1915, 'bug': 740, 'aircraft': 142, 'carrier': 852, 'advisor': 99, 'played': 4193, 'stopping': 5418, 'overall': 3969, 'eco': 1782, 'friendly': 2291, 'resort': 4729, 'poised': 4222, 'grand': 2432, 'jury': 3050, 'acknowledge': 48, 'colleague': 1066, 'recover': 4592, 'azeem': 423, 'hbrpresents': 2558, 'exponentialview': 2023, 'implication': 2745, 'stressed': 5443, 'breakfast': 684, 'paternity': 4055, 'philosophy': 4141, 'rush': 4888, 'trumpkimsummit': 5905, 'oldest': 3890, 'unicorn': 5990, 'existing': 1989, 'dreamers': 1717, 'citizenship': 1000, 'leaders': 3186, 'perform': 4094, 'tends': 5675, 'crowdfunding': 1342, 'semi': 5018, 'prone': 4392, 'flood': 2200, 'slowest': 5204, 'denies': 1507, 'bone': 623, 'greenleafbookgr': 2450, 'tanyahall': 5623, 'gelato': 2356, 'porsche': 4251, 'drive': 1725, 'mud': 3694, 'withstand': 6280, 'cyclone': 1382, 'miner': 3598, 'halt': 2511, 'stakes': 5354, 'gsummit': 2474, 'osaka': 3948, 'resource': 4730, 'individual': 2797, 'tencent': 5673, 'broader': 717, 'cooperation': 1252, 'enjoyed': 1876, 'theme': 5713, 'diet': 1571, 'interesting': 2870, 'parliamentary': 4031, 'sit': 5166, 'ups': 6024, 'zip': 6368, 'transportation': 5857, 'cart': 856, 'rolled': 4845, 'fighting': 2140, 'opioid': 3917, 'ultra': 5963, 'repeat': 4685, 'frequent': 2282, 'achieved': 45, 'mps': 3688, 'allegedly': 178, 'plotted': 4209, 'failed': 2060, 'coup': 1286, 'ruling': 4879, 'jumped': 3043, 'skyrocketing': 5183, 'outright': 3965, 'elephant': 1817, 'nyse': 3847, 'broker': 720, 'compared': 1115, 'convinced': 1241, 'camp': 800, 'quantum': 4467, 'smartphones': 5217, 'neuroscience': 3779, 'precisely': 4290, 'contact': 1205, 'indictment': 2796, 'backfire': 428, 'consistent': 1188, 'betting': 542, 'watched': 6178, 'lecturer': 3203, 'regardless': 4625, 'content': 1214, 'rarely': 4536, 'trusted': 5907, 'hear': 2571, 'talent': 5613, 'thrive': 5740, 'dramatically': 1712, 'fluid': 2210, 'unclear': 5970, 'caracas': 833, 'finland': 2166, 'incoming': 2778, 'mechanism': 3499, 'cruise': 1346, 'hr': 2673, 'khabib': 3078, 'nurmagomedov': 3836, 'accusation': 39, 'manipulation': 3413, 'intelligent': 2859, 'heavy': 2580, 'triggered': 5886, 'flash': 2185, 'dc': 1417, 'virginia': 6100, 'properly': 4395, 'chen': 953, 'searching': 4983, 'delicious': 1485, 'dish': 1616, 'miss': 3617, 'cheesy': 949, 'adventure': 95, 'disaster': 1599, 'carefully': 839, 'headquarters': 2565, 'mess': 3546, 'legendary': 3217, 'pizza': 4178, 'slowed': 5203, 'hiding': 2603, 'stream': 5437, 'maxine': 3477, 'waters': 6182, 'bully': 750, 'punch': 4443, 'pasta': 4049, 'completed': 1128, 'waking': 6143, 'wake': 6142, 'vision': 6106, 'terrible': 5686, 'resigns': 4722, 'sending': 5025, 'tumbling': 5918, 'derived': 1526, 'demanded': 1496, 'climbed': 1022, 'signing': 5145, 'band': 448, 'bts_bighit': 731, 'threatening': 5737, 'easily': 1767, 'transmitted': 5852, 'track': 5823, 'stamp': 5357, 'inverted': 2896, 'dj': 1648, 'choke': 971, 'flat': 2186, 'villain': 6090, 'railway': 4504, 'southwest': 5273, 'reasons': 4563, 'tape': 5625, 'ferrari': 2125, 'prepared': 4306, 'arch': 297, 'escalate': 1919, 'branch': 672, 'truck': 5899, 'bigger': 553, 'register': 4629, 'fedex': 2114, 'richer': 4795, 'additional': 75, 'spielberg': 5310, 'deserve': 1532, 'justinjbariso': 3055, 'journey': 3029, 'spectacular': 5299, 'sprint': 5336, 'icon': 2705, 'burst': 764, 'flame': 2184, 'struck': 5459, 'hiv': 2626, 'bought': 653, 'compromise': 1138, 'shelter': 5086, 'iphones': 2920, 'behavior': 511, 'jmbrandonbb': 2999, 'transformation': 5847, 'insight': 2836, 'briefing': 704, 'aston': 350, 'corcoran': 1259, 'thompson': 5729, 'satya': 4934, 'nadella': 3715, 'vowed': 6131, 'rip': 4810, 'viable': 6079, 'thomas': 5728, 'slam': 5186, 'stoning': 5415, 'theft': 5711, 'healthiest': 2569, 'aiming': 138, 'brits': 714, 'stockpiling': 5408, 'rumor': 4880, 'suggest': 5505, 'foxconn': 2262, 'barber': 465, 'blue': 607, 'fundamentally': 2312, 'conquer': 1177, 'revealing': 4772, 'bubble': 733, 'hungry': 2688, 'rose': 4856, 'troubled': 5896, 'worried': 6309, 'authoritarian': 385, 'reduction': 4606, 'offshore': 3881, 'creator': 1320, 'example': 1969, 'retire': 4759, 'exist': 1987, 'switching': 5588, 'productivity': 4368, 'lunch': 3356, 'interference': 2871, 'available': 399, 'dakotashane_nun': 1390, 'defying': 1476, 'scheduled': 4955, 'eligible': 1819, 'refund': 4619, 'battle': 486, 'nail': 3717, 'experiment': 2006, 'premiere': 4302, 'cartel': 857, 'bail': 438, 'gift': 2384, 'spree': 5334, 'emilycanal': 1836, 'authorities': 386, 'seize': 5007, 'wildlife': 6251, 'establishing': 1933, 'lavish': 3174, 'sparked': 5287, 'outrage': 3964, 'introducing': 2889, 'punishing': 4445, 'cooperate': 1251, 'engaging': 1867, 'ing': 2818, 'gene': 2360, 'editing': 1792, 'rogue': 4841, 'goat': 2404, 'fever': 2129, 'typical': 5944, 'warehouse': 6157, 'shame': 5066, 'johnnyjet': 3010, 'pacific': 3993, 'surprisingly': 5550, 'defended': 1466, 'shaken': 5063, 'restoring': 4744, 'creativity': 1319, 'aasugar': 1, 'hurdle': 2691, 'package': 3995, 'storage': 5419, 'tiananmen': 5748, 'weight': 6211, 'grounded': 2463, 'champions': 916, 'celebration': 886, 'economists': 1787, 'guided': 2483, 'joke': 3017, 'windows': 6262, 'stranger': 5430, 'pending': 4080, 'main': 3381, 'identify': 2713, 'quickly': 4478, 'firefighter': 2169, 'blackrock': 580, 'larry': 3158, 'december': 1435, 'actress': 62, 'israeli': 2939, 'spat': 5289, 'damaging': 1395, 'denied': 1506, 'otto': 3952, 'warmbier': 6160, 'medal': 3500, 'honor': 2643, 'website': 6200, 'dealing': 1425, 'burden': 756, 'mentor': 3533, 'scratch': 4975, 'abandoned': 3, 'pact': 3997, 'cable': 787, 'newspaper': 3789, 'tips': 5770, 'triple': 5890, 'locker': 3311, 'vs': 6132, 'liverpool': 3295, 'tottenham': 5805, 'internal': 2876, 'wayfair': 6185, 'identified': 2711, 'fairly': 2065, 'strongest': 5456, 'pipeline': 4170, 'exploded': 2016, 'beckfeldt': 499, 'institutional': 2847, 'sued': 5498, 'failing': 2061, 'file': 2143, 'disclosure': 1602, 'delta': 1492, 'likelihood': 3267, 'crew': 1324, 'generated': 2365, 'quick': 4477, 'destroy': 1542, 'minutesmag': 3610, 'mistakes': 3626, 'chernobyl': 954, 'celery': 889, 'calorie': 797, 'recognizing': 4584, 'rep': 4682, 'perception': 4091, 'retention': 4757, 'gsb': 2472, 'graduate': 2427, 'ms': 3690, 'gsbgrads': 2473, 'entry': 1897, 'grappling': 2437, 'slide': 5195, 'mountain': 3679, 'persuasion': 4116, 'applied': 281, 'stepped': 5395, 'uighurs': 5956, 'evening': 1953, 'intense': 2863, 'grip': 2458, 'escalates': 1921, 'simonjkennedy': 5153, 'hills': 2613, 'crazy': 1311, 'ashton': 327, 'misstep': 3624, 'developer': 1557, 'relative': 4646, 'swap': 5573, 'valued': 6050, 'tropical': 5894, 'bold': 616, 'proposal': 4397, 'attached': 360, 'command': 1090, 'greece': 2446, 'apocalypse': 264, 'drag': 1705, 'dogs': 1663, 'smell': 5218, 'switch': 5587, 'privacy': 4345, 'therapy': 5717, 'hailed': 2506, 'enthusiasm': 1885, 'form': 2241, 'comic': 1088, 'landslide': 3149, 'casual': 864, 'dress': 1718, 'midtown': 3573, 'processor': 4360, 'historian': 2620, 'retaliatory': 4756, 'harder': 2536, 'deepfake': 1458, 'releasing': 4651, 'earbuds': 1756, 'honest': 2640, 'typically': 5945, 'arriving': 322, 'pivoting': 4175, 'median': 3503, 'monthly': 3657, 'belly': 520, 'sitting': 5169, 'wwii': 6333, 'sparking': 5288, 'heel': 2583, 'etf': 1940, 'cop': 1254, 'essential': 1929, 'whale': 6225, 'stem': 5391, 'supremacist': 5536, 'elevator': 1818, 'striking': 5449, 'nutrient': 3840, 'hill': 2611, 'licensed': 3250, 'muellerhearings': 3696, 'steps': 5397, 'publishing': 4435, 'weeks': 6207, 'jacinda': 2953, 'ardern': 301, 'dovish': 1694, 'pivot': 4173, 'jackson': 2956, 'shrink': 5125, 'extradition': 2040, 'militant': 3582, 'trailer': 5838, 'strangerthings': 5431, 'cast': 862, 'monster': 3655, 'ridiculous': 4802, 'guyana': 2493, 'soaring': 5234, 'observer': 3859, 'secretly': 4993, 'slack': 5185, 'chat': 938, 'pence': 4079, 'alarm': 157, 'mosque': 3666, 'cooler': 1249, 'yeti': 6349, 'household': 2666, 'phase': 4133, 'extremely': 2044, 'cleaning': 1015, 'jboitnott': 2976, 'forced': 2232, 'understands': 5980, 'evolving': 1962, 'escalation': 1923, 'petergasca': 4124, 'handed': 2516, 'noodle': 3813, 'annoying': 243, 'funny': 2317, 'backer': 427, 'banks': 456, 'brief': 703, 'honda': 2639, 'coolest': 1250, 'racing': 4491, 'fitch': 2177, 'fold': 2217, 'tens': 5677, 'thousand': 5731, 'walk': 6145, 'equivalent': 1912, 'cigarette': 990, 'status': 5379, 'soda': 5241, 'migration': 3576, 'legislation': 3218, 'survivor': 5559, 'gunman': 2489, 'emotional': 1841, 'unwanted': 6016, 'ways': 6186, 'cultural': 1360, 'samsung': 4919, 'galaxy': 2327, 'freaking': 2274, 'rainbow': 4506, 'grim': 2457, 'owes': 3985, 'wash': 6172, 'years': 6342, 'totally': 5804, 'trusting': 5908, 'hurt': 2693, 'detention': 1549, 'avengersendgame': 403, 'object': 3854, 'wood': 6293, 'sponsor': 5322, 'northern': 3818, 'exploring': 2020, 'shutting': 5131, 'external': 2037, 'cyber': 1378, 'nose': 3821, 'museum': 3704, 'masterpiece': 3463, 'worry': 6310, 'afford': 108, 'toll': 5784, 'download': 1698, 'melted': 3521, 'rebuilding': 4570, 'ravaged': 4541, 'motor': 3676, 'automotive': 395, 'association': 348, 'spoilers': 5316, 'avengers': 402, 'endgame': 1858, 'busy': 773, 'exact': 1965, 'opposite': 3921, 'reporter': 4695, 'mother': 3668, 'renewable': 4678, 'unemployment': 5984, 'assistant': 345, 'veto': 6078, 'override': 3975, 'globally': 2397, 'minded': 3595, 'breakout': 687, 'reaching': 4546, 'breakthrough': 688, 'charles': 934, 'favor': 2098, 'aggressively': 122, 'disrupt': 1623, 'tonight': 5792, 'unlike': 6004, 'believed': 516, 'miracle': 3611, 'morrison': 3662, 'concerned': 1144, 'realtommymello': 4561, 'singer': 5160, 'innovating': 2828, 'naming': 3720, 'aspect': 336, 'robotic': 4830, 'tapping': 5627, 'welcome': 6214, 'jim': 2995, 'utrecht': 6042, 'czech': 1384, 'earnings': 1762, 'qualcomm': 4465, 'catch': 871, 'egyptian': 1806, 'cbd': 881, 'dynasty': 1754, 'brew': 695, 'bieber': 551, 'deluge': 1493, 'canyon': 819, 'iceland': 2704, 'crunch': 1347, 'aside': 330, 'updated': 6019, 'site': 5167, 'physicist': 4150, 'contaminated': 1210, 'knee': 3101, 'allows': 188, 'juventus': 3056, 'allowing': 187, 'installed': 2843, 'ruled': 4877, 'pricing': 4330, 'halted': 2512, 'separate': 5036, 'skills': 5178, 'loses': 3332, 'lifetime': 3256, 'est': 1930, 'pixel': 4177, 'transaction': 5844, 'cousin': 1291, 'littleplatoons': 3292, 'eventually': 1955, 'began': 505, 'mozambique': 3686, 'kenneth': 3068, 'ali': 169, 'khamenei': 3079, 'newly': 3786, 'imposed': 2752, 'deny': 1509, 'replacing': 4690, 'upgrade': 6022, 'includes': 2773, 'investigator': 2904, 'contamination': 1211, 'shipment': 5096, 'shanahan': 5067, 'media': 3502, 'recipe': 4581, 'idai': 2708, 'borrowing': 645, 'oust': 3954, 'consulting': 1199, 'voting': 6129, 'partisan': 4034, 'violate': 6092, 'constitution': 1194, 'headline': 2563, 'replaced': 4688, 'taboo': 5600, 'grant': 2434, 'broad': 715, 'strengthen': 5441, 'ratio': 4540, 'stack': 5346, 'yuan': 6362, 'camping': 803, 'confirm': 1157, 'associate': 346, 'orbit': 3930, 'harsh': 2543, 'lng': 3299, 'anchor': 221, 'carlson': 844, 'vegetarian': 6062, 'slap': 5188, 'salvini': 4916, 'threatens': 5738, 'milkshake': 3585, 'frozen': 2294, 'lottery': 3338, 'firing': 2170, 'fair': 2064, 'actual': 63, 'mainland': 3382, 'jair': 2962, 'fresh': 2284, 'delayed': 1480, 'peter': 4122, 'thiel': 5720, 'seemingly': 5005, 'fourthofjuly': 2260, 'stretch': 5446, 'neck': 3755, 'opinion': 3916, 'encourage': 1853, 'widespread': 6242, 'adoption': 89, 'turnaround': 5928, 'isis': 2932, 'targeting': 5630, 'western': 6221, 'introduce': 2886, 'certainly': 902, 'expanding': 1993, 'letting': 3232, 'crush': 1348, 'rod': 4837, 'entrance': 1891, 'persian': 4107, 'guarantee': 2476, 'bet': 537, 'makes': 3392, 'ray': 4542, 'dalio': 1391, 'revelation': 4774, 'capitol': 827, 'philippines': 4139, 'afternoon': 113, 'tour': 5812, 'crab': 1301, 'linkedin': 3277, 'rupee': 4886, 'realevilhrlady': 4555, 'strategist': 5433, 'examined': 1968, 'familiar': 2075, 'pattern': 4062, 'ivanka': 2948, 'cool': 1248, 'slightly': 5197, 'jetblue': 2991, 'addressing': 77, 'stunning': 5472, 'subscription': 5481, 'michigan': 3566, 'characteristic': 929, 'discipline': 1600, 'exporter': 2025, 'ramping': 4521, 'fairygodboss': 2066, 'alter': 193, 'vessel': 6075, 'joining': 3015, 'entertainment': 1884, 'ambition': 201, 'bolton': 619, 'cia': 989, 'realdonaldtrump': 4554, 'remove': 4674, 'protected': 4408, 'performing': 4097, 'laid': 3138, 'sara': 4927, 'assessment': 342, 'seafood': 4979, 'jeep': 2979, 'traveling': 5864, 'tend': 5674, 'ivy': 2951, 'employ': 1847, 'acquire': 51, 'icymi': 2707, 'token': 5781, 'homework': 2637, 'decreased': 1451, 'oxygen': 3991, 'apparent': 269, 'nadal': 3714, 'roger': 4840, 'federer': 2113, 'warner': 6164, 'bros': 723, 'sends': 5026, 'walking': 6147, 'rebounded': 4567, 'sluggish': 5208, 'openly': 3908, 'engineering': 1870, 'procedure': 4357, 'originally': 3945, 'seed': 5000, 'ken': 3066, 'griffin': 2455, 'nintendo': 3802, 'concrete': 1147, 'champion': 915, 'overlooked': 3973, 'pump': 4440, 'peak': 4070, 'talked': 5617, 'playbook': 4192, 'receive': 4573, 'direct': 1588, 'pain': 4001, 'screen': 4976, 'ugly': 5955, 'quarterly': 4469, 'dinner': 1582, 'ritual': 4817, 'raid': 4501, 'pivotal': 4174, 'listen': 3286, 'silence': 5147, 'meetings': 3514, 'broken': 719, 'helpful': 2595, 'drew': 1719, 'comparison': 1116, 'hitler': 2624, 'bosses': 648, 'vegetable': 6061, 'airbnb': 140, 'associated': 347, 'crushing': 1350, 'suggests': 5509, 'professor': 4371, 'gotten': 2419, 'flexibility': 2194, 'aerial': 101, 'harm': 2539, 'subscribers': 5480, 'organize': 3941, 'misconception': 3613, 'spark': 5286, 'felt': 2123, 'sick': 5132, 'collectible': 1069, 'indoors': 2801, 'significantly': 5144, 'weed': 6203, 'lighting': 3262, 'ensure': 1878, 'ended': 1857, 'ill': 2722, 'sarah': 4928, 'huckabee': 2677, 'aapl': 0, 'mitt': 3631, 'romney': 4850, 'sickened': 5133, 'limited': 3270, 'capable': 822, 'ape': 263, 'welcomed': 6215, 'poland': 4225, 'polluted': 4236, 'pulled': 4438, 'joseph': 3025, 'convertible': 1238, 'section': 4994, 'laptop': 3153, 'worldwide': 6307, 'remained': 4663, 'mom': 3646, 'meltdown': 3520, 'undo': 5982, 'separation': 5038, 'daniels': 1401, 'gallon': 2328, 'hydrated': 2698, 'reduces': 4604, 'initial': 2820, 'sony': 5257, 'absolute': 14, 'successfully': 5491, 'massage': 3458, 'parlor': 4032, 'kraft': 3114, 'almond': 190, 'milk': 3584, 'contentious': 1215, 'hosting': 2659, 'olympics': 3896, 'fit': 2176, 'gem': 2357, 'filing': 2145, 'equity': 1911, 'survival': 5555, 'gary': 2343, 'shilling': 5092, 'squeezed': 5341, 'forcing': 2233, 'leak': 3191, 'sink': 5162, 'fc': 2102, 'barcelona': 466, 'comeback': 1083, 'imminent': 2736, 'ear': 1755, 'hint': 2615, 'refusing': 4623, 'proof': 4393, 'animated': 233, 'warfare': 6158, 'tout': 5816, 'identifies': 2712, 'listed': 3285, 'index': 2788, 'organic': 3937, 'footprint': 2230, 'branson': 676, 'formal': 2242, 'subtle': 5484, 'fantastic': 2081, 'authorizes': 388, 'inquiry': 2831, 'conclusion': 1146, 'collusion': 1073, 'brutal': 730, 'lebron': 3202, 'partnering': 4036, 'documentary': 1656, 'distinction': 1629, 'urgent': 6029, 'england': 1871, 'patriots': 4060, 'gadget': 2322, 'shouldn': 5118, 'trends': 5879, 'shaquille': 5073, 'tuna': 5919, 'milo': 3592, 'yiannopoulos': 6350, 'chose': 977, 'baking': 440, 'cheating': 943, 'lean': 3193, 'automating': 393, 'fiber': 2133, 'marble': 3423, 'various': 6053, 'inject': 2823, 'pure': 4450, 'teaming': 5650, 'producer': 4363, 'canopy': 818, 'clinical': 1024, 'mafia': 3374, 'sophisticated': 5260, 'chick': 959, 'fil': 2142, 'expand': 1991, 'southeast': 5271, 'featuring': 2109, 'coca': 1047, 'cola': 1058, 'relying': 4661, 'mini': 3600, 'victoria': 6082, 'taco': 5602, 'bell': 519, 'chipotle': 968, 'graphic': 2436, 'silver': 5151, 'onboarding': 3899, 'hawk': 2555, 'overcoming': 3971, 'innovate': 2827, 'misconduct': 3614, 'gear': 2355, 'wwdc': 6331, 'cement': 891, 'deadline': 1421, 'preview': 4325, 'motherhood': 3669, 'physician': 4149, 'polish': 4229, 'ebay': 1777, 'destroyed': 1543, 'skilled': 5177, 'receiving': 4575, 'continued': 1220, 'kyle': 3121, 'paso': 4040, 'tense': 5678, 'glimpse': 2393, 'rid': 4799, 'sort': 5263, 'automatic': 391, 'alert': 161, 'anonymous': 246, 'statue': 5378, 'liberty': 3245, 'personally': 4112, 'spoken': 5318, 'prediction': 4294, 'hybrid': 2697, 'impressive': 2757, 'verdict': 6069, 'vulnerable': 6133, 'tomorrow': 5788, 'reddit': 4601, 'decided': 1437, 'weird': 6213, 'successor': 5492, 'trigger': 5885, 'ubs': 5951, 'abandon': 2, 'copy': 1257, 'smartest': 5215, 'bleak': 588, 'reward': 4790, 'celebrities': 887, 'hardly': 2538, 'brewing': 697, 'malaysian': 3396, 'possibility': 4259, 'certification': 904, 'kevin': 3074, 'ignite': 2715, 'warm': 6159, 'robbieab': 4825, 'topple': 5799, 'avatar': 400, 'catastrophic': 869, 'porn': 4250, 'layoff': 3182, 'ford': 2234, 'extraordinary': 2042, 'forth': 2247, 'metro': 3558, 'expat': 1995, 'downfall': 1696, 'preliminary': 4299, 'predicting': 4293, 'bankruptcy': 455, 'ass': 338, 'enterprise': 1882, 'messaging': 3548, 'tail': 5606, 'executives': 1983, 'damaged': 1394, 'suspected': 5563, 'houston': 2668, 'petrochemical': 4127, 'chrisronzio': 980, 'criticizing': 1334, 'careful': 838, 'tripled': 5891, 'invested': 2898, 'atop': 359, 'strongman': 5458, 'advancing': 93, 'ny': 3845, 'rapid': 4531, 'oversight': 3979, 'accidentally': 28, 'subway': 5487, 'tap': 5624, 'bus': 765, 'fare': 2084, 'height': 2584, 'ticker': 5749, 'parade': 4018, 'depending': 1516, 'bob': 612, 'theater': 5710, 'mr': 3689, 'bowl': 659, 'filter': 2149, 'hongkongprotests': 2642, 'organized': 3942, 'istanbul': 2943, 'exhibit': 1985, 'dubai': 1742, 'operator': 3915, 'followed': 2221, 'abu': 17, 'dhabi': 1561, 'cargo': 840, 'teamed': 5649, 'excuse': 1978, 'surprised': 5548, 'magic': 3376, 'algorithm': 168, 'sexist': 5057, 'secrecy': 4989, 'mall': 3399, 'supposed': 5535, 'marriage': 3447, 'showdown': 5119, 'conor': 1176, 'mcgregor': 3486, 'pad': 3998, 'straw': 5435, 'makeover': 3390, 'nurse': 3837, 'tactic': 5603, 'regulated': 4634, 'inversion': 2895, 'imperial': 2743, 'petesweeneypro': 4125, 'illustrated': 2728, 'amazing': 198, 'condemn': 1148, 'motivated': 3673, 'religion': 4657, 'pan': 4011, 'praise': 4286, 'piled': 4160, 'sweeping': 5578, 'mold': 3645, 'awful': 421, 'dmckissen': 1650, 'kardashian': 3059, 'promoting': 4388, 'rock': 4833, 'ewarren': 1963, 'thisisinsider': 5727, 'defector': 1464, 'rethink': 4758, 'originated': 3946, 'capability': 821, 'hemisphere': 2597, 'winter': 6269, 'caribbean': 841, 'digitaltonto': 1578, 'breakdown': 683, 'chrysler': 986, 'apologizes': 266, 'inspiration': 2837, 'kindness': 3093, 'tire': 5771, 'whatsapp': 6227, 'preference': 4296, 'geneva': 2372, 'supercars': 5524, 'undocumented': 5983, 'identity': 2714, 'earn': 1759, 'harassed': 2533, 'bay': 488, 'palladium': 4009, 'adopt': 87, 'link': 3275, 'palm': 4010, 'grumpy': 2471, 'aged': 116, 'marched': 3427, 'minor': 3606, 'mdb': 3489, 'boundary': 656, 'coke': 1057, 'float': 2198, 'horror': 2653, 'nytimes': 3848, 'sec': 4987, 'superhero': 5525, 'surpassed': 5545, 'nationalism': 3731, 'fragile': 2264, 'overweight': 3982, 'shorten': 5114, 'presidency': 4315, 'slows': 5207, 'headed': 2561, 'mining': 3603, 'lionel': 3279, 'messi': 3550, 'cheer': 947, 'madrid': 3372, 'february': 2110, 'lake': 3139, 'dump': 1746, 'capacity': 823, 'vying': 6135, 'wouldn': 6316, 'entrepreneurship': 1896, 'insurer': 2853, 'breathing': 691, 'reinventing': 4640, 'veggie': 6063, 'note': 3823, 'certainty': 903, 'frequently': 2283, 'op': 3903, 'kitchen': 3099, 'prosecutors': 4403, 'supportive': 5534, 'taliban': 5615, 'rebellion': 4565, 'stir': 5405, 'sweden': 5576, 'foam': 2213, 'taxing': 5638, 'bust': 772, 'infected': 2807, 'pipe': 4169, 'bacon': 432, 'lies': 3253, 'plaza': 4199, 'friendship': 2292, 'eyeing': 2048, 'announcement': 240, 'passion': 4045, 'plastic': 4188, 'reliance': 4654, 'nationalist': 3732, 'mentoring': 3535, 'morgan': 3660, 'stanley': 5364, 'sideline': 5134, 'bot': 650, 'tkspeaks': 5775, 'mars': 3450, 'avoided': 410, 'signaling': 5140, 'addiction': 72, 'shanghai': 5068, 'yesterday': 6348, 'approve': 288, 'clearly': 1018, 'boston': 649, 'garden': 2340, 'spin': 5312, 'doctors': 1654, 'mixed': 3633, 'olive': 3892, 'relevant': 4653, 'fueled': 2302, 'prabowo': 4282, 'divisive': 1645, 'feud': 2128, 'marketplace': 3442, 'implement': 2744, 'matteo': 3470, 'nice': 3791, 'bump': 752, 'trike': 5887, 'chop': 975, 'invention': 2892, 'ii': 2719, 'toilet': 5780, 'wikileaks': 6246, 'gore': 2417, 'revolutionize': 4789, 'tehran': 5664, 'pakistani': 4007, 'kashmir': 3061, 'ministry': 3605, 'strain': 5426, 'mit': 3628, 'seanwise': 4981, 'profile': 4372, 'appointment': 284, 'reducing': 4605, 'expanded': 1992, 'vaccinations': 6044, 'eliminated': 1822, 'lucidmeetings': 3351, 'alan': 156, 'jimmy': 2996, 'skyscraper': 5184, 'kremlin': 3115, 'console': 1190, 'larger': 3156, 'represents': 4700, 'investigative': 2903, 'declared': 1445, 'owns': 3990, 'naturally': 3738, 'serving': 5047, 'egypt': 1805, 'terry': 5692, 'shinzo': 5094, 'abe': 5, 'convert': 1237, 'safer': 4899, 'withdrawal': 6279, 'sentenced': 5033, 'reader': 4550, 'davekerpen': 1410, 'hired': 2618, 'answered': 248, 'reactor': 4548, 'underground': 5973, 'avenatti': 401, 'stormy': 5423, 'combine': 1080, 'biprime': 566, 'sliding': 5196, 'anybody': 255, 'usual': 6039, 'census': 892, 'startups': 5372, 'stewart': 5400, 'responder': 4734, 'tallest': 5620, 'algeria': 167, 'constitutional': 1195, 'scrapped': 4974, 'dirty': 1593, 'branding': 674, 'al': 154, 'decisions': 1441, 'providing': 4425, 'lopez': 3327, 'prior': 4339, 'progressive': 4379, 'anger': 229, 'ballot': 446, 'detained': 1547, 'deck': 1442, 'convince': 1240, 'tyra': 5947, 'hottest': 2662, 'downside': 1699, 'rider': 4801, 'scotus': 4972, 'decides': 1438, 'yogurt': 6353, 'slim': 5198, 'heir': 2587, 'badly': 435, 'declaration': 1443, 'jar': 2972, 'technical': 5655, 'request': 4705, 'lighter': 3260, 'guys': 2494, 'redacted': 4600, 'captain': 829, 'sully': 5514, 'landed': 3143, 'hudson': 2678, 'river': 4820, 'sen': 5020, 'christian': 982, 'democrat': 1500, 'bangkok': 449, 'cure': 1364, 'ohio': 3884, 'banning': 459, 'toughest': 5811, 'ap': 260, 'supporting': 5533, 'aggression': 120, 'gesture': 2379, 'criticism': 1332, 'tculpan': 5642, 'legend': 3216, 'restrict': 4745, 'nestle': 3771, 'ignored': 2717, 'featured': 2108, 'lincoln': 3271, 'bucket': 735, 'hacked': 2501, 'li': 3240, 'transit': 5850, 'strait': 5427, 'threatened': 5736, 'visual': 6112, 'sorry': 5262, 'legalized': 3213, 'resigned': 4721, 'festival': 2127, 'ring': 4807, 'supported': 5531, 'oprah': 3923, 'investigating': 2901, 'period': 4101, 'recharge': 4580, 'sponge': 5321, 'improves': 2762, 'curious': 1366, 'prof': 4369, 'chunk': 987, 'calendar': 792, 'accomplish': 29, 'grease': 2441, 'cookie': 1246, 'discovery': 1607, 'counterfeit': 1281, 'generally': 2363, 'instrument': 2848, 'touch': 5806, 'ran': 4522, 'freezer': 2278, 'supermarket': 5526, 'severe': 5055, 'heatwave': 2578, 'topic': 5796, 'sounding': 5268, 'demdebate': 1498, 'drought': 1734, 'camper': 802, 'spotlight': 5329, 'commentator': 1094, 'introduces': 2888, 'swedish': 5577, 'darker': 1404, 'negotiating': 3761, 'representative': 4698, 'disability': 1594, 'increasing': 2782, 'rio': 4808, 'copper': 1256, 'potter': 4271, 'aviation': 407, 'departing': 1511, 'airspace': 150, 'penthouse': 4086, 'potato': 4268, 'soul': 5266, 'tourism': 5813, 'moderate': 3639, 'coin': 1056, 'provider': 4423, 'posse': 4258, 'corner': 1262, 'clothing': 1036, 'constructive': 1197, 'optimistic': 3926, 'operating': 3912, 'dividend': 1642, 'mandate': 3410, 'famously': 2078, 'disorder': 1619, 'somali': 5253, 'pedestrian': 4073, 'believing': 518, 'midwest': 3574, 'crop': 1335, 'bee': 502, 'continuing': 1222, 'amphibious': 208, 'dining': 1581, 'throwing': 5745, 'solid': 5249, 'bounce': 654, 'onehitgit': 3900, 'dive': 1636, 'sweating': 5575, 'jetliner': 2992, 'thief': 5719, 'robbery': 4824, 'shelf': 5084, 'booze': 637, 'upending': 6021, 'snack': 5224, 'occidental': 3865, 'anadarko': 215, 'solve': 5251, 'craigbloem': 1307, 'oliver': 3893, 'closure': 1034, 'powder': 4276, 'weakness': 6191, 'oversaw': 3976, 'ballistic': 444, 'greeted': 2451, 'tournament': 5815, 'jennifer': 2984, 'alex': 162, 'manchester': 3409, 'adam': 66, 'tennis': 5676, 'abdication': 4, 'trapped': 5859, 'hide': 2602, 'scrutiny': 4977, 'obscure': 3857, 'dominating': 1673, 'strength': 5440, 'grief': 2454, 'jk': 2998, 'carried': 851, 'deeper': 1457, 'alisonbdavis': 174, 'greek': 2447, 'adapt': 69, 'driverless': 1728, 'maria': 3431, 'declining': 1449, 'cruz': 1351, 'slowly': 5206, 'membership': 3523, 'load': 3300, 'highway': 2609, 'landmark': 3147, 'faced': 2052, 'insulting': 2851, 'pocket': 4217, 'gather': 2347, 'botswana': 651, 'hunting': 2690, 'rajer_thatt': 4511, 'bw': 780, 'brokerage': 721, 'deficit': 1471, 'kutcher': 3119, 'intentional': 2865, 'finger': 2163, 'marco': 3428, 'rubio': 4873, 'accounting': 36, 'communicate': 1107, 'wework': 6223, 'generic': 2369, 'descended': 1528, 'apparently': 270, 'slumped': 5210, 'illinois': 2725, 'marie': 3432, 'kondo': 3110, 'automaker': 390, 'operated': 3911, 'shortly': 5116, 'takeoff': 5610, 'chelsea': 951, 'revolutionary': 4788, 'exile': 1986, 'bullying': 751, 'discussed': 1611, 'repair': 4683, 'bp': 664, 'consuming': 1203, 'lens': 3227, 'unhappy': 5989, 'heated': 2576, 'disagreement': 1596, 'restore': 4743, 'loving': 3344, 'nightmare': 3799, 'gym': 2495, 'prostitution': 4406, 'johnhall': 3009, 'wto': 6330, 'crossed': 1337, 'recommendation': 4586, 'viral': 6098, 'infection': 2808, 'impeach': 2739, 'kate': 3062, 'keeping': 3063, 'illness': 2726, 'outage': 3956, 'signaled': 5139, 'bourbon': 657, 'native': 3735, 'lee': 3205, 'psychological': 4427, 'weaker': 6189, 'freshman': 2286, 'chair': 908, 'kamalaharris': 3058, 'imposing': 2754, 'contracting': 1225, 'taxpayer': 5639, 'span': 5283, 'transparent': 5854, 'temporary': 5672, 'treating': 5871, 'dmz': 1651, 'multi': 3698, 'carney': 847, 'trucking': 5900, 'ginachon': 2387, 'tobacco': 5777, 'discourage': 1604, 'fi': 2131, 'stuff': 5471, 'excel': 1970, 'manila': 3412, 'shifting': 5091, 'serf': 5041, 'expression': 2031, 'rage': 4499, 'hail': 2505, 'whistleblower': 6233, 'troop': 5893, 'clue': 1039, 'punish': 4444, 'kinglevi': 3096, 'dispute': 1622, 'bracing': 667, 'catching': 872, 'stressing': 5445, 'swimmer': 5581, 'battery': 485, 'grid': 2453, 'blowing': 605, 'purchasing': 4448, 'unseat': 6010, 'nutella': 3839, 'overwhelming': 3984, 'deepening': 1455, 'ancestor': 220, 'dating': 1408, 'madness': 3371, 'mortgage': 3664, 'predict': 4291, 'active': 57, 'bun': 754, 'twist': 5940, 'suspends': 5566, 'portfolio': 4253, 'playoff': 4197, 'stones': 5414, 'mick': 3567, 'jagger': 2959, 'ski': 5175, 'pope': 4242, 'francis': 2270, 'remake': 4665, 'symptom': 5592, 'replica': 4691, 'sustainable': 5570, 'xs': 6337, 'recommend': 4585, 'dorsey': 1687, 'landscape': 3148, 'contractor': 1226, 'inch': 2769, 'shook': 5105, 'crosswalk': 1340, 'rihanna': 4806, 'lvmh': 3359, 'recycling': 4598, 'trash': 5860, 'financially': 2157, 'gratitude': 2438, 'perceive': 4088, 'downing': 1697, 'institution': 2846, 'siege': 5135, 'extremist': 2045, 'jobless': 3001, 'lighthizer': 3261, 'tuition': 5915, 'managers': 3407, 'quest': 4472, 'sought': 5265, 'hormuz': 2652, 'virgin': 6099, 'galactic': 2326, 'nairobi': 3718, 'mystery': 3712, 'disappearance': 1597, 'vatican': 6055, 'nest': 3770, 'magical': 3377, 'heinz': 2586, 'phillips': 4140, 'journal': 3027, 'bottle': 652, 'roughly': 4860, 'hollywood': 2633, 'english': 1872, 'ipos': 2922, 'inspires': 2840, 'caviar': 880, 'robbed': 4823, 'heavyweight': 2581, 'brawl': 677, 'floyd': 2209, 'mayweather': 3480, 'manny': 3414, 'establish': 1931, 'andrewyang': 224, 'motivation': 3675, 'hunger': 2687, 'arm': 311, 'essence': 1928, 'fleeing': 2191, 'marketer': 3440, 'margin': 3430, 'error': 1917, 'lobbyist': 3305, 'gig': 2385, 'sam': 4917, 'dismissed': 1617, 'crossing': 1338, 'graduating': 2428, 'perilous': 4100, 'meaningful': 3493, 'shuts': 5130, 'assume': 349, 'vancouver': 6052, 'surplus': 5546, 'efficient': 1800, 'argues': 307, 'horsepower': 2655, 'dawn': 1415, 'cab': 784, 'fried': 2289, 'nut': 3838, 'hawaii': 2554, 'acosta': 50, 'del': 1478, 'synagogue': 5593, 'prospect': 4404, 'perfume': 4098, 'bulk': 746, 'jerry': 2987, 'appearance': 273, 'sheryl': 5088, 'sandberg': 4924, 'nadler': 3716, 'debuted': 1432, 'honored': 2644, 'county': 1285, 'previous': 4326, 'bts_twt': 732, 'blamed': 584, 'daimler': 1388, 'drunk': 1740, 'recording': 4591, 'rebuke': 4571, 'derail': 1523, 'obvious': 3863, 'voluntarily': 6123, 'gum': 2487, 'protecting': 4409, 'represent': 4697, 'intermittent': 2874, 'regularly': 4633, 'melaniebcurtin': 3517, 'emotionally': 1842, 'defect': 1463, 'substitute': 5483, 'hamilton': 2513, 'prix': 4349, 'sun': 5519, 'fallout': 2072, 'forever': 2239, 'wang': 6152, 'counting': 1283, 'humanity': 2682, 'balloon': 445, 'ethiopia': 1944, 'flip': 2197, 'furniture': 2319, 'obamacare': 3851, 'introduced': 2887, 'mid': 3570, 'disappointing': 1598, 'unacceptable': 5966, 'businessman': 771, 'simpsons': 5157, 'audio': 376, 'raped': 4530, 'awake': 414, 'karl': 3060, 'desk': 1537, 'sinking': 5163, 'shares': 5077, 'pregnant': 4298, 'humans': 2683, 'arrive': 319, 'blocked': 596, 'alaska': 159, 'delivering': 1488, 'intellectual': 2857, 'agricultural': 130, 'overseas': 3977, 'volume': 6122, 'bracket': 668, 'theranos': 5716, 'prompted': 4390, 'speculation': 5301, 'dallas': 1392, 'tory': 5802, 'rank': 4525, 'struggled': 5462, 'pilots': 4163, 'numerous': 3835, 'shed': 5082, 'bloombergequality': 602, 'maintenance': 3386, 'drawn': 1715, 'enthusiast': 1886, 'medicaid': 3504, 'shrank': 5124, 'strongly': 5457, 'accelerate': 20, 'concentration': 1141, 'deleted': 1483, 'inclusive': 2776, 'fate': 2095, 'weaken': 6188, 'freeze': 2277, 'felon': 2122, 'convenience': 1234, 'garage': 2338, 'enters': 1883, 'someday': 5254, 'tragedy': 5836, 'facial': 2053, 'mechanical': 3498, 'humidity': 2684, 'covered': 1294, 'drugmakers': 1739, 'openness': 3909, 'upend': 6020, 'chewy': 957, 'ryan': 4893, 'steakhouse': 5384, 'achieving': 47, 'adopting': 88, 'battered': 484, 'plot': 4208, 'gm': 2401, 'shoot': 5106, 'password': 4047, 'listening': 3287, 'sunglass': 5521, 'staying': 5381, 'disruptive': 1627, 'swine': 5583, 'disrupting': 1625, 'settlement': 5053, 'domino': 1676, 'ncaa': 3745, 'xbox': 6334, 'extension': 2036, 'consensus': 1179, 'legislature': 3220, 'operative': 3914, 'saudis': 4937, 'sports': 5326, 'underlying': 5974, 'pixar': 4176, 'leap': 3195, 'faith': 2067, 'billionaires': 559, 'incceoproject': 2766, 'seeker': 5003, 'jtodonnell': 3033, 'warming': 6161, 'regarding': 4624, 'ballet': 443, 'issuing': 2942, 'echo': 1780, 'reviewing': 4780, 'provides': 4424, 'assad': 339, 'invented': 2891, 'soviet': 5277, 'brings': 710, 'removing': 4676, 'ethical': 1943, 'interpol': 2880, 'backlash': 431, 'investigated': 2900, 'uss': 6038, 'scarce': 4949, 'leftover': 3207, 'pit': 4171, 'von': 6125, 'confirmation': 1158, 'clash': 1008, 'comedian': 1084, 'appointed': 283, 'junk': 3048, 'kentucky': 3069, 'derby': 1524, 'lock': 3309, 'horse': 2654, 'oven': 3968, 'creature': 1321, 'cheapest': 941, 'dominated': 1672, 'metoo': 3556, 'regional': 4628, 'suburban': 5486, 'swimming': 5582, 'flooded': 2201, 'leverage': 3234, 'deliberately': 1484, 'empathy': 1844, 'indicate': 2792, 'revive': 4783, 'cycling': 1381, 'mentored': 3534, 'overtime': 3981, 'dummy': 1745, 'shaking': 5064, 'align': 172, 'motorcycle': 3677, 'legitimate': 3221, 'islam': 2933, 'consume': 1200, 'investigate': 2899, 'costing': 1272, 'enormous': 1877, 'yellow': 6344, 'loophole': 3326, 'macri': 3367, 'suburb': 5485, 'everybody': 1957, 'hustle': 2696, 'arabian': 295, 'renewables': 4679, 'milestone': 3581, 'banner': 458, 'inventor': 2893, 'vogue': 6116, 'demanding': 1497, 'premium': 4303, 'liquor': 3282, 'dependent': 1515, 'focusing': 2216, 'angry': 231, 'database': 1406, 'nick': 3792, 'commander': 1091, 'revoke': 4785, 'stripe': 5452, 'stealth': 5387, 'revival': 4782, 'testified': 5696, 'radically': 4496, 'appear': 272, 'spreading': 5332, 'commencement': 1092, 'unexpectedly': 5986, 'snapping': 5227, 'streak': 5436, 'socialism': 5237, 'commerzbank': 1097, 'connected': 1172, 'wisconsin': 6274, 'steering': 5389, 'autonomy': 397, 'hoping': 2651, 'existential': 1988, 'rothschilds': 4858, 'treasure': 5866, 'trove': 5897, 'heirloom': 2589, 'belonged': 521, 'motif': 3670, 'narrow': 3724, 'tunnel': 5921, 'radar': 4494, 'inventory': 2894, 'remarkable': 4667, 'amzn': 214, 'stepcarter': 5393, 'rami': 4518, 'malek': 3398, 'mercury': 3540, 'standing': 5361, 'compelled': 1117, 'wider': 6241, 'predicts': 4295, 'trending': 5878, 'castro': 863, 'unlock': 6006, 'archive': 299, 'dodging': 1658, 'refining': 4613, 'fundamental': 2311, 'consumption': 1204, 'pose': 4255, 'deepak': 1454, 'chopra': 976, 'suffered': 5500, 'sorenkaplan': 5261, 'buhari': 742, 'tyson': 5948, 'lifestyle': 3255, 'lego': 3222, 'signal': 5138, 'augmented': 378, 'lover': 3343, 'drawing': 1714, 'privilege': 4348, 'overnight': 3974, 'susan': 5560, 'allinbillgreen': 184, 'god': 2405, 'wifi': 6245, 'suite': 5513, 'supporter': 5532, 'posted': 4264, 'diddy': 1567, 'spying': 5339, 'wimbledon': 6258, 'descendant': 1527, 'coyote': 1300, 'jam': 2964, 'mitsubishi': 3630, 'softbank': 5243, 'memorial': 3526, 'protesting': 4415, 'delaying': 1481, 'suspicious': 5568, 'useful': 6034, 'tumble': 5916, 'nazi': 3742, 'harmful': 2540, 'poisoning': 4223, 'wharton': 6226, 'questionable': 4474, 'soar': 5232, 'depend': 1514, 'stories': 5421, 'shale': 5065, 'nobel': 3806, 'prize': 4350, 'chasing': 937, 'rd': 4543, 'sake': 4904, 'michelin': 3564, 'berniesanders': 535, 'congo': 1165, 'traditionally': 5832, 'mainly': 3383, 'stomach': 5412, 'purchased': 4447, 'anna': 236, 'delvey': 1494, 'grad': 2425, 'define': 1472, 'required': 4708, 'ripped': 4811, 'slave': 5190, 'suspicion': 5567, 'specialist': 5295, 'explorer': 2019, 'directed': 1589, 'involvement': 2914, 'chrome': 985, 'walked': 6146, 'carter': 858, 'comfort': 1086, 'bargain': 467, 'plotting': 4210, 'proposing': 4400, 'celebrate': 883, 'unprecedented': 6008, 'unrest': 6009, 'proceeding': 4358, 'accountable': 35, 'ultimately': 5961, 'avenue': 404, 'stone': 5413, 'controversy': 1233, 'frontier': 2293, 'neighboring': 3766, 'robocalls': 4828, 'takeover': 5611, 'isolated': 2937, 'teeth': 5663, 'collector': 1071, 'consecutive': 1178, 'playstation': 4198, 'plunging': 4213, 'visiting': 6110, 'donation': 1682, 'alien': 171, 'neighborhood': 3765, 'environmental': 1900, 'seizure': 5010, 'melon': 3519, 'reserved': 4716, 'fulfilling': 2304, 'outdated': 3960, 'covering': 1295, 'drifting': 1721, 'iceberg': 2703, 'rallying': 4514, 'survive': 5556, 'stranded': 5428, 'reversal': 4776, 'luck': 3352, 'fragrance': 2265, 'fb': 2100, 'couch': 1275, 'maps': 3421, 'bernard': 533, 'arnault': 316, 'weighing': 6209, 'starwars': 5373, 'curb': 1363, 'nokia': 3809, 'appleevent': 278, 'intact': 2854, 'kit': 3098, 'raptors': 4534, 'ousted': 3955, 'telecommunication': 5666, 'refugee': 4618, 'merge': 3543, 'alexa': 163, 'biintelligence': 555, 'jakarta': 2963, 'cigarettes': 991, 'imprisoned': 2758, 'rely': 4660, 'smith': 5220, 'bloomberginvest': 603, 'extending': 2034, 'raging': 4500, 'continuous': 1223, 'commissioner': 1099, 'volunteer': 6124, 'cafe': 788, 'wondered': 6289, 'unusual': 6011, 'colicchio': 1060, 'judgment': 3036, 'rhettpower': 4791, 'defeated': 1462, 'patent': 4054, 'programming': 4377, 'sum': 5515, 'solving': 5252, 'crystal': 1355, 'sufficient': 5503, 'offense': 3871, 'rebounding': 4568, 'retreat': 4763, 'roe': 4839, 'wade': 6137, 'agreeing': 127, 'dy': 1751, 'madison': 3370, 'legalizing': 3214, 'slovakia': 5200, 'spare': 5285, 'contribution': 1228, 'tablet': 5599, 'cocktail': 1050, 'football': 2229, 'rockefeller': 4834, 'engulfing': 1873, 'erased': 1914, 'stance': 5358, 'vegan': 6059, 'refer': 4607, 'misuse': 3627, 'guest': 2481, 'souza': 5274, 'accusing': 43, 'beloved': 523, 'bumped': 753, 'peanut': 4071, 'mideast': 3572, 'caffeine': 789, 'pleads': 4203, 'scored': 4966, 'expose': 2026, 'keynote': 3076, 'meditation': 3509, 'gasoline': 2345, 'booked': 626, 'enjoyable': 1875, 'fulfillment': 2305, 'doomed': 1685, 'dynamic': 1753, 'reverse': 4777, 'orleans': 3947, 'brewery': 696, 'inserting': 2833, 'selected': 5012, 'sole': 5248, 'worn': 6308, 'ba': 424, 'strategic': 5432, 'lobster': 3306, 'philip': 4136, 'arizona': 310, 'basketball': 481, 'bayer': 489, 'roundup': 4862, 'anymore': 256, 'buffalo': 738, 'gillibrand': 2386, 'rough': 4859, 'avert': 406, 'drift': 1720, 'requested': 4706, 'notorious': 3826, 'eclipse': 1781, 'leg': 3208, 'bizarre': 574, 'amyvettercpa': 213, 'collect': 1067, 'shortage': 5113, 'diabetes': 1562, 'managed': 3404, 'clinician': 1025, 'unite': 5996, 'stalled': 5356, 'touching': 5808, 'physically': 4148, 'flintstone': 2196, 'impeachable': 2740, 'thinker': 5724, 'adani': 68, 'hopefully': 2650, 'shine': 5093, 'laced': 3129, 'municipal': 3701, 'casualty': 865, 'attacking': 364, 'pledging': 4206, 'drama': 1710, 'wrinkle': 6321, 'wallet': 6149, 'animation': 234, 'fined': 2162, 'audit': 377, 'arena': 304, 'proved': 4419, 'truce': 5898, 'loyalty': 3350, 'preparation': 4304, 'revolt': 4786, 'picking': 4154, 'fraction': 2263, 'handy': 2520, 'length': 3226, 'sting': 5404, 'nra': 3831, 'whisky': 6232, 'meredith': 3542, 'bowden': 658, 'bpolitics': 665, 'boomer': 631, 'pumping': 4442, 'nigel': 3795, 'farage': 2083, 'nears': 3751, 'admits': 84, 'bashir': 477, 'soared': 5233, 'scottish': 4971, 'meddling': 3501, 'infectious': 2809, 'bacteria': 433, 'gamble': 2329, 'depth': 1521, 'coo': 1244, 'nearby': 3748, 'satisfying': 4932, 'crews': 1325, 'motivating': 3674, 'breeding': 694, 'parking': 4029, 'workday': 6298, 'ganges': 2336, 'kennedy': 3067, 'tradition': 5830, 'reign': 4638, 'bbc': 490, 'communist': 1110, 'rated': 4538, 'television': 5667, 'breakup': 689, 'davidfickling': 1413, 'quake': 4464, 'wendy': 6217, 'syrian': 5595, 'registered': 4630, 'hammer': 2514, 'xinjiang': 6336, 'adamminter': 67, 'forest': 2238, 'leveraged': 3235, 'pharmacy': 4132, 'battleground': 487, 'iwd': 2952, 'berlin': 531, 'accent': 21, 'liable': 3242, 'undermine': 5975, 'alexis': 166, 'ohanian': 3883, 'loom': 3324, 'dominic': 1674, 'clearance': 1017, 'arrives': 321, 'angle': 230, 'reviving': 4784, 'blimp': 590, 'g大阪サミット': 2496, 'problematic': 4356, 'underperforming': 5977, 'referee': 4608, 'pickup': 4155, 'trafficked': 5834, 'accomplished': 30, 'condemns': 1149, 'compliance': 1131, 'champagne': 914, 'kirsten': 3097, 'busiest': 767, 'mathematician': 3468, 'breath': 690, 'august': 379, 'confused': 1164, 'independence': 2786, 'gaza': 2353, 'aerospace': 103, 'riot': 4809, 'unfortunately': 5988, 'permit': 4106, 'zion': 6367, 'williamson': 6255, 'altogether': 195, 'wiping': 6272, 'hq': 2672, 'donreisinger': 1684, 'economically': 1784, 'frame': 2266, 'futures': 2321, 'sticking': 5402, 'confront': 1162, 'bolt': 618, 'evolutionary': 1961, 'tide': 5754, 'mckinsey': 3487, 'purdue': 4449, 'shore': 5111, 'violating': 6094, 'defensive': 1470, 'prepares': 4307, 'racer': 4489, 'resist': 4725, 'aboard': 9, 'jenner': 2983, 'radio': 4497, 'nominee': 3811, 'fueling': 2303, 'mihirssharma': 3577, 'initially': 2821, 'deepens': 1456, 'tomgimbel': 5787, 'carl': 842, 'hicks': 2600, 'circumstance': 995, 'confrontation': 1163, 'binge': 563, 'forming': 2245, 'choosing': 974, 'preserve': 4314, 'tent': 5681, 'desert': 1531, 'contained': 1207, 'guru': 2490, 'jony': 3022, 'ive': 2949, 'intervene': 2881, 'gambling': 2330, 'turmoil': 5926, 'conway': 1243, 'kellyanne': 3065, 'ed': 1790, 'manual': 3416, 'ghana': 2381, 'nugget': 3833, 'surviving': 5558, 'wildfire': 6250, 'libya': 3248, 'roof': 4852, 'reference': 4609, 'ultimatum': 5962, 'stadia': 5347, 'sharply': 5081, 'handful': 2517, 'chile': 964, 'petercohan': 4123, 'amsterdam': 209, 'sooner': 5259, 'retain': 4753, 'canadians': 807, 'dipped': 1587, 'ftc': 2300, 'liability': 3241, 'neweconforum': 3784, 'catbird': 870, 'ignoring': 2718, 'austria': 382, 'technically': 5656, 'accurate': 38, 'jupiter': 3049, 'garlic': 2341, 'knot': 3105, 'incentive': 2767, 'responding': 4735, 'celebrates': 884, 'staffer': 5350, 'cheat': 942, 'structure': 5460, 'nordic': 3814, 'slew': 5193, 'counterpart': 1282, 'agriculture': 131, 'grande': 2433, 'shaping': 5071, 'landlord': 3146, 'bypass': 781, 'themed': 5714, 'knock': 3103, 'troll': 5892, 'mortar': 3663, 'zimmern': 6366, 'yorkers': 6355, 'disrupted': 1624, 'admitting': 86, 'scam': 4947, 'rivalry': 4819, 'verge': 6070, 'orange': 3929, 'investments': 2907, 'hell': 2592, 'pause': 4064, 'olds': 3891, 'toaster': 5776, 'slice': 5194, 'percentage': 4090, 'finals': 2154, 'await': 412, 'beauty': 498, 'massachusetts': 3456, 'digging': 1576, 'unofficial': 6007, 'fool': 2226, 'restructuring': 4748, 'claude': 1011, 'juncker': 3045, 'wounded': 6317, 'petroleum': 4128, 'expecting': 1999, 'ebola': 1778, 'exceptional': 1972, 'distress': 1631, 'graduation': 2429, 'checked': 945, 'catholic': 875, 'unconventional': 5972, 'riding': 4803, 'matters': 3472, 'youtuber': 6361, 'refiner': 4611, 'windshield': 6263, 'sydney': 5590, 'chaotic': 925, 'raided': 4502, 'downward': 1701, 'spokesman': 5319, 'neo': 3767, 'diagnosis': 1563, 'snc': 5228, 'lavalin': 3173, 'nations': 3733, 'hat': 2548, 'hoped': 2648, 'lithium': 3290, 'ecosystem': 1789, 'destruction': 1545, 'select': 5011, 'selfie': 5014, 'betsym': 540, 'joebiden': 3004, 'tdf': 5643, 'escaping': 1925, 'jumping': 3044, 'fundraising': 2315, 'lehman': 3223, 'amash': 197, 'christie': 983, 'merck': 3539, 'cage': 790, 'urged': 6028, 'anjani_trivedi': 235, 'retaliate': 4754, 'boiled': 615, 'encourages': 1854, 'generates': 2366, 'realized': 4559, 'monitoring': 3653, 'paradise': 4019, 'beginner': 507, 'communicating': 1108, 'influencers': 2813, 'unknown': 6001, 'rampant': 4520, 'signs': 5146, 'rick': 4797, 'vince': 6091, 'mcmahon': 3488, 'wwe': 6332, 'electronics': 1815, 'batch': 482, 'brightest': 706, 'alliance': 183, 'counted': 1279, 'ethereum': 1941, 'preventing': 4324, 'johnsfoley': 3011, 'complicated': 1132, 'cognitive': 1054, 'relentless': 4652, 'oversee': 3978, 'programmer': 4376, 'relocate': 4659, 'paypal': 4068, 'messenger': 3549, 'quo': 4485, 'christine': 984, 'lagarde': 3135, 'glowing': 2400, 'grill': 2456, 'odd': 3868, 'lots': 3337, 'kenyan': 3071, 'martha': 3451, 'lori': 3328, 'diving': 1643, 'mineral': 3599, 'warrant': 6167, 'automatically': 392, 'satisfaction': 4930, 'comey': 1085, 'flop': 2204, 'pyongyang': 4461, 'recreational': 4595, 'pyramid': 4462, 'insane': 2832, 'townhouse': 5819, 'superyacht': 5527, 'chapter': 927, 'shocking': 5102, 'pastry': 4051, 'annually': 245, 'bullish': 749, 'finale': 2151, 'andy': 226, 'rout': 4864, 'pricey': 4329, 'collar': 1065, 'virtually': 6102, 'societal': 5239, 'parallel': 4020, 'marinade': 3434, 'tornado': 5800, 'tighter': 5759, 'bidding': 549, 'approves': 290, 'wexner': 6224, 'kudlow': 3117, 'dancer': 1398, 'glory': 2399, 'wildcard': 6249, 'violated': 6093, 'resilience': 4723, 'novak': 3828, 'djokovic': 1649, 'lonely': 3316, 'smile': 5219, 'cited': 996, 'systemic': 5597, 'cancelled': 812, 'delmonico': 1491, 'awesome': 420, 'scrap': 4973, 'malt': 3400, 'johnauthers': 3007, 'gut': 2491, 'privately': 4347, 'sausage': 4938, 'jacksonville': 2957, 'jerusalem': 2989, 'stupid': 5473, 'belongs': 522, 'ramp': 4519, 'portion': 4254, 'cyril': 1383, 'ramaphosa': 4517, 'drain': 1708, 'underneath': 5976, 'heating': 2577, 'interior': 2873, 'dealt': 1426, 'mattress': 3473, 'lowered': 3347, 'iq': 2923, 'widening': 6239, 'bred': 692, 'spectrum': 5300, 'challenger': 911, 'funeral': 2316, 'cereal': 899, 'congratulations': 1166, 'watergate': 6181, 'lufthansa': 3355, 'revised': 4781, 'toddnordstrom': 5779, 'rematch': 4669, 'olivia': 3894, 'filling': 2147, 'hailing': 2507, 'catastrophe': 868, 'separates': 5037, 'dr': 1703, 'seoul': 5035, 'tictocnews': 5752, 'vitamin': 6114, 'craig': 1306, 'uncertain': 5967, 'editorial': 1795, 'labeled': 3126, 'polling': 4235, 'salute': 4915, 'denying': 1510, 'climbing': 1023, 'messy': 3551, 'teenage': 5661, 'illustrate': 2727, 'destroying': 1544, 'hype': 2700, 'epidemic': 1903, 'empathetic': 1843, 'turnover': 5931, 'attempted': 366, 'alleging': 180, 'surfboard': 5540, 'capitalist': 826, 'eggs': 1803, 'goods': 2414, 'intuition': 2890, 'wonderful': 6290, 'wales': 6144, 'guideline': 2484, 'kylie': 3122, 'participate': 4033, 'ufos': 5954, 'donating': 1681, 'influx': 2815, 'appetite': 276, 'glitter': 2394}\n"
          ]
        }
      ],
      "source": [
        "print(\"Vocabulary size: {}\".format(len(vect.vocabulary_)))\n",
        "print(\"Vocabulary content:\\n {}\".format(vect.vocabulary_))"
      ]
    },
    {
      "cell_type": "code",
      "execution_count": 44,
      "metadata": {
        "colab": {
          "base_uri": "https://localhost:8080/"
        },
        "id": "PvjkS22Kupou",
        "outputId": "8bc5a93f-8e95-49ff-f36b-4ae53dd5f6e3"
      },
      "outputs": [
        {
          "output_type": "stream",
          "name": "stdout",
          "text": [
            "bag_of_words: <24019x6373 sparse matrix of type '<class 'numpy.int64'>'\n",
            "\twith 196838 stored elements in Compressed Sparse Row format>\n"
          ]
        }
      ],
      "source": [
        "X_train_transformed1 = vect.transform(X_train)\n",
        "print(\"bag_of_words: {}\".format(repr(X_train_transformed1)))"
      ]
    },
    {
      "cell_type": "code",
      "source": [
        "X_train_transformed1.shape"
      ],
      "metadata": {
        "colab": {
          "base_uri": "https://localhost:8080/"
        },
        "id": "IBVzaHbka4j3",
        "outputId": "e620f426-2297-4be6-dedc-3b40551ca0c1"
      },
      "execution_count": 45,
      "outputs": [
        {
          "output_type": "execute_result",
          "data": {
            "text/plain": [
              "(24019, 6373)"
            ]
          },
          "metadata": {},
          "execution_count": 45
        }
      ]
    },
    {
      "cell_type": "markdown",
      "metadata": {
        "id": "lkPWW_x61T3g"
      },
      "source": [
        "# #Check some of the features (words)"
      ]
    },
    {
      "cell_type": "code",
      "execution_count": 46,
      "metadata": {
        "colab": {
          "base_uri": "https://localhost:8080/"
        },
        "id": "b9CP0Td01N9q",
        "outputId": "4187614f-e4b1-40ee-f303-01269f177d7a"
      },
      "outputs": [
        {
          "output_type": "stream",
          "name": "stdout",
          "text": [
            "First 50 features:\n",
            "['aapl' 'aasugar' 'abandon' 'abandoned' 'abdication' 'abe' 'ability'\n",
            " 'able' 'abmarkman' 'aboard' 'abortion' 'abroad' 'abrupt' 'abruptly'\n",
            " 'absolute' 'absolutely' 'absorb' 'abu' 'abuse' 'academy' 'accelerate'\n",
            " 'accent' 'accept' 'acceptance' 'accepts' 'access' 'accessible' 'accident'\n",
            " 'accidentally' 'accomplish' 'accomplished' 'accord' 'according' 'account'\n",
            " 'accountability' 'accountable' 'accounting' 'accumulating' 'accurate'\n",
            " 'accusation' 'accused' 'accuser' 'accuses' 'accusing' 'achieve'\n",
            " 'achieved' 'achiever' 'achieving' 'acknowledge' 'acknowledged']\n",
            "Features 20010 to 20030:\n",
            "['experts' 'explain' 'explained' 'explains' 'explanation' 'explode'\n",
            " 'exploded' 'exploration' 'explore' 'explorer' 'exploring' 'explosion'\n",
            " 'explosive' 'exponentialview' 'export' 'exporter' 'expose' 'exposed'\n",
            " 'exposure' 'express']\n",
            "Every 700th feature:\n",
            "['aapl' 'bribery' 'dangerous' 'fb' 'indoor' 'medal' 'plea' 'safety'\n",
            " 'taboo' 'worker']\n"
          ]
        }
      ],
      "source": [
        "feature_names = vect.get_feature_names_out()\n",
        "print(\"First 50 features:\\n{}\".format(feature_names[:50]))\n",
        "print(\"Features 20010 to 20030:\\n{}\".format(feature_names[2010:2030]))\n",
        "print(\"Every 700th feature:\\n{}\".format(feature_names[::700]))"
      ]
    },
    {
      "cell_type": "code",
      "execution_count": 47,
      "metadata": {
        "colab": {
          "base_uri": "https://localhost:8080/"
        },
        "id": "NneESj4NxAYo",
        "outputId": "c8be7549-d8b9-486d-aaf4-4539084fcff8"
      },
      "outputs": [
        {
          "output_type": "execute_result",
          "data": {
            "text/plain": [
              "<6005x6373 sparse matrix of type '<class 'numpy.int64'>'\n",
              "\twith 48133 stored elements in Compressed Sparse Row format>"
            ]
          },
          "metadata": {},
          "execution_count": 47
        }
      ],
      "source": [
        "X_test_transformed1 = vect.transform(X_test)\n",
        "X_test_transformed1"
      ]
    },
    {
      "cell_type": "code",
      "execution_count": 48,
      "metadata": {
        "colab": {
          "base_uri": "https://localhost:8080/"
        },
        "id": "-4Lb8EdBvtFV",
        "outputId": "18ec4075-9219-46f5-f216-da09c801f36d"
      },
      "outputs": [
        {
          "output_type": "stream",
          "name": "stdout",
          "text": [
            "Accuracy: 0.8026644462947544\n"
          ]
        }
      ],
      "source": [
        "from sklearn.linear_model import LogisticRegression\n",
        "\n",
        "# Create a LogisticRegression object with default parameters(Chnaging number of iteartions to 1000)\n",
        "#(Default parameters:lr.get_params())\n",
        "#\n",
        "\n",
        "lr = LogisticRegression(max_iter=1000, class_weight='balanced')    #              \n",
        "# Train the model on the training data\n",
        "lr.fit(X_train_transformed1, y_train)\n",
        "\n",
        "# Use the trained model to make predictions on the testing data\n",
        "y_pred1 = lr.predict(X_test_transformed1)\n",
        "\n",
        "# Evaluate the accuracy of the model\n",
        "accuracy = lr.score(X_test_transformed1, y_test)\n",
        "print(\"Accuracy:\", accuracy)"
      ]
    },
    {
      "cell_type": "code",
      "source": [
        "print(lr.get_params)"
      ],
      "metadata": {
        "colab": {
          "base_uri": "https://localhost:8080/"
        },
        "id": "EpUPWhOhCXJC",
        "outputId": "e4c5dceb-60bf-4a3a-e9ba-8412c5daf1e5"
      },
      "execution_count": 49,
      "outputs": [
        {
          "output_type": "stream",
          "name": "stdout",
          "text": [
            "<bound method BaseEstimator.get_params of LogisticRegression(class_weight='balanced', max_iter=1000)>\n"
          ]
        }
      ]
    },
    {
      "cell_type": "code",
      "execution_count": 50,
      "metadata": {
        "colab": {
          "base_uri": "https://localhost:8080/",
          "height": 541
        },
        "id": "GU4w-lfPx6G4",
        "outputId": "8d747b65-0cad-4e69-fe8e-9a735f6ca633"
      },
      "outputs": [
        {
          "output_type": "stream",
          "name": "stdout",
          "text": [
            "Precision: 0.8602540834845736\n",
            "Recall: 0.7973086627417998\n",
            "Accuracy: 0.8026644462947544\n",
            "F1-score: 0.8275862068965517\n"
          ]
        },
        {
          "output_type": "display_data",
          "data": {
            "text/plain": [
              "<Figure size 640x480 with 2 Axes>"
            ],
            "image/png": "[encoded data removed]"
          },
          "metadata": {}
        }
      ],
      "source": [
        "from sklearn.metrics import precision_score, recall_score, accuracy_score,f1_score\n",
        "import seaborn as sns\n",
        "import matplotlib.pyplot as plt\n",
        "from sklearn.metrics import confusion_matrix\n",
        "\n",
        "# Calculate the precision, recall, and accuracy, F1-score of the model\n",
        "precision = precision_score(y_test, y_pred1)\n",
        "recall = recall_score(y_test, y_pred1)\n",
        "accuracy = accuracy_score(y_test, y_pred1)\n",
        "f1 = f1_score(y_test, y_pred1)\n",
        "\n",
        "\n",
        "print(\"Precision:\", precision)\n",
        "print(\"Recall:\", recall)\n",
        "print(\"Accuracy:\", accuracy)\n",
        "print(\"F1-score:\", f1)\n",
        "\n",
        "# Compute the confusion matrix\n",
        "confusion_matrix = confusion_matrix(y_test, y_pred1)\n",
        "\n",
        "# Define class labels for the plot\n",
        "class_names = ['Class 0', 'Class 1']\n",
        "\n",
        "# Plot the confusion matrix using seaborn\n",
        "sns.heatmap(confusion_matrix, cmap='Blues', annot=True, fmt='d', xticklabels=class_names, yticklabels=class_names)\n",
        "\n",
        "# Set the plot title and axis labels\n",
        "plt.title('Confusion Matrix')\n",
        "plt.xlabel('Predicted Label')\n",
        "plt.ylabel('True Label')\n",
        "\n",
        "plt.show()"
      ]
    },
    {
      "cell_type": "code",
      "source": [
        "type(y_pred1)"
      ],
      "metadata": {
        "colab": {
          "base_uri": "https://localhost:8080/"
        },
        "id": "UkCCxIjJT5FC",
        "outputId": "2380a47e-2e6e-4332-8518-5513f06fc111"
      },
      "execution_count": 51,
      "outputs": [
        {
          "output_type": "execute_result",
          "data": {
            "text/plain": [
              "numpy.ndarray"
            ]
          },
          "metadata": {},
          "execution_count": 51
        }
      ]
    },
    {
      "cell_type": "markdown",
      "source": [
        "# Changing the threshold for classification!"
      ],
      "metadata": {
        "id": "G5JR9ICwUlb5"
      }
    },
    {
      "cell_type": "code",
      "source": [
        "# get the predicted probabilities for the test set\n",
        "y_prob = lr.predict_proba(X_test_transformed1)\n",
        "y_prob"
      ],
      "metadata": {
        "colab": {
          "base_uri": "https://localhost:8080/"
        },
        "id": "9U1AwCfKUtwv",
        "outputId": "87d54df8-44ed-4ba0-df92-2ee4f48109b2"
      },
      "execution_count": 52,
      "outputs": [
        {
          "output_type": "execute_result",
          "data": {
            "text/plain": [
              "array([[9.46141780e-01, 5.38582203e-02],\n",
              "       [1.12805529e-02, 9.88719447e-01],\n",
              "       [8.44356803e-01, 1.55643197e-01],\n",
              "       ...,\n",
              "       [2.98676137e-04, 9.99701324e-01],\n",
              "       [8.48490955e-01, 1.51509045e-01],\n",
              "       [1.07307202e-01, 8.92692798e-01]])"
            ]
          },
          "metadata": {},
          "execution_count": 52
        }
      ]
    },
    {
      "cell_type": "code",
      "source": [
        "y_pred_05 = lr.predict(X_test_transformed1)\n",
        "y_pred_05"
      ],
      "metadata": {
        "colab": {
          "base_uri": "https://localhost:8080/"
        },
        "id": "LreITVNpVnpV",
        "outputId": "cc7577ab-9dc6-4f38-c58b-ed477202b794"
      },
      "execution_count": 53,
      "outputs": [
        {
          "output_type": "execute_result",
          "data": {
            "text/plain": [
              "array([0, 1, 0, ..., 1, 0, 1])"
            ]
          },
          "metadata": {},
          "execution_count": 53
        }
      ]
    },
    {
      "cell_type": "code",
      "source": [
        "type(y_pred_05)"
      ],
      "metadata": {
        "colab": {
          "base_uri": "https://localhost:8080/"
        },
        "id": "IXzmw-r4V1dC",
        "outputId": "c5d52656-53aa-4d8e-94e2-363fc647bf86"
      },
      "execution_count": 54,
      "outputs": [
        {
          "output_type": "execute_result",
          "data": {
            "text/plain": [
              "numpy.ndarray"
            ]
          },
          "metadata": {},
          "execution_count": 54
        }
      ]
    },
    {
      "cell_type": "code",
      "source": [
        "# apply the threshold manually to get the predicted class labels\n",
        "y_pred_06 = []\n",
        "for i in range(len(y_prob)):\n",
        "    if y_prob[i][1] >= 0.6:\n",
        "        y_pred_06.append(1)\n",
        "    else:\n",
        "        y_pred_06.append(0)\n",
        "y_pred_06[:10]"
      ],
      "metadata": {
        "colab": {
          "base_uri": "https://localhost:8080/"
        },
        "id": "EW0IYirJVKrO",
        "outputId": "f903e258-9e48-4ef2-b8f6-d75fd9ce900f"
      },
      "execution_count": 55,
      "outputs": [
        {
          "output_type": "execute_result",
          "data": {
            "text/plain": [
              "[0, 1, 0, 0, 1, 1, 1, 0, 0, 0]"
            ]
          },
          "metadata": {},
          "execution_count": 55
        }
      ]
    },
    {
      "cell_type": "code",
      "source": [
        "import numpy as np\n",
        "y_pred_06=np.array(y_pred_06)\n",
        "y_pred_06[:10]"
      ],
      "metadata": {
        "colab": {
          "base_uri": "https://localhost:8080/"
        },
        "id": "9f2lXNpTZCgY",
        "outputId": "1f687e1f-a422-4634-d853-dae42097e412"
      },
      "execution_count": 56,
      "outputs": [
        {
          "output_type": "execute_result",
          "data": {
            "text/plain": [
              "array([0, 1, 0, 0, 1, 1, 1, 0, 0, 0])"
            ]
          },
          "metadata": {},
          "execution_count": 56
        }
      ]
    },
    {
      "cell_type": "code",
      "source": [
        "from sklearn.metrics import precision_score, recall_score, accuracy_score,f1_score\n",
        "import seaborn as sns\n",
        "import matplotlib.pyplot as plt\n",
        "from sklearn.metrics import confusion_matrix\n",
        "\n",
        "# Calculate the precision, recall, and accuracy, F1-score of the model\n",
        "precision = precision_score(y_test, y_pred_06)\n",
        "recall = recall_score(y_test, y_pred_06)\n",
        "accuracy = accuracy_score(y_test, y_pred_06)\n",
        "f1 = f1_score(y_test, y_pred_06)\n",
        "\n",
        "print(\"Accuracy:\", accuracy)\n",
        "print(\"Precision:\", precision)\n",
        "print(\"Recall:\", recall)\n",
        "print(\"F1-score:\", f1)\n",
        "\n",
        "# Compute the confusion matrix\n",
        "confusion_matrix = confusion_matrix(y_test,y_pred_06)\n",
        "\n",
        "# Define class labels for the plot\n",
        "class_names = ['Class 0', 'Class 1']\n",
        "\n",
        "# Plot the confusion matrix using seaborn\n",
        "sns.heatmap(confusion_matrix, cmap='Blues', annot=True, fmt='d', xticklabels=class_names, yticklabels=class_names)\n",
        "\n",
        "# Set the plot title and axis labels\n",
        "plt.title('Confusion Matrix')\n",
        "plt.xlabel('Predicted Label')\n",
        "plt.ylabel('True Label')\n",
        "\n",
        "plt.show()"
      ],
      "metadata": {
        "colab": {
          "base_uri": "https://localhost:8080/",
          "height": 541
        },
        "id": "hz56h0XYW_Ia",
        "outputId": "8d50136f-84ba-41ca-b37c-25652483dfa1"
      },
      "execution_count": 57,
      "outputs": [
        {
          "output_type": "stream",
          "name": "stdout",
          "text": [
            "Accuracy: 0.7855120732722731\n",
            "Precision: 0.8853567805207981\n",
            "Recall: 0.7339500981216709\n",
            "F1-score: 0.8025751072961375\n"
          ]
        },
        {
          "output_type": "display_data",
          "data": {
            "text/plain": [
              "<Figure size 640x480 with 2 Axes>"
            ],
            "image/png": "[encoded data removed]"
          },
          "metadata": {}
        }
      ]
    },
    {
      "cell_type": "markdown",
      "metadata": {
        "id": "W0yt4QiP6D67"
      },
      "source": [
        "# GridSearchCV: param_grid = {'C': [ 0.5,0.1, 1,1.5]}\n",
        "\n",
        "vect = CountVectorizer(min_df=5,stop_words=\"english\")\n",
        "\n",
        "vect.fit(X_train)\n",
        "\n",
        "X_train_transformed1 = vect.transform(X_train)\n",
        "\n",
        "X_test_transformed1 = vect.transform(X_test)"
      ]
    },
    {
      "cell_type": "code",
      "execution_count": 58,
      "metadata": {
        "colab": {
          "base_uri": "https://localhost:8080/"
        },
        "id": "g6QRXZWi5ZQf",
        "outputId": "79681075-4fe4-4385-9082-341eb5dff68a"
      },
      "outputs": [
        {
          "output_type": "stream",
          "name": "stdout",
          "text": [
            "Accuracy: 0.8088259783513738\n",
            "Best cross-validation score: 0.80\n",
            "Best parameters:  {'C': 0.5}\n"
          ]
        }
      ],
      "source": [
        "from sklearn.model_selection import GridSearchCV\n",
        "param_grid = {'C': [ 0.1, 0.5,1,1.5]}\n",
        "grid1 = GridSearchCV(LogisticRegression(max_iter=1000,class_weight='balanced'), param_grid, cv=5)\n",
        "grid1.fit(X_train_transformed1, y_train)\n",
        "\n",
        "# Evaluate the accuracy of the model\n",
        "accuracy = grid1.score(X_test_transformed1, y_test)\n",
        "\n",
        "print(\"Accuracy:\", accuracy)\n",
        "print(\"Best cross-validation score: {:.2f}\".format(grid1.best_score_))\n",
        "print(\"Best parameters: \", grid1.best_params_)"
      ]
    },
    {
      "cell_type": "code",
      "source": [
        "from sklearn.metrics import precision_score, recall_score, accuracy_score,f1_score\n",
        "import seaborn as sns\n",
        "import matplotlib.pyplot as plt\n",
        "from sklearn.metrics import confusion_matrix\n",
        "\n",
        "# Use the trained model to make predictions on the testing data\n",
        "y_pred2 = grid1.predict(X_test_transformed1)\n",
        "\n",
        "# Calculate the precision, recall, and accuracy, F1-score of the model\n",
        "precision = precision_score(y_test, y_pred2)\n",
        "recall = recall_score(y_test, y_pred2)\n",
        "accuracy = accuracy_score(y_test, y_pred2)\n",
        "f1 = f1_score(y_test, y_pred2)\n",
        "\n",
        "print(\"Accuracy:\", accuracy)\n",
        "print(\"Precision:\", precision)\n",
        "print(\"Recall:\", recall)\n",
        "print(\"F1-score:\", f1)\n",
        "\n",
        "# Compute the confusion matrix\n",
        "confusion_matrix = confusion_matrix(y_test, y_pred2)\n",
        "\n",
        "# Define class labels for the plot\n",
        "class_names = ['Class 0', 'Class 1']\n",
        "\n",
        "# Plot the confusion matrix using seaborn\n",
        "sns.heatmap(confusion_matrix, cmap='Blues', annot=True, fmt='d', xticklabels=class_names, yticklabels=class_names)\n",
        "\n",
        "# Set the plot title and axis labels\n",
        "plt.title('Confusion Matrix')\n",
        "plt.xlabel('Predicted Label')\n",
        "plt.ylabel('True Label')\n",
        "\n",
        "plt.show()"
      ],
      "metadata": {
        "colab": {
          "base_uri": "https://localhost:8080/",
          "height": 541
        },
        "id": "mcOCeh_2YDV2",
        "outputId": "e732af68-9ead-45d6-8b15-7bbb808867ff"
      },
      "execution_count": 59,
      "outputs": [
        {
          "output_type": "stream",
          "name": "stdout",
          "text": [
            "Accuracy: 0.8088259783513738\n",
            "Precision: 0.8697645979822685\n",
            "Recall: 0.7975890103728623\n",
            "F1-score: 0.8321146534074291\n"
          ]
        },
        {
          "output_type": "display_data",
          "data": {
            "text/plain": [
              "<Figure size 640x480 with 2 Axes>"
            ],
            "image/png": "[encoded data removed]"
          },
          "metadata": {}
        }
      ]
    },
    {
      "cell_type": "markdown",
      "metadata": {
        "id": "OU4fjmmStS9M"
      },
      "source": [
        "# Rescaling the Data with tf–idf\n"
      ]
    },
    {
      "cell_type": "code",
      "execution_count": 60,
      "metadata": {
        "id": "I4AuqXtruf8y"
      },
      "outputs": [],
      "source": [
        "#scikit-learn implements the tf–idf method in two classes: TfidfTransformer, which takes in the sparse matrix output produced by \n",
        "#CountVectorizer and transforms it, \n",
        "#and TfidfVectorizer, which takes in the text data and does both the bag-of-words feature extraction and the tf–idf transformation. \n",
        "#\n",
        "#Because tf–idf actually makes use of the statistical properties of the training data, we will use a pipeline, as described in Chapter 6,\n",
        "#to ensure the results of our grid search are valid. This leads to the following code:\n",
        "#pipe = make_pipeline(TfidfVectorizer(min_df=5, .......stop_words=\"english\".....,norm=None), LogisticRegression(max_iter=1000))"
      ]
    },
    {
      "cell_type": "code",
      "execution_count": 61,
      "metadata": {
        "colab": {
          "base_uri": "https://localhost:8080/"
        },
        "id": "I_JMSdzn69bw",
        "outputId": "3611bb1a-b06d-4a8f-e3d5-34a6a3fcfb6a"
      },
      "outputs": [
        {
          "output_type": "stream",
          "name": "stdout",
          "text": [
            "Best cross-validation score: 0.78\n",
            "Best parameters:  {'logisticregression__C': 0.1}\n"
          ]
        }
      ],
      "source": [
        "from sklearn.feature_extraction.text import TfidfVectorizer\n",
        "from sklearn.pipeline import make_pipeline\n",
        "pipe = make_pipeline(TfidfVectorizer(min_df=5,stop_words=\"english\", norm=None), LogisticRegression(max_iter=1000,class_weight='balanced'))\n",
        "param_grid = {'logisticregression__C': [0.1,0.5, 1,1.5]}\n",
        "grid_tfidf = GridSearchCV(pipe, param_grid, cv=5)\n",
        "grid_tfidf.fit(X_train, y_train)\n",
        "print(\"Best cross-validation score: {:.2f}\".format(grid_tfidf.best_score_))\n",
        "print(\"Best parameters: \", grid_tfidf.best_params_)\n",
        "\n",
        "#accuracy = grid_tfidf.score(X_test, y_test)\n",
        "\n",
        "#print(\"Accuracy:\", accuracy)\n"
      ]
    },
    {
      "cell_type": "markdown",
      "metadata": {
        "id": "8tOsivbf50aq"
      },
      "source": [
        "# accuracy_score, precision_score, recall_score, f1_score \n"
      ]
    },
    {
      "cell_type": "code",
      "execution_count": 62,
      "metadata": {
        "colab": {
          "base_uri": "https://localhost:8080/",
          "height": 541
        },
        "id": "lGvFewQG5jYh",
        "outputId": "a8ad5df2-f2b3-493e-fd50-67dadc62c500"
      },
      "outputs": [
        {
          "output_type": "stream",
          "name": "stdout",
          "text": [
            "Accuracy:0.79\n",
            "Precision: 0.84\n",
            "Recall: 0.80\n",
            "F1-score: 0.82\n"
          ]
        },
        {
          "output_type": "display_data",
          "data": {
            "text/plain": [
              "<Figure size 640x480 with 2 Axes>"
            ],
            "image/png": "[encoded data removed]"
          },
          "metadata": {}
        }
      ],
      "source": [
        "from sklearn.metrics import accuracy_score, precision_score, recall_score, f1_score\n",
        "import seaborn as sns\n",
        "import matplotlib.pyplot as plt\n",
        "from sklearn.metrics import confusion_matrix\n",
        "\n",
        "# predict the class labels of the test set\n",
        "y_pred5 = grid_tfidf.predict(X_test)\n",
        "\n",
        "# compute the accuracy\n",
        "accuracy = accuracy_score(y_test, y_pred5)\n",
        "\n",
        "# compute other metrics\n",
        "precision = precision_score(y_test, y_pred5)\n",
        "recall = recall_score(y_test, y_pred5)\n",
        "f1 = f1_score(y_test, y_pred5)\n",
        "\n",
        "print(\"Accuracy:{:.2f}\".format(accuracy))\n",
        "print(\"Precision: {:.2f}\".format(precision))\n",
        "print(\"Recall: {:.2f}\".format(recall))\n",
        "print(\"F1-score: {:.2f}\".format(f1))\n",
        "\n",
        "# Compute the confusion matrix\n",
        "confusion_matrix = confusion_matrix(y_test, y_pred5)\n",
        "\n",
        "# Define class labels for the plot\n",
        "class_names = ['Class 0', 'Class 1']\n",
        "\n",
        "# Plot the confusion matrix using seaborn\n",
        "sns.heatmap(confusion_matrix, cmap='Blues', annot=True, fmt='d', xticklabels=class_names, yticklabels=class_names)\n",
        "\n",
        "# Set the plot title and axis labels\n",
        "plt.title('Confusion Matrix')\n",
        "plt.xlabel('Predicted Label')\n",
        "plt.ylabel('True Label')\n",
        "\n",
        "plt.show()"
      ]
    },
    {
      "cell_type": "markdown",
      "metadata": {
        "id": "8we492BnzXGc"
      },
      "source": [
        "# Investigating Model Coefficients"
      ]
    },
    {
      "cell_type": "code",
      "execution_count": 63,
      "metadata": {
        "colab": {
          "base_uri": "https://localhost:8080/",
          "height": 794
        },
        "id": "8LitCzUy86r7",
        "outputId": "697d6136-fee8-4618-f665-bd5a9b201328"
      },
      "outputs": [
        {
          "output_type": "display_data",
          "data": {
            "text/plain": [
              "<Figure size 1200x1000 with 1 Axes>"
            ],
            "image/png": "[encoded data removed]"
          },
          "metadata": {}
        }
      ],
      "source": [
        "import matplotlib.pyplot as plt\n",
        "\n",
        "# get the coefficients and feature names\n",
        "coef = grid_tfidf.best_estimator_.named_steps[\"logisticregression\"].coef_[0]\n",
        "feature_names = np.array(feature_names)\n",
        "#sort the coefficients by absolute value and get the top 40\n",
        "top_coef_idx = np.argsort(np.abs(coef))[::-1][:40]\n",
        "top_coef = coef[top_coef_idx]\n",
        "feature_names = vect.get_feature_names_out() #???????????\n",
        "top_feature_names = feature_names[top_coef_idx]\n",
        "\n",
        "# create a horizontal bar plot of the top coefficients\n",
        "plt.figure(figsize=(12, 10))\n",
        "plt.barh(range(len(top_coef)), top_coef, align='center')\n",
        "plt.yticks(range(len(top_coef)), top_feature_names)\n",
        "plt.xlabel(\"Coefficient magnitude\")\n",
        "plt.ylabel(\"Feature\")\n",
        "plt.ylim(-1, len(top_coef))\n",
        "plt.title(\"Top 40 features by coefficient magnitude\")\n",
        "plt.show()"
      ]
    },
    {
      "cell_type": "markdown",
      "metadata": {
        "id": "raSYuP6z-vSL"
      },
      "source": [
        "# Bag-of-Words with More Than One Word (n-Grams)\n",
        "We can change the range of tokens that are considered as features by changing the ngram_range parameter of CountVectorizer or TfidfVectorizer. \n",
        "Let’s try out the TfidfVectorizer and find the best setting of n-gram range using a grid search:"
      ]
    },
    {
      "cell_type": "code",
      "execution_count": 64,
      "metadata": {
        "colab": {
          "base_uri": "https://localhost:8080/"
        },
        "id": "CA_C0Jgs-xD1",
        "outputId": "984038e3-298c-4e73-f8e7-e7cc7178f8af"
      },
      "outputs": [
        {
          "output_type": "stream",
          "name": "stdout",
          "text": [
            "Best cross-validation score: 0.76\n",
            "Best parameters:\n",
            "{'logisticregression__C': 2.5, 'tfidfvectorizer__ngram_range': (1, 1)}\n"
          ]
        }
      ],
      "source": [
        "pipe = make_pipeline(TfidfVectorizer(min_df=5,stop_words=\"english\", norm=None), LogisticRegression(max_iter=1000,class_weight='balanced'))\n",
        "# running the grid search takes a long time because of the\n",
        "# relatively large grid and the inclusion of trigrams\n",
        "param_grid = {\"logisticregression__C\": [2.5,3,4,5,6,7], \"tfidfvectorizer__ngram_range\": [(1, 1), (1, 2), (1, 3)]}\n",
        "grid_dfidf2 = GridSearchCV(pipe, param_grid, cv=5)\n",
        "grid_dfidf2.fit(X_train, y_train)\n",
        "print(\"Best cross-validation score: {:.2f}\".format(grid_dfidf2.best_score_))\n",
        "print(\"Best parameters:\\n{}\".format(grid_dfidf2.best_params_))"
      ]
    },
    {
      "cell_type": "code",
      "source": [
        "from sklearn.metrics import accuracy_score, precision_score, recall_score, f1_score\n",
        "import seaborn as sns\n",
        "import matplotlib.pyplot as plt\n",
        "from sklearn.metrics import confusion_matrix\n",
        "\n",
        "# predict the class labels of the test set\n",
        "y_pred6 = grid_dfidf2.predict(X_test)\n",
        "\n",
        "# compute the accuracy\n",
        "accuracy = accuracy_score(y_test, y_pred6)\n",
        "# compute other metrics\n",
        "precision = precision_score(y_test, y_pred6)\n",
        "recall = recall_score(y_test, y_pred6)\n",
        "f1 = f1_score(y_test, y_pred6)\n",
        "\n",
        "print(\"Accuracy: {:.2f}\".format(accuracy))\n",
        "print(\"Precision: {:.2f}\".format(precision))\n",
        "print(\"Recall: {:.2f}\".format(recall))\n",
        "print(\"F1-score: {:.2f}\".format(f1))\n",
        "\n",
        "# Compute the confusion matrix\n",
        "confusion_matrix = confusion_matrix(y_test, y_pred6)\n",
        "\n",
        "# Define class labels for the plot\n",
        "class_names = ['Class 0', 'Class 1']\n",
        "\n",
        "# Plot the confusion matrix using seaborn\n",
        "sns.heatmap(confusion_matrix, cmap='Blues', annot=True, fmt='d', xticklabels=class_names, yticklabels=class_names)\n",
        "\n",
        "# Set the plot title and axis labels\n",
        "plt.title('Confusion Matrix')\n",
        "plt.xlabel('Predicted Label')\n",
        "plt.ylabel('True Label')\n",
        "\n",
        "plt.show()"
      ],
      "metadata": {
        "colab": {
          "base_uri": "https://localhost:8080/",
          "height": 541
        },
        "id": "oTsHUW8qeGh8",
        "outputId": "a156f47a-fe01-41af-83b3-36fa20009b1f"
      },
      "execution_count": 65,
      "outputs": [
        {
          "output_type": "stream",
          "name": "stdout",
          "text": [
            "Accuracy: 0.76\n",
            "Precision: 0.81\n",
            "Recall: 0.78\n",
            "F1-score: 0.80\n"
          ]
        },
        {
          "output_type": "display_data",
          "data": {
            "text/plain": [
              "<Figure size 640x480 with 2 Axes>"
            ],
            "image/png": "[encoded data removed]"
          },
          "metadata": {}
        }
      ]
    },
    {
      "cell_type": "markdown",
      "source": [
        "# RandomForestClassifier"
      ],
      "metadata": {
        "id": "n0uvwcSRdbRA"
      }
    },
    {
      "cell_type": "code",
      "source": [
        "from sklearn.feature_extraction.text import CountVectorizer\n",
        "vect = CountVectorizer(min_df=5,stop_words=\"english\")\n",
        "vect.fit(X_train)\n",
        "X_train_transformed11 = vect.transform(X_train)\n",
        "X_test_transformed11 = vect.transform(X_test)"
      ],
      "metadata": {
        "id": "oX5UJK50cGs1"
      },
      "execution_count": 66,
      "outputs": []
    },
    {
      "cell_type": "code",
      "source": [
        "from sklearn.ensemble import RandomForestClassifier\n",
        "\n",
        "rfc= RandomForestClassifier(n_estimators=1000, class_weight='balanced')\n",
        "rfc.fit(X_train_transformed11, y_train)\n",
        "\n",
        "\n",
        "# Get the accuracy on the test set\n",
        "accuracy = rfc.score(X_test_transformed11, y_test)\n",
        "print(\"Test accuracy: {:.2f}\".format(accuracy))"
      ],
      "metadata": {
        "id": "p2v1kwTBu3-U",
        "colab": {
          "base_uri": "https://localhost:8080/"
        },
        "outputId": "d5cc7546-6131-49d4-c548-ef3731442a6b"
      },
      "execution_count": 67,
      "outputs": [
        {
          "output_type": "stream",
          "name": "stdout",
          "text": [
            "Test accuracy: 0.81\n"
          ]
        }
      ]
    },
    {
      "cell_type": "code",
      "source": [
        "from sklearn.metrics import accuracy_score, precision_score, recall_score, f1_score\n",
        "import seaborn as sns\n",
        "import matplotlib.pyplot as plt\n",
        "from sklearn.metrics import confusion_matrix\n",
        "\n",
        "# predict the class labels of the test set\n",
        "y_pred11 = rfc.predict(X_test_transformed11)\n",
        "\n",
        "# compute the accuracy\n",
        "accuracy = accuracy_score(y_test, y_pred11)\n",
        "# compute other metrics\n",
        "precision = precision_score(y_test, y_pred11)\n",
        "recall = recall_score(y_test, y_pred11)\n",
        "f1 = f1_score(y_test, y_pred11)\n",
        "\n",
        "print(\"Accuracy: {:.2f}\".format(accuracy))\n",
        "print(\"Precision: {:.2f}\".format(precision))\n",
        "print(\"Recall: {:.2f}\".format(recall))\n",
        "print(\"F1-score: {:.2f}\".format(f1))\n",
        "\n",
        "# Compute the confusion matrix\n",
        "confusion_matrix = confusion_matrix(y_test, y_pred11)\n",
        "\n",
        "# Define class labels for the plot\n",
        "class_names = ['Class 0', 'Class 1']\n",
        "\n",
        "# Plot the confusion matrix using seaborn\n",
        "sns.heatmap(confusion_matrix, cmap='Blues', annot=True, fmt='d', xticklabels=class_names, yticklabels=class_names)\n",
        "\n",
        "# Set the plot title and axis labels\n",
        "plt.title('Confusion Matrix')\n",
        "plt.xlabel('Predicted Label')\n",
        "plt.ylabel('True Label')\n",
        "\n",
        "plt.show()"
      ],
      "metadata": {
        "colab": {
          "base_uri": "https://localhost:8080/",
          "height": 541
        },
        "id": "rZEterrPdcFR",
        "outputId": "f05338cd-364b-4b0f-bd68-b06bd6fcddad"
      },
      "execution_count": 68,
      "outputs": [
        {
          "output_type": "stream",
          "name": "stdout",
          "text": [
            "Accuracy: 0.81\n",
            "Precision: 0.83\n",
            "Recall: 0.86\n",
            "F1-score: 0.85\n"
          ]
        },
        {
          "output_type": "display_data",
          "data": {
            "text/plain": [
              "<Figure size 640x480 with 2 Axes>"
            ],
            "image/png": "[encoded data removed]"
          },
          "metadata": {}
        }
      ]
    },
    {
      "cell_type": "markdown",
      "source": [
        "# XGBoost "
      ],
      "metadata": {
        "id": "YCLfyeTzgFup"
      }
    },
    {
      "cell_type": "code",
      "source": [
        "from sklearn.feature_extraction.text import CountVectorizer\n",
        "vect = CountVectorizer(min_df=5,stop_words=\"english\")\n",
        "vect.fit(X_train)\n",
        "X_train_transformed111 = vect.transform(X_train)\n",
        "X_test_transformed111 = vect.transform(X_test)"
      ],
      "metadata": {
        "id": "pr9tGbVvKSCj"
      },
      "execution_count": 69,
      "outputs": []
    },
    {
      "cell_type": "code",
      "source": [
        "from xgboost import XGBClassifier\n",
        "xgb = XGBClassifier(n_estimators=1000,class_weight='balanced', learning_rate=0.1, random_state=42)\n",
        "\n",
        "xgb.fit(X_train_transformed111, y_train)\n",
        "\n",
        "\n",
        "# Get the accuracy on the test set\n",
        "accuracy = xgb.score(X_test_transformed111, y_test)\n",
        "print(\"Test accuracy: {:.2f}\".format(accuracy))"
      ],
      "metadata": {
        "colab": {
          "base_uri": "https://localhost:8080/"
        },
        "id": "w8PStJs4gBHJ",
        "outputId": "c37f30d2-6f77-46d4-c7c7-da76d7b3fbb4"
      },
      "execution_count": 70,
      "outputs": [
        {
          "output_type": "stream",
          "name": "stdout",
          "text": [
            "[03:22:41] WARNING: ../src/learner.cc:767: \n",
            "Parameters: { \"class_weight\" } are not used.\n",
            "\n",
            "Test accuracy: 0.81\n"
          ]
        }
      ]
    },
    {
      "cell_type": "code",
      "source": [
        "from sklearn.metrics import accuracy_score, precision_score, recall_score, f1_score\n",
        "import seaborn as sns\n",
        "import matplotlib.pyplot as plt\n",
        "from sklearn.metrics import confusion_matrix\n",
        "\n",
        "# predict the class labels of the test set\n",
        "y_pred12 = xgb.predict(X_test_transformed111)\n",
        "\n",
        "# compute the accuracy\n",
        "accuracy = accuracy_score(y_test, y_pred12)\n",
        "# compute other metrics\n",
        "precision = precision_score(y_test, y_pred12)\n",
        "recall = recall_score(y_test, y_pred12)\n",
        "f1 = f1_score(y_test, y_pred12)\n",
        "\n",
        "print(\"Accuracy: {:.2f}\".format(accuracy))\n",
        "print(\"Precision: {:.2f}\".format(precision))\n",
        "print(\"Recall: {:.2f}\".format(recall))\n",
        "print(\"F1-score: {:.2f}\".format(f1))\n",
        "\n",
        "# Compute the confusion matrix\n",
        "confusion_matrix = confusion_matrix(y_test, y_pred12)\n",
        "\n",
        "# Define class labels for the plot\n",
        "class_names = ['Class 0', 'Class 1']\n",
        "\n",
        "# Plot the confusion matrix using seaborn\n",
        "sns.heatmap(confusion_matrix, cmap='Blues', annot=True, fmt='d', xticklabels=class_names, yticklabels=class_names)\n",
        "\n",
        "# Set the plot title and axis labels\n",
        "plt.title('Confusion Matrix')\n",
        "plt.xlabel('Predicted Label')\n",
        "plt.ylabel('True Label')\n",
        "\n",
        "plt.show()"
      ],
      "metadata": {
        "colab": {
          "base_uri": "https://localhost:8080/",
          "height": 541
        },
        "id": "oac21Dcahgje",
        "outputId": "165aa75f-d9b1-432e-8dc3-9c354c037cdd"
      },
      "execution_count": 71,
      "outputs": [
        {
          "output_type": "stream",
          "name": "stdout",
          "text": [
            "Accuracy: 0.81\n",
            "Precision: 0.84\n",
            "Recall: 0.84\n",
            "F1-score: 0.84\n"
          ]
        },
        {
          "output_type": "display_data",
          "data": {
            "text/plain": [
              "<Figure size 640x480 with 2 Axes>"
            ],
            "image/png": "[encoded data removed]"
          },
          "metadata": {}
        }
      ]
    },
    {
      "cell_type": "code",
      "source": [],
      "metadata": {
        "id": "yHT6hhrwrOQ-"
      },
      "execution_count": null,
      "outputs": []
    },
    {
      "cell_type": "markdown",
      "source": [
        "# TRuncatedSVD"
      ],
      "metadata": {
        "id": "qfFjItxcrPEe"
      }
    },
    {
      "cell_type": "code",
      "source": [
        "from sklearn.feature_extraction.text import CountVectorizer\n",
        "vect = CountVectorizer()\n",
        "vect.fit(X_train)"
      ],
      "metadata": {
        "colab": {
          "base_uri": "https://localhost:8080/",
          "height": 74
        },
        "id": "0HGjLCUZrNsX",
        "outputId": "92b5078f-2299-4333-f7f1-6008c4578fe1"
      },
      "execution_count": 84,
      "outputs": [
        {
          "output_type": "execute_result",
          "data": {
            "text/plain": [
              "CountVectorizer()"
            ],
            "text/html": [
              "<style>#sk-container-id-4 {color: black;background-color: white;}#sk-container-id-4 pre{padding: 0;}#sk-container-id-4 div.sk-toggleable {background-color: white;}#sk-container-id-4 label.sk-toggleable__label {cursor: pointer;display: block;width: 100%;margin-bottom: 0;padding: 0.3em;box-sizing: border-box;text-align: center;}#sk-container-id-4 label.sk-toggleable__label-arrow:before {content: \"▸\";float: left;margin-right: 0.25em;color: #696969;}#sk-container-id-4 label.sk-toggleable__label-arrow:hover:before {color: black;}#sk-container-id-4 div.sk-estimator:hover label.sk-toggleable__label-arrow:before {color: black;}#sk-container-id-4 div.sk-toggleable__content {max-height: 0;max-width: 0;overflow: hidden;text-align: left;background-color: #f0f8ff;}#sk-container-id-4 div.sk-toggleable__content pre {margin: 0.2em;color: black;border-radius: 0.25em;background-color: #f0f8ff;}#sk-container-id-4 input.sk-toggleable__control:checked~div.sk-toggleable__content {max-height: 200px;max-width: 100%;overflow: auto;}#sk-container-id-4 input.sk-toggleable__control:checked~label.sk-toggleable__label-arrow:before {content: \"▾\";}#sk-container-id-4 div.sk-estimator input.sk-toggleable__control:checked~label.sk-toggleable__label {background-color: #d4ebff;}#sk-container-id-4 div.sk-label input.sk-toggleable__control:checked~label.sk-toggleable__label {background-color: #d4ebff;}#sk-container-id-4 input.sk-hidden--visually {border: 0;clip: rect(1px 1px 1px 1px);clip: rect(1px, 1px, 1px, 1px);height: 1px;margin: -1px;overflow: hidden;padding: 0;position: absolute;width: 1px;}#sk-container-id-4 div.sk-estimator {font-family: monospace;background-color: #f0f8ff;border: 1px dotted black;border-radius: 0.25em;box-sizing: border-box;margin-bottom: 0.5em;}#sk-container-id-4 div.sk-estimator:hover {background-color: #d4ebff;}#sk-container-id-4 div.sk-parallel-item::after {content: \"\";width: 100%;border-bottom: 1px solid gray;flex-grow: 1;}#sk-container-id-4 div.sk-label:hover label.sk-toggleable__label {background-color: #d4ebff;}#sk-container-id-4 div.sk-serial::before {content: \"\";position: absolute;border-left: 1px solid gray;box-sizing: border-box;top: 0;bottom: 0;left: 50%;z-index: 0;}#sk-container-id-4 div.sk-serial {display: flex;flex-direction: column;align-items: center;background-color: white;padding-right: 0.2em;padding-left: 0.2em;position: relative;}#sk-container-id-4 div.sk-item {position: relative;z-index: 1;}#sk-container-id-4 div.sk-parallel {display: flex;align-items: stretch;justify-content: center;background-color: white;position: relative;}#sk-container-id-4 div.sk-item::before, #sk-container-id-4 div.sk-parallel-item::before {content: \"\";position: absolute;border-left: 1px solid gray;box-sizing: border-box;top: 0;bottom: 0;left: 50%;z-index: -1;}#sk-container-id-4 div.sk-parallel-item {display: flex;flex-direction: column;z-index: 1;position: relative;background-color: white;}#sk-container-id-4 div.sk-parallel-item:first-child::after {align-self: flex-end;width: 50%;}#sk-container-id-4 div.sk-parallel-item:last-child::after {align-self: flex-start;width: 50%;}#sk-container-id-4 div.sk-parallel-item:only-child::after {width: 0;}#sk-container-id-4 div.sk-dashed-wrapped {border: 1px dashed gray;margin: 0 0.4em 0.5em 0.4em;box-sizing: border-box;padding-bottom: 0.4em;background-color: white;}#sk-container-id-4 div.sk-label label {font-family: monospace;font-weight: bold;display: inline-block;line-height: 1.2em;}#sk-container-id-4 div.sk-label-container {text-align: center;}#sk-container-id-4 div.sk-container {/* jupyter's `normalize.less` sets `[hidden] { display: none; }` but bootstrap.min.css set `[hidden] { display: none !important; }` so we also need the `!important` here to be able to override the default hidden behavior on the sphinx rendered scikit-learn.org. See: https://github.com/scikit-learn/scikit-learn/issues/21755 */display: inline-block !important;position: relative;}#sk-container-id-4 div.sk-text-repr-fallback {display: none;}</style><div id=\"sk-container-id-4\" class=\"sk-top-container\"><div class=\"sk-text-repr-fallback\"><pre>CountVectorizer()</pre><b>In a Jupyter environment, please rerun this cell to show the HTML representation or trust the notebook. <br />On GitHub, the HTML representation is unable to render, please try loading this page with nbviewer.org.</b></div><div class=\"sk-container\" hidden><div class=\"sk-item\"><div class=\"sk-estimator sk-toggleable\"><input class=\"sk-toggleable__control sk-hidden--visually\" id=\"sk-estimator-id-4\" type=\"checkbox\" checked><label for=\"sk-estimator-id-4\" class=\"sk-toggleable__label sk-toggleable__label-arrow\">CountVectorizer</label><div class=\"sk-toggleable__content\"><pre>CountVectorizer()</pre></div></div></div></div></div>"
            ]
          },
          "metadata": {},
          "execution_count": 84
        }
      ]
    },
    {
      "cell_type": "code",
      "source": [
        "X_train_transformed0=vect.transform(X_train)\n",
        "X_test_transformed0=vect.transform(X_test)"
      ],
      "metadata": {
        "id": "pjv1lFJqrdsF"
      },
      "execution_count": 85,
      "outputs": []
    },
    {
      "cell_type": "code",
      "source": [
        "X_train_transformed0.shape"
      ],
      "metadata": {
        "colab": {
          "base_uri": "https://localhost:8080/"
        },
        "id": "pBQiI0FYrisE",
        "outputId": "9db1487a-1f23-4de8-d28a-30da77ca0808"
      },
      "execution_count": 86,
      "outputs": [
        {
          "output_type": "execute_result",
          "data": {
            "text/plain": [
              "(24019, 20410)"
            ]
          },
          "metadata": {},
          "execution_count": 86
        }
      ]
    },
    {
      "cell_type": "code",
      "source": [
        "X_test_transformed0.shape"
      ],
      "metadata": {
        "colab": {
          "base_uri": "https://localhost:8080/"
        },
        "id": "OBhZfHuSrqM9",
        "outputId": "3a520307-233f-43cf-964e-4dc30b886853"
      },
      "execution_count": 87,
      "outputs": [
        {
          "output_type": "execute_result",
          "data": {
            "text/plain": [
              "(6005, 20410)"
            ]
          },
          "metadata": {},
          "execution_count": 87
        }
      ]
    },
    {
      "cell_type": "code",
      "source": [
        "from sklearn.pipeline import Pipeline\n",
        "from sklearn.decomposition import TruncatedSVD\n",
        "from sklearn.linear_model import LogisticRegression\n",
        "from sklearn.metrics import roc_curve, auc\n",
        "import matplotlib.pyplot as plt"
      ],
      "metadata": {
        "id": "oIU75FpGrtSD"
      },
      "execution_count": 88,
      "outputs": []
    },
    {
      "cell_type": "code",
      "source": [
        "# Define pipeline with TruncatedSVD and logistic regression\n",
        "pipeline = Pipeline([\n",
        "    ('svd', TruncatedSVD()),\n",
        "    ('clf', LogisticRegression(max_iter=1000,class_weight='balanced'))\n",
        "])\n",
        "\n",
        "variance_ratios={}\n",
        "# Define a list of values for k\n",
        "k_values = [1000, 2000, 3000,4000,5000]\n",
        "\n",
        "# Iterate over k values and calculate ROC curves and AUC scores\n",
        "for k in k_values:\n",
        "    # Set the number of components for TruncatedSVD\n",
        "    pipeline.set_params(svd__n_components=k)\n",
        "    \n",
        "    # Fit the pipeline on the training data\n",
        "    pipeline.fit(X_train_transformed0, y_train)\n",
        "    \n",
        "    # Make predictions on the testing data\n",
        "    y_pred = pipeline.predict_proba(X_test_transformed0)[:, 1]\n",
        "    #explained variance ratios for the selected k components \n",
        "    variance_ratios[k] = pipeline.named_steps['svd'].explained_variance_ratio_\n",
        "    # Calculate false positive rate, true positive rate, and AUC score\n",
        "    fpr, tpr, _ = roc_curve(y_test, y_pred)\n",
        "    roc_auc = auc(fpr, tpr)\n",
        "    \n",
        "    # Plot the ROC curve\n",
        "    plt.plot(fpr, tpr, label=f'k = {k}, AUC = {roc_auc:.2f}')\n",
        "\n",
        "# Add legend and plot title\n",
        "plt.legend()\n",
        "plt.title('Receiver Operating Characteristic (ROC) curves')\n",
        "plt.xlabel('False Positive Rate')\n",
        "plt.ylabel('True Positive Rate')\n",
        "plt.show()"
      ],
      "metadata": {
        "colab": {
          "base_uri": "https://localhost:8080/",
          "height": 472
        },
        "id": "WMpK1qz0ryiO",
        "outputId": "4370e812-7f38-4af4-ee37-26df187b67c6"
      },
      "execution_count": 89,
      "outputs": [
        {
          "output_type": "display_data",
          "data": {
            "text/plain": [
              "<Figure size 640x480 with 1 Axes>"
            ],
            "image/png": "[encoded data removed]"
          },
          "metadata": {}
        }
      ]
    },
    {
      "cell_type": "code",
      "source": [
        "variance_ratios"
      ],
      "metadata": {
        "colab": {
          "base_uri": "https://localhost:8080/"
        },
        "id": "qAB1dsIEsX2T",
        "outputId": "70a696db-f6e4-4d86-bcf9-ec3b6335d134"
      },
      "execution_count": 90,
      "outputs": [
        {
          "output_type": "execute_result",
          "data": {
            "text/plain": [
              "{1000: array([0.04864856, 0.03470897, 0.01913006, 0.01839736, 0.01603169,\n",
              "        0.0140816 , 0.01200701, 0.01138188, 0.01056509, 0.00905943,\n",
              "        0.00794522, 0.00730756, 0.00633627, 0.00592299, 0.00558194,\n",
              "        0.00532914, 0.00528883, 0.00510287, 0.00503147, 0.00485513,\n",
              "        0.00478057, 0.00457941, 0.00430756, 0.00421752, 0.00413992,\n",
              "        0.00404229, 0.00388721, 0.00383801, 0.00369569, 0.00352486,\n",
              "        0.00351633, 0.00341735, 0.00326416, 0.00306895, 0.00300573,\n",
              "        0.00294575, 0.00289388, 0.00279492, 0.00273004, 0.00270084,\n",
              "        0.0026679 , 0.00259842, 0.00252181, 0.00251773, 0.00250366,\n",
              "        0.00246046, 0.00243494, 0.00237051, 0.00230902, 0.00229288,\n",
              "        0.00227138, 0.00226257, 0.00223196, 0.00221412, 0.00214401,\n",
              "        0.00211971, 0.0021135 , 0.00209074, 0.00205043, 0.0020176 ,\n",
              "        0.00199254, 0.00193727, 0.00190491, 0.0018713 , 0.00184461,\n",
              "        0.00180406, 0.00175907, 0.00174134, 0.00172836, 0.00169463,\n",
              "        0.00168559, 0.00165487, 0.00164745, 0.00162347, 0.00160441,\n",
              "        0.00158967, 0.00157642, 0.00156109, 0.00152817, 0.00152095,\n",
              "        0.00149363, 0.0014802 , 0.00145869, 0.00142734, 0.00139568,\n",
              "        0.00138915, 0.00136598, 0.00135649, 0.00133196, 0.00131782,\n",
              "        0.0013068 , 0.00128599, 0.00127226, 0.00126143, 0.00124274,\n",
              "        0.00123615, 0.00122483, 0.00120605, 0.00120077, 0.00118398,\n",
              "        0.00117936, 0.00116387, 0.00115874, 0.00114495, 0.0011374 ,\n",
              "        0.00112826, 0.0011141 , 0.00109713, 0.00108831, 0.00108382,\n",
              "        0.00107643, 0.00106905, 0.00105798, 0.00105383, 0.00104865,\n",
              "        0.00104382, 0.00103286, 0.00102976, 0.00101981, 0.00101661,\n",
              "        0.00100386, 0.00100015, 0.00099318, 0.00098805, 0.00098669,\n",
              "        0.00097745, 0.00097189, 0.00096332, 0.0009602 , 0.00093909,\n",
              "        0.00093749, 0.00093313, 0.00092761, 0.00091361, 0.00091118,\n",
              "        0.00090414, 0.00089571, 0.00088559, 0.0008822 , 0.0008725 ,\n",
              "        0.00086824, 0.00086691, 0.00085762, 0.00084722, 0.00084555,\n",
              "        0.00082982, 0.00082117, 0.00081351, 0.00080934, 0.0008026 ,\n",
              "        0.00079931, 0.00079573, 0.00078753, 0.00078534, 0.00078089,\n",
              "        0.00077897, 0.00077379, 0.0007718 , 0.00076999, 0.00076547,\n",
              "        0.00076065, 0.00075728, 0.00075049, 0.00074623, 0.00074166,\n",
              "        0.00073706, 0.00073651, 0.0007299 , 0.00072556, 0.00072379,\n",
              "        0.00071851, 0.0007157 , 0.00071122, 0.00070922, 0.00070761,\n",
              "        0.00070394, 0.00070169, 0.00069791, 0.00069597, 0.0006896 ,\n",
              "        0.00068916, 0.00068706, 0.00068655, 0.00068307, 0.00067949,\n",
              "        0.00067532, 0.00067369, 0.0006666 , 0.00066425, 0.00066232,\n",
              "        0.00065885, 0.00065595, 0.00065335, 0.00065184, 0.00065082,\n",
              "        0.00064653, 0.00064348, 0.00064205, 0.00063909, 0.0006376 ,\n",
              "        0.00063543, 0.00063323, 0.0006308 , 0.0006294 , 0.00062436,\n",
              "        0.00062379, 0.00061996, 0.00061848, 0.00061544, 0.00061211,\n",
              "        0.00061176, 0.00061052, 0.00060925, 0.00060729, 0.00060324,\n",
              "        0.00060114, 0.0005997 , 0.00059596, 0.00059448, 0.00059302,\n",
              "        0.00059043, 0.0005888 , 0.00058803, 0.00058418, 0.0005827 ,\n",
              "        0.00058095, 0.00057845, 0.00057563, 0.00057307, 0.00057162,\n",
              "        0.00056965, 0.0005667 , 0.00056573, 0.0005649 , 0.00055985,\n",
              "        0.00055929, 0.00055859, 0.00055731, 0.00055509, 0.00055291,\n",
              "        0.00054994, 0.00054931, 0.00054676, 0.00054397, 0.00054391,\n",
              "        0.00054158, 0.00053977, 0.00053844, 0.00053693, 0.00053543,\n",
              "        0.00053396, 0.00053241, 0.00053014, 0.00052964, 0.00052885,\n",
              "        0.00052655, 0.00052442, 0.00052196, 0.00051947, 0.00051781,\n",
              "        0.00051645, 0.00051508, 0.00051438, 0.00051125, 0.00051083,\n",
              "        0.00050967, 0.00050847, 0.00050754, 0.00050585, 0.00050458,\n",
              "        0.00050271, 0.00050112, 0.00049974, 0.00049749, 0.0004951 ,\n",
              "        0.00049376, 0.0004924 , 0.00049047, 0.00048908, 0.00048694,\n",
              "        0.00048467, 0.00048431, 0.00048289, 0.00048103, 0.0004802 ,\n",
              "        0.00047959, 0.00047757, 0.00047665, 0.00047433, 0.00047398,\n",
              "        0.00047166, 0.00047048, 0.00046923, 0.00046747, 0.00046613,\n",
              "        0.00046401, 0.0004633 , 0.00046195, 0.00046113, 0.00046076,\n",
              "        0.00045873, 0.00045657, 0.00045548, 0.00045354, 0.0004522 ,\n",
              "        0.00045118, 0.00044893, 0.00044844, 0.00044744, 0.00044648,\n",
              "        0.00044528, 0.00044403, 0.0004431 , 0.00044248, 0.00044066,\n",
              "        0.00043947, 0.00043773, 0.00043699, 0.00043624, 0.00043463,\n",
              "        0.00043337, 0.0004326 , 0.00043196, 0.00043118, 0.00042971,\n",
              "        0.00042808, 0.00042682, 0.00042482, 0.00042313, 0.00042269,\n",
              "        0.00042211, 0.00042061, 0.00041952, 0.00041824, 0.00041667,\n",
              "        0.00041581, 0.00041497, 0.00041391, 0.00041313, 0.00041202,\n",
              "        0.0004105 , 0.00040982, 0.00040737, 0.00040717, 0.00040594,\n",
              "        0.00040516, 0.00040459, 0.00040343, 0.00040284, 0.00040225,\n",
              "        0.00040098, 0.00039959, 0.00039753, 0.0003969 , 0.0003959 ,\n",
              "        0.0003949 , 0.0003941 , 0.00039332, 0.00039281, 0.00039089,\n",
              "        0.00039034, 0.00038919, 0.00038868, 0.00038775, 0.00038642,\n",
              "        0.00038563, 0.00038505, 0.00038398, 0.000383  , 0.00038145,\n",
              "        0.00038015, 0.00037924, 0.00037833, 0.00037785, 0.00037618,\n",
              "        0.0003754 , 0.00037492, 0.00037463, 0.00037382, 0.00037304,\n",
              "        0.00037164, 0.00037148, 0.00037031, 0.00036985, 0.00036873,\n",
              "        0.00036847, 0.00036726, 0.00036642, 0.00036469, 0.00036401,\n",
              "        0.00036348, 0.0003629 , 0.0003621 , 0.00036086, 0.00036057,\n",
              "        0.00035838, 0.00035832, 0.00035799, 0.00035699, 0.00035612,\n",
              "        0.00035572, 0.00035537, 0.00035411, 0.00035318, 0.0003526 ,\n",
              "        0.0003519 , 0.00035122, 0.00035053, 0.00034943, 0.00034901,\n",
              "        0.00034806, 0.00034724, 0.00034618, 0.00034562, 0.00034519,\n",
              "        0.00034335, 0.00034284, 0.00034257, 0.00034151, 0.00034114,\n",
              "        0.00034086, 0.00033989, 0.00033869, 0.00033832, 0.00033726,\n",
              "        0.00033651, 0.00033642, 0.00033614, 0.00033427, 0.00033386,\n",
              "        0.00033287, 0.00033194, 0.0003314 , 0.00033119, 0.00033037,\n",
              "        0.00032999, 0.00032914, 0.00032858, 0.00032776, 0.00032722,\n",
              "        0.00032702, 0.00032563, 0.00032512, 0.00032467, 0.00032364,\n",
              "        0.00032325, 0.00032262, 0.00032223, 0.00032211, 0.00032132,\n",
              "        0.00032093, 0.00032009, 0.00031927, 0.00031816, 0.0003177 ,\n",
              "        0.00031662, 0.00031633, 0.00031554, 0.00031495, 0.00031452,\n",
              "        0.00031384, 0.00031351, 0.00031302, 0.00031237, 0.00031215,\n",
              "        0.00031115, 0.00031088, 0.00030986, 0.00030952, 0.00030906,\n",
              "        0.00030857, 0.00030793, 0.00030758, 0.00030714, 0.00030685,\n",
              "        0.00030617, 0.00030541, 0.00030489, 0.0003046 , 0.00030412,\n",
              "        0.00030346, 0.00030273, 0.00030224, 0.00030202, 0.00030096,\n",
              "        0.0003008 , 0.00029971, 0.00029956, 0.00029908, 0.00029851,\n",
              "        0.00029818, 0.00029775, 0.00029684, 0.00029662, 0.00029626,\n",
              "        0.0002962 , 0.00029509, 0.00029446, 0.00029373, 0.00029339,\n",
              "        0.00029283, 0.00029213, 0.00029116, 0.00029113, 0.0002904 ,\n",
              "        0.00028995, 0.00028983, 0.00028915, 0.00028903, 0.00028832,\n",
              "        0.00028756, 0.00028684, 0.00028668, 0.00028622, 0.00028583,\n",
              "        0.00028545, 0.00028528, 0.0002844 , 0.00028414, 0.00028369,\n",
              "        0.0002829 , 0.00028273, 0.0002822 , 0.00028178, 0.00028105,\n",
              "        0.0002807 , 0.00027979, 0.00027955, 0.00027929, 0.00027872,\n",
              "        0.00027806, 0.00027762, 0.0002775 , 0.00027685, 0.00027678,\n",
              "        0.00027614, 0.00027595, 0.00027525, 0.00027489, 0.00027451,\n",
              "        0.0002739 , 0.00027342, 0.00027305, 0.00027236, 0.00027228,\n",
              "        0.00027201, 0.00027117, 0.0002709 , 0.00027065, 0.00027   ,\n",
              "        0.0002695 , 0.00026887, 0.00026835, 0.00026779, 0.00026767,\n",
              "        0.00026752, 0.00026723, 0.00026645, 0.0002659 , 0.00026576,\n",
              "        0.00026502, 0.00026488, 0.0002644 , 0.00026406, 0.00026319,\n",
              "        0.000263  , 0.00026269, 0.00026214, 0.00026132, 0.00026088,\n",
              "        0.00026076, 0.00026021, 0.00025986, 0.00025955, 0.00025891,\n",
              "        0.0002584 , 0.00025792, 0.00025765, 0.0002575 , 0.00025723,\n",
              "        0.00025669, 0.0002565 , 0.00025595, 0.00025572, 0.00025542,\n",
              "        0.00025508, 0.00025458, 0.00025444, 0.00025412, 0.00025329,\n",
              "        0.00025303, 0.00025258, 0.00025248, 0.00025231, 0.00025185,\n",
              "        0.00025114, 0.00025099, 0.00025065, 0.00025006, 0.0002499 ,\n",
              "        0.00024935, 0.00024914, 0.00024881, 0.00024797, 0.00024747,\n",
              "        0.00024737, 0.00024675, 0.00024653, 0.00024635, 0.00024584,\n",
              "        0.00024554, 0.00024521, 0.00024485, 0.00024464, 0.00024352,\n",
              "        0.00024343, 0.00024291, 0.00024273, 0.00024224, 0.00024206,\n",
              "        0.00024153, 0.00024118, 0.00024054, 0.0002404 , 0.00024011,\n",
              "        0.00024002, 0.00023926, 0.00023899, 0.0002385 , 0.00023841,\n",
              "        0.00023818, 0.00023764, 0.0002373 , 0.00023708, 0.00023689,\n",
              "        0.00023669, 0.00023626, 0.00023574, 0.00023539, 0.00023538,\n",
              "        0.00023521, 0.00023423, 0.00023379, 0.00023353, 0.00023324,\n",
              "        0.000233  , 0.00023256, 0.00023221, 0.00023206, 0.00023182,\n",
              "        0.00023134, 0.00023091, 0.00023068, 0.00023048, 0.00023008,\n",
              "        0.00022958, 0.00022953, 0.00022912, 0.00022872, 0.00022857,\n",
              "        0.00022798, 0.00022788, 0.00022719, 0.00022699, 0.00022663,\n",
              "        0.0002263 , 0.00022583, 0.00022544, 0.00022523, 0.000225  ,\n",
              "        0.00022493, 0.00022426, 0.00022385, 0.00022365, 0.0002234 ,\n",
              "        0.00022298, 0.00022284, 0.00022236, 0.00022223, 0.00022169,\n",
              "        0.00022163, 0.00022116, 0.00022084, 0.00022061, 0.00022037,\n",
              "        0.00022   , 0.00021976, 0.00021941, 0.00021932, 0.00021877,\n",
              "        0.00021836, 0.00021831, 0.00021785, 0.00021745, 0.00021725,\n",
              "        0.00021685, 0.00021653, 0.00021622, 0.00021575, 0.00021556,\n",
              "        0.00021536, 0.00021486, 0.00021435, 0.000214  , 0.00021403,\n",
              "        0.00021348, 0.00021326, 0.00021295, 0.00021291, 0.00021247,\n",
              "        0.00021207, 0.00021198, 0.0002114 , 0.00021134, 0.00021088,\n",
              "        0.00021035, 0.00021007, 0.00020977, 0.00020927, 0.00020925,\n",
              "        0.00020882, 0.00020875, 0.00020812, 0.00020801, 0.00020783,\n",
              "        0.00020752, 0.00020739, 0.00020705, 0.00020668, 0.00020614,\n",
              "        0.00020603, 0.0002057 , 0.00020537, 0.00020506, 0.000205  ,\n",
              "        0.00020451, 0.00020441, 0.0002038 , 0.00020357, 0.00020331,\n",
              "        0.00020305, 0.00020287, 0.00020223, 0.00020221, 0.0002021 ,\n",
              "        0.00020179, 0.00020164, 0.00020133, 0.00020099, 0.00020061,\n",
              "        0.0002004 , 0.00020012, 0.00019968, 0.00019949, 0.00019943,\n",
              "        0.00019914, 0.00019876, 0.00019858, 0.00019835, 0.00019816,\n",
              "        0.00019775, 0.0001976 , 0.00019739, 0.00019702, 0.00019673,\n",
              "        0.00019633, 0.00019576, 0.00019563, 0.00019554, 0.00019546,\n",
              "        0.00019506, 0.00019495, 0.00019466, 0.00019427, 0.00019409,\n",
              "        0.00019362, 0.00019326, 0.00019321, 0.00019266, 0.00019247,\n",
              "        0.00019235, 0.00019211, 0.00019203, 0.00019139, 0.00019115,\n",
              "        0.00019115, 0.00019055, 0.00019033, 0.00018994, 0.00018974,\n",
              "        0.00018961, 0.00018922, 0.00018897, 0.00018859, 0.00018844,\n",
              "        0.0001882 , 0.000188  , 0.00018796, 0.00018742, 0.00018746,\n",
              "        0.00018716, 0.000187  , 0.00018644, 0.00018625, 0.00018605,\n",
              "        0.00018592, 0.0001858 , 0.00018517, 0.00018479, 0.00018475,\n",
              "        0.00018445, 0.00018426, 0.00018398, 0.00018395, 0.00018353,\n",
              "        0.00018313, 0.00018308, 0.00018264, 0.00018235, 0.00018204,\n",
              "        0.00018205, 0.0001818 , 0.00018149, 0.0001815 , 0.00018118,\n",
              "        0.00018096, 0.00018077, 0.00018039, 0.00018038, 0.00017948,\n",
              "        0.00017928, 0.00017927, 0.0001791 , 0.00017889, 0.00017871,\n",
              "        0.00017858, 0.00017812, 0.00017785, 0.00017743, 0.00017737,\n",
              "        0.00017732, 0.00017672, 0.00017671, 0.00017649, 0.00017623,\n",
              "        0.00017599, 0.00017585, 0.00017534, 0.00017516, 0.00017497,\n",
              "        0.00017464, 0.0001746 , 0.00017424, 0.00017402, 0.00017377,\n",
              "        0.00017334, 0.00017331, 0.0001728 , 0.00017271, 0.0001724 ,\n",
              "        0.00017198, 0.00017203, 0.00017163, 0.00017128, 0.00017113,\n",
              "        0.00017085, 0.00017093, 0.00017052, 0.00017047, 0.00016991,\n",
              "        0.00016956, 0.00016961, 0.00016934, 0.000169  , 0.00016881,\n",
              "        0.0001684 , 0.00016822, 0.00016831, 0.0001681 , 0.00016777,\n",
              "        0.00016749, 0.00016705, 0.00016686, 0.00016674, 0.0001663 ,\n",
              "        0.00016619, 0.00016605, 0.00016527, 0.00016521, 0.00016506,\n",
              "        0.00016503, 0.00016486, 0.00016428, 0.00016438, 0.000164  ,\n",
              "        0.00016386, 0.00016358, 0.0001633 , 0.00016326, 0.00016269,\n",
              "        0.0001625 , 0.00016226, 0.00016186, 0.00016186, 0.00016156,\n",
              "        0.00016154, 0.00016132, 0.00016101, 0.00016101, 0.00016076,\n",
              "        0.00016005, 0.00015991, 0.00015955, 0.00015944, 0.00015912,\n",
              "        0.00015916, 0.00015906, 0.00015861, 0.00015839, 0.00015809,\n",
              "        0.0001578 , 0.00015771, 0.00015743, 0.00015723, 0.00015682,\n",
              "        0.00015666, 0.0001565 , 0.00015618, 0.00015596, 0.00015588,\n",
              "        0.00015544, 0.00015546, 0.00015503, 0.0001549 , 0.00015456,\n",
              "        0.00015427, 0.00015413, 0.00015387, 0.00015351, 0.00015349,\n",
              "        0.00015338, 0.00015298, 0.0001526 , 0.00015249, 0.00015224,\n",
              "        0.00015154, 0.00015168, 0.0001511 , 0.00015102, 0.00015097,\n",
              "        0.0001509 , 0.00015062, 0.00015025, 0.00014996, 0.00014985,\n",
              "        0.0001498 , 0.00014949, 0.00014898, 0.00014883, 0.00014844,\n",
              "        0.00014818, 0.00014771, 0.00014786, 0.00014761, 0.0001471 ,\n",
              "        0.00014698, 0.00014656, 0.00014644, 0.0001462 , 0.00014559,\n",
              "        0.00014521, 0.00014527, 0.00014466, 0.00014474, 0.00014429,\n",
              "        0.00014419, 0.00014372, 0.00014341, 0.00014329, 0.0001429 ,\n",
              "        0.0001427 , 0.00014221, 0.00014207, 0.00014161, 0.00014134,\n",
              "        0.00014132, 0.00014069, 0.00014044, 0.0001403 , 0.00014023,\n",
              "        0.0001398 , 0.00013955, 0.0001391 , 0.00013886, 0.00013847,\n",
              "        0.00013829, 0.00013805, 0.00013747, 0.00013724, 0.00013691]),\n",
              " 2000: array([4.86485606e-02, 3.47089683e-02, 1.91300628e-02, ...,\n",
              "        6.01880783e-05, 5.99684411e-05, 5.97027236e-05]),\n",
              " 3000: array([4.86485606e-02, 3.47089683e-02, 1.91300628e-02, ...,\n",
              "        3.38910776e-05, 3.38900818e-05, 3.38172054e-05]),\n",
              " 4000: array([4.86485606e-02, 3.47089683e-02, 1.91300628e-02, ...,\n",
              "        2.18759037e-05, 2.18802106e-05, 2.18732140e-05]),\n",
              " 5000: array([4.86485606e-02, 3.47089683e-02, 1.91300628e-02, ...,\n",
              "        1.51373949e-05, 1.51249880e-05, 1.51045801e-05])}"
            ]
          },
          "metadata": {},
          "execution_count": 90
        }
      ]
    },
    {
      "cell_type": "code",
      "source": [
        "for key in variance_ratios.keys():\n",
        "  print(key, \":\",variance_ratios[key].sum())"
      ],
      "metadata": {
        "colab": {
          "base_uri": "https://localhost:8080/"
        },
        "id": "3B_OMZPDsiLh",
        "outputId": "e386954a-6181-4fc6-b540-12ffa8c72069"
      },
      "execution_count": 91,
      "outputs": [
        {
          "output_type": "stream",
          "name": "stdout",
          "text": [
            "1000 : 0.7446101200822379\n",
            "2000 : 0.8449047173720315\n",
            "3000 : 0.8950596527980478\n",
            "4000 : 0.9256326271888788\n",
            "5000 : 0.9461152150517474\n"
          ]
        }
      ]
    },
    {
      "cell_type": "code",
      "source": [
        "from sklearn.decomposition import TruncatedSVD\n",
        "svd = TruncatedSVD(n_components=4000, algorithm='randomized', n_iter=5, random_state=42)\n",
        "svd.fit(X_train_transformed0)\n",
        "X_train_svd = svd.transform(X_train_transformed0)\n",
        "X_test_svd = svd.transform(X_test_transformed0)"
      ],
      "metadata": {
        "id": "8-8GiFeaspwy"
      },
      "execution_count": 92,
      "outputs": []
    },
    {
      "cell_type": "code",
      "source": [
        "from sklearn.model_selection import GridSearchCV\n",
        "param_grid = {'C': [0.001, 0.01, 0.1, 0.5,1]}\n",
        "grid11 = GridSearchCV(LogisticRegression(max_iter=1000,class_weight='balanced'), param_grid, cv=5)\n",
        "grid11.fit(X_train_svd, y_train)\n",
        "print(\"Best cross-validation score: {:.2f}\".format(grid11.best_score_))\n",
        "print(\"Best parameters: \", grid11.best_params_)\n",
        "\n",
        "\n",
        "# Evaluate the accuracy of the model\n",
        "accuracy = grid11.score(X_test_svd, y_test)\n",
        "\n",
        "print(\"Accuracy:\", accuracy)"
      ],
      "metadata": {
        "colab": {
          "base_uri": "https://localhost:8080/"
        },
        "id": "GGBaOYgts7v-",
        "outputId": "2d30d295-8cc4-4aa0-8241-b7d3e2ac6e20"
      },
      "execution_count": 93,
      "outputs": [
        {
          "output_type": "stream",
          "name": "stdout",
          "text": [
            "Best cross-validation score: 0.80\n",
            "Best parameters:  {'C': 0.5}\n",
            "Accuracy: 0.8081598667776853\n"
          ]
        }
      ]
    },
    {
      "cell_type": "code",
      "source": [
        "from sklearn.metrics import precision_score, recall_score, accuracy_score,f1_score\n",
        "import seaborn as sns\n",
        "import matplotlib.pyplot as plt\n",
        "from sklearn.metrics import confusion_matrix\n",
        "\n",
        "# Use the trained model to make predictions on the testing data\n",
        "y_pred11 = grid11.predict(X_test_svd)\n",
        "\n",
        "# Calculate the precision, recall, and accuracy, F1-score of the model\n",
        "precision = precision_score(y_test, y_pred11)\n",
        "recall = recall_score(y_test, y_pred11)\n",
        "accuracy = accuracy_score(y_test, y_pred11)\n",
        "f1 = f1_score(y_test, y_pred11)\n",
        "\n",
        "\n",
        "print(\"Precision:\", precision)\n",
        "print(\"Recall:\", recall)\n",
        "print(\"Accuracy:\", accuracy)\n",
        "print(\"F1-score:\", f1)\n",
        "\n",
        "# Compute the confusion matrix\n",
        "confusion_matrix = confusion_matrix(y_test, y_pred11)\n",
        "\n",
        "# Define class labels for the plot\n",
        "class_names = ['Class 0', 'Class 1']\n",
        "\n",
        "# Plot the confusion matrix using seaborn\n",
        "sns.heatmap(confusion_matrix, cmap='Blues', annot=True, fmt='d', xticklabels=class_names, yticklabels=class_names)\n",
        "\n",
        "# Set the plot title and axis labels\n",
        "plt.title('Confusion Matrix')\n",
        "plt.xlabel('Predicted Label')\n",
        "plt.ylabel('True Label')\n",
        "\n",
        "plt.show()"
      ],
      "metadata": {
        "colab": {
          "base_uri": "https://localhost:8080/",
          "height": 541
        },
        "id": "GRVXTIM1s84B",
        "outputId": "acac53e0-5941-46eb-d1ab-e05e26009e7f"
      },
      "execution_count": 95,
      "outputs": [
        {
          "output_type": "stream",
          "name": "stdout",
          "text": [
            "Precision: 0.8689275893675527\n",
            "Recall: 0.7973086627417998\n",
            "Accuracy: 0.8081598667776853\n",
            "F1-score: 0.831578947368421\n"
          ]
        },
        {
          "output_type": "display_data",
          "data": {
            "text/plain": [
              "<Figure size 640x480 with 2 Axes>"
            ],
            "image/png": "[encoded data removed]"
          },
          "metadata": {}
        }
      ]
    }
  ],
  "metadata": {
    "colab": {
      "provenance": []
    },
    "kernelspec": {
      "display_name": "Python 3",
      "name": "python3"
    },
    "language_info": {
      "name": "python"
    }
  },
  "nbformat": 4,
  "nbformat_minor": 0
}